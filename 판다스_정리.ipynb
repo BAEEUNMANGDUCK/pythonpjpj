{
  "nbformat": 4,
  "nbformat_minor": 0,
  "metadata": {
    "colab": {
      "provenance": [],
      "authorship_tag": "ABX9TyPgw9vok1+Idi5bCr65yhCS",
      "include_colab_link": true
    },
    "kernelspec": {
      "name": "python3",
      "display_name": "Python 3"
    },
    "language_info": {
      "name": "python"
    }
  },
  "cells": [
    {
      "cell_type": "markdown",
      "metadata": {
        "id": "view-in-github",
        "colab_type": "text"
      },
      "source": [
        "<a href=\"https://colab.research.google.com/github/BAEEUNMANGDUCK/pythonpjpj/blob/main/%ED%8C%90%EB%8B%A4%EC%8A%A4_%EC%A0%95%EB%A6%AC.ipynb\" target=\"_parent\"><img src=\"https://colab.research.google.com/assets/colab-badge.svg\" alt=\"Open In Colab\"/></a>"
      ]
    },
    {
      "cell_type": "markdown",
      "source": [
        "# **판다스 자료구조**"
      ],
      "metadata": {
        "id": "GnJhNcAXyQtP"
      }
    },
    {
      "cell_type": "markdown",
      "source": [
        "**1)시리즈: 1차원 배열**"
      ],
      "metadata": {
        "id": "zJXvXQBQyaMN"
      }
    },
    {
      "cell_type": "markdown",
      "source": [
        "  딕셔너리 → 시리즈 변환: pandas.Series(딕셔너리)"
      ],
      "metadata": {
        "id": "VYPaHr1Ly3qi"
      }
    },
    {
      "cell_type": "code",
      "execution_count": null,
      "metadata": {
        "colab": {
          "base_uri": "https://localhost:8080/"
        },
        "id": "3Pp7EQfKw9tj",
        "outputId": "b43cba20-ddf3-4185-8fe1-64fd46e1fee5"
      },
      "outputs": [
        {
          "output_type": "stream",
          "name": "stdout",
          "text": [
            "<class 'pandas.core.series.Series'>\n",
            "\n",
            "\n",
            "a    1\n",
            "b    2\n",
            "c    3\n",
            "dtype: int64\n"
          ]
        }
      ],
      "source": [
        "#딕셔너리 => 시리즈 변환\n",
        "\n",
        "import pandas as pd\n",
        "\n",
        "# key: value 쌍으로 딕셔너리를 만들고, 변수 dict_data에 저장 \n",
        "\n",
        "dict_data = {'a': 1, 'b':2, 'c': 3}\n",
        "\n",
        "# 판다스 Series() 함수로 dictionary를 Series로 변환, 변수 sr에 저장 \n",
        "\n",
        "sr = pd.Series(dict_data) \n",
        "\n",
        "# sr의 자료형 출력 \n",
        "\n",
        "print(type(sr)) #<class 'pandas.core.series.Series'>\n",
        "print('\\n')\n",
        "\n",
        "# 변수 sr에 저장되어 있는 시리즈 객체를 출력 \n",
        "\n",
        "print(sr)"
      ]
    },
    {
      "cell_type": "markdown",
      "source": [
        "인덱스 → 정수형 위치 인덱스(default) or 인덱스 이름\n",
        "\n"
      ],
      "metadata": {
        "id": "XpFVNz2z0lsE"
      }
    },
    {
      "cell_type": "code",
      "source": [
        "import pandas as pd\n",
        "\n",
        "# 리스트를 시리즈로 변환하여 sr에 저장 \n",
        "\n",
        "list_data = ['2019-01-02',3.14,'ABC',100,True]\n",
        "sr = pd.Series(list_data)\n",
        "print(sr)"
      ],
      "metadata": {
        "colab": {
          "base_uri": "https://localhost:8080/"
        },
        "id": "mZfQQ_t9z9D8",
        "outputId": "b236814c-21ae-4a2b-a8ab-f29ec15a173c"
      },
      "execution_count": null,
      "outputs": [
        {
          "output_type": "stream",
          "name": "stdout",
          "text": [
            "0    2019-01-02\n",
            "1          3.14\n",
            "2           ABC\n",
            "3           100\n",
            "4          True\n",
            "dtype: object\n"
          ]
        }
      ]
    },
    {
      "cell_type": "markdown",
      "source": [
        "- 인덱스 배열 : Series객체.index\n",
        "- 데이터 값 배열 : Series객체.values"
      ],
      "metadata": {
        "id": "e1HfaI801W5x"
      }
    },
    {
      "cell_type": "code",
      "source": [
        "# 인덱스 배열은 변수 idx에 저장, 데이터 값 배열은 변수 val에 저장 \n",
        "\n",
        "idx = sr.index\n",
        "val = sr.values\n",
        "print(idx)\n",
        "print('\\n')\n",
        "print(val)"
      ],
      "metadata": {
        "colab": {
          "base_uri": "https://localhost:8080/"
        },
        "id": "UvGdvNfH1M4d",
        "outputId": "ad3d3466-f4d6-4ce2-cd52-d7801f586b8c"
      },
      "execution_count": null,
      "outputs": [
        {
          "output_type": "stream",
          "name": "stdout",
          "text": [
            "RangeIndex(start=0, stop=5, step=1)\n",
            "\n",
            "\n",
            "['2019-01-02' 3.14 'ABC' 100 True]\n"
          ]
        }
      ]
    },
    {
      "cell_type": "code",
      "source": [
        "# 원소 선택 => 정수형 위치 인덱스나 인덱스 이름을 이용해서, 하나의 원소 또는, 슬라이싱 가능 \n",
        "\n",
        "import pandas as pd \n",
        "\n",
        "# 튜플을 시리즈로 변환(인덱스 옵션 지정)\n",
        "\n",
        "tup_data = ('영인', '2010-05-01', '여', True)\n",
        "sr = pd.Series(tup_data,index=['이름','생년월일','성별','학생여부'])\n",
        "print(sr)"
      ],
      "metadata": {
        "colab": {
          "base_uri": "https://localhost:8080/"
        },
        "id": "ZlYzhFiv1mPU",
        "outputId": "15a1aab7-37fd-4271-ab29-4ac28b4c3f51"
      },
      "execution_count": null,
      "outputs": [
        {
          "output_type": "stream",
          "name": "stdout",
          "text": [
            "이름              영인\n",
            "생년월일    2010-05-01\n",
            "성별               여\n",
            "학생여부          True\n",
            "dtype: object\n"
          ]
        }
      ]
    },
    {
      "cell_type": "code",
      "source": [
        "# 원소를 1개 선택 \n",
        "\n",
        "print(sr[0]) # sr의 1번째 원소를 선택(정수형 위치 인덱스)\n",
        "print(sr['이름']) # '이름' 라벨을 가진 원소를 선택(인덱스 이름)"
      ],
      "metadata": {
        "colab": {
          "base_uri": "https://localhost:8080/"
        },
        "id": "LQzHgGTi2Yzv",
        "outputId": "43461d19-66d1-4f1f-a4ef-0770b894ab02"
      },
      "execution_count": null,
      "outputs": [
        {
          "output_type": "stream",
          "name": "stdout",
          "text": [
            "영인\n",
            "영인\n"
          ]
        }
      ]
    },
    {
      "cell_type": "code",
      "source": [
        "# 여러 개의 원소를 선택(인덱스 리스트 활용)\n",
        "\n",
        "print(sr[[1,2]])\n",
        "print('\\n')\n",
        "print(sr[['생년월일','성별']])\n"
      ],
      "metadata": {
        "colab": {
          "base_uri": "https://localhost:8080/"
        },
        "id": "oPgtjgZ-208G",
        "outputId": "594b846f-ca5d-48eb-c679-e21d5484893c"
      },
      "execution_count": null,
      "outputs": [
        {
          "output_type": "stream",
          "name": "stdout",
          "text": [
            "생년월일    2010-05-01\n",
            "성별               여\n",
            "dtype: object\n",
            "\n",
            "\n",
            "생년월일    2010-05-01\n",
            "성별               여\n",
            "dtype: object\n"
          ]
        }
      ]
    },
    {
      "cell_type": "code",
      "source": [
        "# 여러 개의 우너소를 선택(인덱스 범위 지정)\n",
        "\n",
        "print(sr[1 : 2])\n",
        "print('\\n')\n",
        "print(sr[\"생년월일\":\"성별\"])"
      ],
      "metadata": {
        "colab": {
          "base_uri": "https://localhost:8080/"
        },
        "id": "Q5aT8G343JvI",
        "outputId": "43bc5fd9-bed3-4574-806c-6c110839b1b6"
      },
      "execution_count": null,
      "outputs": [
        {
          "output_type": "stream",
          "name": "stdout",
          "text": [
            "생년월일    2010-05-01\n",
            "dtype: object\n",
            "\n",
            "\n",
            "생년월일    2010-05-01\n",
            "성별               여\n",
            "dtype: object\n"
          ]
        }
      ]
    },
    {
      "cell_type": "markdown",
      "source": [
        " **2)데이터프레임: 2차원 배열**"
      ],
      "metadata": {
        "id": "O0vDMmPJ5HPK"
      }
    },
    {
      "cell_type": "markdown",
      "source": [
        "딕셔너리 → 데이터프레임 변환: pandas.DataFrame( 딕셔너리 객체 )\n"
      ],
      "metadata": {
        "id": "IhKP5vpB57f-"
      }
    },
    {
      "cell_type": "code",
      "source": [
        "# 딕셔너리 => 데이터프레임 변환\n",
        "\n",
        "import pandas as pd\n",
        "\n",
        "# 열이름을 key로 하고, 리스트를 value로 갖는 딕셔너리 정의(2차원 배열)\n",
        "\n",
        "dict_data = {'co':[1,2,3],'c1':[4,5,6],'c2':[7,8,9],'c3':[10,11,12],'c4':[13,14,15]}\n",
        "\n",
        "# 판다스 DataFrame()  함수로 딕셔너리를 value로 갖는 딕셔너리 정의(2차원 배열)\n",
        "\n",
        "df = pd.DataFrame(dict_data)\n",
        "\n",
        "#df 자료형 출력\n",
        "\n",
        "print(type(df))\n",
        "print('\\n')\n",
        "\n",
        "# 변수 df에 저장되어 있는 데이터프레임 객체를 출력 \n",
        "print(df)\n",
        "\n",
        "\n"
      ],
      "metadata": {
        "colab": {
          "base_uri": "https://localhost:8080/"
        },
        "id": "1kpzh6KQ3ryK",
        "outputId": "622a8186-e08a-4e9d-a99b-0ec38232936f"
      },
      "execution_count": null,
      "outputs": [
        {
          "output_type": "stream",
          "name": "stdout",
          "text": [
            "<class 'pandas.core.frame.DataFrame'>\n",
            "\n",
            "\n",
            "   co  c1  c2  c3  c4\n",
            "0   1   4   7  10  13\n",
            "1   2   5   8  11  14\n",
            "2   3   6   9  12  15\n"
          ]
        }
      ]
    },
    {
      "cell_type": "markdown",
      "source": [
        "행 인덱스/열 이름 설정: pandas.DataFrame( 2차원 배열, index=행 인덱스 배열, columns=열 이름 배열 ) \n"
      ],
      "metadata": {
        "id": "1oz9Ml4g69l8"
      }
    },
    {
      "cell_type": "code",
      "source": [
        "# 행 인덱스/ 열 이름 설정 \n",
        "\n",
        "import pandas as pd\n",
        "\n",
        "# 행 인덱스/ 열 이름 지정하여 데이터 프레임 만들기\n",
        "\n",
        "df = pd.DataFrame([[15,'남','덕영중'], ['17', '여', '수리중']], index = ['준서', '예은'], columns=['나이','성별', '학교'])\n",
        "\n",
        "# 행 인덱스, 열 이름 확인하기\n",
        "\n",
        "print(df) # 데이터 프레임 \n",
        "print('\\n')\n",
        "print(df.index) # 행 인덱스 \n",
        "print('\\n')\n",
        "print(df.columns) # 열 이름 \n"
      ],
      "metadata": {
        "colab": {
          "base_uri": "https://localhost:8080/"
        },
        "id": "a0XuHnzf6zFL",
        "outputId": "72a6ee6f-419c-4442-b76b-6bdcc7acae81"
      },
      "execution_count": null,
      "outputs": [
        {
          "output_type": "stream",
          "name": "stdout",
          "text": [
            "    나이 성별   학교\n",
            "준서  15  남  덕영중\n",
            "예은  17  여  수리중\n",
            "\n",
            "\n",
            "Index(['준서', '예은'], dtype='object')\n",
            "\n",
            "\n",
            "Index(['나이', '성별', '학교'], dtype='object')\n"
          ]
        }
      ]
    },
    {
      "cell_type": "markdown",
      "source": [
        "- 행 인덱스 변경: DataFrame객체.index = 새로운 행 인덱스 배열 \n",
        "- 열 이름 변경: DataFrame객체.columns = 새로운 열 이름 배열 "
      ],
      "metadata": {
        "id": "f5fr3Huc83Jb"
      }
    },
    {
      "cell_type": "code",
      "source": [
        "# 행 인덱스, 열 이름 변경하기 \n",
        "\n",
        "df.index = ['학생1', '학생2']\n",
        "df.columns = ['연령','남여','소속']\n",
        "\n",
        "print(df)   # 데이터프레임\n",
        "print('\\n')\n",
        "print(df.index) # 행 인덱스 \n",
        "print('\\n')\n",
        "print(df.columns) # 열 이름 "
      ],
      "metadata": {
        "colab": {
          "base_uri": "https://localhost:8080/"
        },
        "id": "oGG6uQ5b8PFK",
        "outputId": "315475d1-1b72-4ee8-ca6c-a2228a9ed9c2"
      },
      "execution_count": null,
      "outputs": [
        {
          "output_type": "stream",
          "name": "stdout",
          "text": [
            "     연령 남여   소속\n",
            "학생1  15  남  덕영중\n",
            "학생2  17  여  수리중\n",
            "\n",
            "\n",
            "Index(['학생1', '학생2'], dtype='object')\n",
            "\n",
            "\n",
            "Index(['연령', '남여', '소속'], dtype='object')\n"
          ]
        }
      ]
    },
    {
      "cell_type": "markdown",
      "source": [
        "- 행 인덱스 변경: DataFrame객체.rename(index={기존 인덱스: 새 인덱스, ......}) \n",
        "- 열 이름 변경: DataFrame객체.rename(columns={기존 이름: 새 이름,...})"
      ],
      "metadata": {
        "id": "Byl3bGl79pSh"
      }
    },
    {
      "cell_type": "code",
      "source": [
        "# 행 인덱스 열 이름 변경(rename 메소드 사용)\n",
        "\n",
        "import pandas as pd\n",
        "\n",
        "# 행 인덱스/열 이름 지정하여 데이터프레임 만들기 \n",
        "\n",
        "df = pd.DataFrame([[15, '남', '덕영중'],[17, '여', '수리중']], index = ['준서', '예은'], columns =['나이', '성별', '학교'])\n",
        "\n",
        "# 데이터프레임 df 출력\n",
        "\n",
        "print(df)\n",
        "print('\\n')\n",
        "\n",
        "# 열 이름 중, '나이'를 '연령'으로, '성별'을 '남녀'로 '학교'를 '소속'으로 바꾸기 \n",
        "\n",
        "df.rename(columns={'나이':'연령', '성별':'남녀', '학교':'소속'}, inplace=True)\n",
        "\n",
        "# df의 행 인덱스 중에서, '준서'를 '학생1'로 '예은'을 '학생2'로 바꾸기 \n",
        "\n",
        "df.rename(index={'준서':'학생1', '예은':'학생2'}, inplace=True)\n",
        "\n",
        "# df 출력(변경 후 )\n",
        "\n",
        "print(df)\n"
      ],
      "metadata": {
        "colab": {
          "base_uri": "https://localhost:8080/"
        },
        "id": "I_Y5eP3V9ZQu",
        "outputId": "234f6fb1-ad4d-46f6-b0ed-cdb48c74356e"
      },
      "execution_count": null,
      "outputs": [
        {
          "output_type": "stream",
          "name": "stdout",
          "text": [
            "    나이 성별   학교\n",
            "준서  15  남  덕영중\n",
            "예은  17  여  수리중\n",
            "\n",
            "\n",
            "     연령 남녀   소속\n",
            "학생1  15  남  덕영중\n",
            "학생2  17  여  수리중\n"
          ]
        }
      ]
    },
    {
      "cell_type": "markdown",
      "source": [
        "행/열 삭제\n"
      ],
      "metadata": {
        "id": "mbLULYkG_efZ"
      }
    },
    {
      "cell_type": "markdown",
      "source": [
        "- 행 삭제: DataFrame객체.drop(행 인덱스 또는 배열, axis = 0)\n",
        "- 열 삭제: DataFrame객체.drop(열 이름 또는 배열, axis = 1)"
      ],
      "metadata": {
        "id": "vT-oM6EY_gJq"
      }
    },
    {
      "cell_type": "code",
      "source": [
        "import pandas as pd\n",
        "\n",
        "# DataFrame() 함수로 데이터프레임 변환, 변수 df에 저장 \n",
        "\n",
        "exam_data = {'수학':[90, 80, 70],\n",
        "             '영어':[98, 89, 95],\n",
        "             '음악':[85, 95, 100],\n",
        "             '체육':[100, 90, 90]}\n",
        "\n",
        "df = pd.DataFrame(exam_data, index = ['서준', '우현', '인아'])  \n",
        "print(df) \n",
        "print('\\n')         \n",
        "\n",
        "# 데이터프레임 df를 복제하여 변수 df2에 저장, df2의 1개 행(row) 삭제 \n",
        "\n",
        "df2 = df[:]\n",
        "df2.drop('우현', inplace=True)\n",
        "print(df2)\n",
        "print('\\n')\n",
        "\n",
        "# 데이터프레임 df를 복제하여 변수 df3에 저장, df3의 2개 행(삭제)\n",
        "\n",
        "df3 = df[:]\n",
        "df3.drop(['우현', '인아'], inplace=True)\n",
        "print(df3)\n"
      ],
      "metadata": {
        "colab": {
          "base_uri": "https://localhost:8080/"
        },
        "id": "DU-idvKj-kQD",
        "outputId": "fc78e8a6-fde7-4cdc-9f87-4261061093ba"
      },
      "execution_count": null,
      "outputs": [
        {
          "output_type": "stream",
          "name": "stdout",
          "text": [
            "    수학  영어   음악   체육\n",
            "서준  90  98   85  100\n",
            "우현  80  89   95   90\n",
            "인아  70  95  100   90\n",
            "\n",
            "\n",
            "    수학  영어   음악   체육\n",
            "서준  90  98   85  100\n",
            "인아  70  95  100   90\n",
            "\n",
            "\n",
            "    수학  영어  음악   체육\n",
            "서준  90  98  85  100\n"
          ]
        },
        {
          "output_type": "stream",
          "name": "stderr",
          "text": [
            "<ipython-input-17-120fcbaa2a76>:17: SettingWithCopyWarning: \n",
            "A value is trying to be set on a copy of a slice from a DataFrame\n",
            "\n",
            "See the caveats in the documentation: https://pandas.pydata.org/pandas-docs/stable/user_guide/indexing.html#returning-a-view-versus-a-copy\n",
            "  df2.drop('우현', inplace=True)\n",
            "<ipython-input-17-120fcbaa2a76>:24: SettingWithCopyWarning: \n",
            "A value is trying to be set on a copy of a slice from a DataFrame\n",
            "\n",
            "See the caveats in the documentation: https://pandas.pydata.org/pandas-docs/stable/user_guide/indexing.html#returning-a-view-versus-a-copy\n",
            "  df3.drop(['우현', '인아'], inplace=True)\n"
          ]
        }
      ]
    },
    {
      "cell_type": "code",
      "source": [
        "# 열 삭제 \n",
        "\n",
        "import pandas as pd\n",
        "\n",
        "\n",
        "# DataFrame() 함수로 데이터프레임 변환, 변수 df에 저장 \n",
        "\n",
        "exam_data = {'수학':[90,80,70],\n",
        "             '영어':[98,89,95],\n",
        "             '음악':[85, 95, 100],\n",
        "             '체육':[100, 90, 90]}\n",
        "\n",
        "df = pd.DataFrame(exam_data, index = ['서준', '우현', '인아'])\n",
        "print(df)\n",
        "print('\\n')\n",
        "# 데이터프레임 df에 복제하여 변수 df4에 저장, df4의 1개 열(column) 삭제 \n",
        "\n",
        "df4 = df.copy()\n",
        "df4.drop('수학',axis=1, inplace=True)\n",
        "print(df4)\n",
        "print('\\n')\n",
        "\n",
        "# 데이터프레임 df에 복제하여 변수 df5에 저장, df5 2개 열 (column) 삭제 \n",
        "\n",
        "df5 = df.copy()\n",
        "df5.drop(['영어', '음악'], axis = 1, inplace=True)\n",
        "print(df5)"
      ],
      "metadata": {
        "colab": {
          "base_uri": "https://localhost:8080/"
        },
        "id": "ZnkcLEDrAbB1",
        "outputId": "b2d795e5-0bee-482f-db00-d0ad6fead50b"
      },
      "execution_count": null,
      "outputs": [
        {
          "output_type": "stream",
          "name": "stdout",
          "text": [
            "    수학  영어   음악   체육\n",
            "서준  90  98   85  100\n",
            "우현  80  89   95   90\n",
            "인아  70  95  100   90\n",
            "\n",
            "\n",
            "    영어   음악   체육\n",
            "서준  98   85  100\n",
            "우현  89   95   90\n",
            "인아  95  100   90\n",
            "\n",
            "\n",
            "    수학   체육\n",
            "서준  90  100\n",
            "우현  80   90\n",
            "인아  70   90\n"
          ]
        }
      ]
    },
    {
      "cell_type": "markdown",
      "source": [
        "행 선택→ 인덱스 이름 기준(loc), 정수형 위치 인덱스(iloc)\n"
      ],
      "metadata": {
        "id": "It2sHLWrEqlO"
      }
    },
    {
      "cell_type": "code",
      "source": [
        "# 행 선택 \n",
        "\n",
        "import pandas as pd\n",
        "\n",
        "# DataFrame() 함수로 데이터프레임 변환, 변수 df에 저장 \n",
        "\n",
        "exam_data = {'수학':[90, 80, 70],\n",
        "             '영어':[98, 89, 95],\n",
        "             '음악':[85, 95, 100],\n",
        "             '체육':[100, 90, 90]\n",
        "}\n",
        "\n",
        "df = pd.DataFrame(exam_data, index=['서준', '우현', '인아'])\n",
        "print(df)\n",
        "print('\\n')\n",
        "\n",
        "# 행 인덱스를 사용하여 행 1개 선택 \n",
        "\n",
        "label1 = df.loc['서준']\n",
        "print(label1)\n",
        "print('\\n')\n",
        "position1 = df.iloc[0]\n",
        "print(position1)\n",
        "print('\\n')"
      ],
      "metadata": {
        "colab": {
          "base_uri": "https://localhost:8080/"
        },
        "id": "w7uURPwUE8io",
        "outputId": "9b27bce8-8069-4c62-bd67-940393dd2abf"
      },
      "execution_count": null,
      "outputs": [
        {
          "output_type": "stream",
          "name": "stdout",
          "text": [
            "    수학  영어   음악   체육\n",
            "서준  90  98   85  100\n",
            "우현  80  89   95   90\n",
            "인아  70  95  100   90\n",
            "\n",
            "\n",
            "수학     90\n",
            "영어     98\n",
            "음악     85\n",
            "체육    100\n",
            "Name: 서준, dtype: int64\n",
            "\n",
            "\n",
            "수학     90\n",
            "영어     98\n",
            "음악     85\n",
            "체육    100\n",
            "Name: 서준, dtype: int64\n",
            "\n",
            "\n"
          ]
        }
      ]
    },
    {
      "cell_type": "code",
      "source": [
        "# 행 인덱스를 사용하여 2개 이상의 행 선택 \n",
        "\n",
        "label2 = df.loc[['서준', '우현']]\n",
        "position2 = df.iloc[[0, 1]]\n",
        "print(label2)\n",
        "print('\\n')\n",
        "print(position2)"
      ],
      "metadata": {
        "colab": {
          "base_uri": "https://localhost:8080/"
        },
        "id": "4xnLlqz-CNSk",
        "outputId": "9aa930da-e3cf-482b-8fe6-03ac145de3bb"
      },
      "execution_count": null,
      "outputs": [
        {
          "output_type": "stream",
          "name": "stdout",
          "text": [
            "    수학  영어  음악   체육\n",
            "서준  90  98  85  100\n",
            "우현  80  89  95   90\n",
            "\n",
            "\n",
            "    수학  영어  음악   체육\n",
            "서준  90  98  85  100\n",
            "우현  80  89  95   90\n"
          ]
        }
      ]
    },
    {
      "cell_type": "code",
      "source": [
        "# 행 인덱스의 범위를 지정하여 행 선택(슬라이싱)\n",
        "\n",
        "label3 = df.loc['서준':'우현']\n",
        "position3 = df.iloc[0:1]\n",
        "print(label3)\n",
        "print('\\n')\n",
        "print(position3)"
      ],
      "metadata": {
        "colab": {
          "base_uri": "https://localhost:8080/"
        },
        "id": "7YiCmcAUGHRz",
        "outputId": "3f311b5b-32f9-4152-ca25-2a799af804da"
      },
      "execution_count": null,
      "outputs": [
        {
          "output_type": "stream",
          "name": "stdout",
          "text": [
            "    수학  영어  음악   체육\n",
            "서준  90  98  85  100\n",
            "우현  80  89  95   90\n",
            "\n",
            "\n",
            "    수학  영어  음악   체육\n",
            "서준  90  98  85  100\n"
          ]
        }
      ]
    },
    {
      "cell_type": "markdown",
      "source": [
        "열 선택 \n",
        "- 열 1개 선택(시리즈 생성): DataFrame객체[\"열 이름\"] or DataFrame객체.열 이름 \n",
        "\n",
        "- 열 n개 선택(데이터프레임 생성): DataFrame객체[[열1,열2.... 열n]]"
      ],
      "metadata": {
        "id": "NwMA0_gDGrik"
      }
    },
    {
      "cell_type": "code",
      "source": [
        "import pandas as pd\n",
        "\n",
        "# DataFrame() 함수로 데이터프레임 변환, 변소 df에 저장 \n",
        "\n",
        "exam_data = {'이름':['서준','우현','인아'],\n",
        "             '수학': [90, 80, 70],\n",
        "             '영어': [98, 89, 95],\n",
        "             '음악': [85, 95, 100],\n",
        "             '체육': [100, 90, 90]\n",
        "             }\n",
        "\n",
        "df = pd.DataFrame(exam_data)\n",
        "print(df)\n",
        "print(type(df))\n",
        "print('\\n')\n",
        "\n",
        "# '수학' 점수 데이터만 선택, 변수 math1에 저장 \n",
        "math1 = df['수학']\n",
        "print(math1)\n",
        "print(type(math1))\n",
        "print('\\n')\n",
        "\n",
        "# '영어' 점수 데이터만 선택, 변수 english에 저장 \n",
        "\n",
        "english = df.영어\n",
        "print(english)\n",
        "print(type(english))"
      ],
      "metadata": {
        "colab": {
          "base_uri": "https://localhost:8080/"
        },
        "id": "KylvYIs2GjvZ",
        "outputId": "b898cfb8-3c38-4d1e-c1e7-aab847581441"
      },
      "execution_count": null,
      "outputs": [
        {
          "output_type": "stream",
          "name": "stdout",
          "text": [
            "   이름  수학  영어   음악   체육\n",
            "0  서준  90  98   85  100\n",
            "1  우현  80  89   95   90\n",
            "2  인아  70  95  100   90\n",
            "<class 'pandas.core.frame.DataFrame'>\n",
            "\n",
            "\n",
            "0    90\n",
            "1    80\n",
            "2    70\n",
            "Name: 수학, dtype: int64\n",
            "<class 'pandas.core.series.Series'>\n",
            "\n",
            "\n",
            "0    98\n",
            "1    89\n",
            "2    95\n",
            "Name: 영어, dtype: int64\n",
            "<class 'pandas.core.series.Series'>\n"
          ]
        }
      ]
    },
    {
      "cell_type": "code",
      "source": [
        "\n",
        "# '음악', '체육' 점수 데이터를 선택, 변소 music_gym에 저장 \n",
        "\n",
        "music_gym = df[['음악','체육']]\n",
        "print(music_gym)\n",
        "print(type(music_gym))\n",
        "print('\\n')\n",
        "\n",
        "#'수학' 전수 데이터만 선택, 변수 math2에 저장 \n",
        "\n",
        "math2 = df[['수학']]\n",
        "print(math2)\n",
        "print(type(math2))"
      ],
      "metadata": {
        "colab": {
          "base_uri": "https://localhost:8080/"
        },
        "id": "CEHS0AAGHpoc",
        "outputId": "52a3cde4-65bc-413d-b9b1-acf6dfd30b47"
      },
      "execution_count": null,
      "outputs": [
        {
          "output_type": "stream",
          "name": "stdout",
          "text": [
            "    음악   체육\n",
            "0   85  100\n",
            "1   95   90\n",
            "2  100   90\n",
            "<class 'pandas.core.frame.DataFrame'>\n",
            "\n",
            "\n",
            "   수학\n",
            "0  90\n",
            "1  80\n",
            "2  70\n",
            "<class 'pandas.core.frame.DataFrame'>\n"
          ]
        }
      ]
    },
    {
      "cell_type": "markdown",
      "source": [
        "원소 선택 "
      ],
      "metadata": {
        "id": "UNRzu-wiK-3t"
      }
    },
    {
      "cell_type": "code",
      "source": [
        "import pandas as pd\n",
        "\n",
        "# DataFrame() 함수로 데이터프레임 변환, 변수 df에 저장 \n",
        "\n",
        "exam_data = { '이름':['서준', '우현', '인아'],\n",
        "             '수학': [90, 80, 70],\n",
        "             '영어': [98, 89, 95], \n",
        "             '음악': [85, 95, 100],\n",
        "             '체육': [100, 90, 90]\n",
        "}\n",
        "\n",
        "# '이름' 열을 새로운 인덱스로 지칭하고, df 객체에 변경사항 반영 \n",
        "df.set_index('이름', inplace=True)\n",
        "print(df)\n"
      ],
      "metadata": {
        "colab": {
          "base_uri": "https://localhost:8080/"
        },
        "id": "Ou7Yj9VgIxGn",
        "outputId": "3e262b83-ef69-4883-b0a2-c3764014a852"
      },
      "execution_count": null,
      "outputs": [
        {
          "output_type": "stream",
          "name": "stdout",
          "text": [
            "    수학  영어   음악   체육\n",
            "이름                  \n",
            "서준  90  98   85  100\n",
            "우현  80  89   95   90\n",
            "인아  70  95  100   90\n"
          ]
        }
      ]
    },
    {
      "cell_type": "code",
      "source": [
        "# 데이터프레임 df의 특정 원소 1개 선택('서준'의 '음악' 점수)\n",
        "\n",
        "a = df.loc['서준','음악']\n",
        "print(a)\n",
        "print('\\n')\n",
        "b = df.iloc[0, 2]\n",
        "print(b)"
      ],
      "metadata": {
        "colab": {
          "base_uri": "https://localhost:8080/"
        },
        "id": "dsVh_z2aLHrr",
        "outputId": "862a56ed-92df-4c22-db3e-f91ed5f35241"
      },
      "execution_count": null,
      "outputs": [
        {
          "output_type": "stream",
          "name": "stdout",
          "text": [
            "85\n",
            "\n",
            "\n",
            "85\n"
          ]
        }
      ]
    },
    {
      "cell_type": "code",
      "source": [
        "# 데이터프레임 df의 원소 2개 이상 선택('서준'의 '음악', '체육' 점수)\n",
        "\n",
        "c = df.loc['서준', ['음악','체육']]\n",
        "print(c)\n",
        "print('\\n')\n",
        "d = df.iloc[0, [2,3]]\n",
        "print(d)\n",
        "print('\\n')\n",
        "e = df.loc['서준', '음악':'체육']\n",
        "print(e)\n",
        "print('\\n')\n",
        "f = df.iloc[0, 2:]\n",
        "print(f)"
      ],
      "metadata": {
        "colab": {
          "base_uri": "https://localhost:8080/"
        },
        "id": "V1vFBjdJLgz9",
        "outputId": "9f43b03c-7622-4dde-bc7b-299f65e41fb0"
      },
      "execution_count": null,
      "outputs": [
        {
          "output_type": "stream",
          "name": "stdout",
          "text": [
            "음악     85\n",
            "체육    100\n",
            "Name: 서준, dtype: int64\n",
            "\n",
            "\n",
            "음악     85\n",
            "체육    100\n",
            "Name: 서준, dtype: int64\n",
            "\n",
            "\n",
            "음악     85\n",
            "체육    100\n",
            "Name: 서준, dtype: int64\n",
            "\n",
            "\n",
            "음악     85\n",
            "체육    100\n",
            "Name: 서준, dtype: int64\n"
          ]
        }
      ]
    },
    {
      "cell_type": "code",
      "source": [
        "# df 2개 이상의 행과 열에 속하는 원소들 선택('서준', '우현'의 '음악', '체육' 점수)\n",
        "\n",
        "g = df.loc[['서준','우현'], ['음악','체육']]\n",
        "print(g)\n",
        "print('\\n')\n",
        "\n",
        "h = df.iloc[[0,1],[2,3]]\n",
        "print(h)\n",
        "print('\\n')\n",
        "\n",
        "i = df.loc['서준':'우현', '음악':'체육']\n",
        "print(i)\n",
        "print('\\n')\n",
        "\n",
        "j = df.iloc[0:2, 2:]\n",
        "print(j)\n",
        "print('\\n')\n"
      ],
      "metadata": {
        "colab": {
          "base_uri": "https://localhost:8080/"
        },
        "id": "NxhXnMhzML5O",
        "outputId": "bc5bd798-53e3-44b5-b91f-e0d6ce20a2c3"
      },
      "execution_count": null,
      "outputs": [
        {
          "output_type": "stream",
          "name": "stdout",
          "text": [
            "    음악   체육\n",
            "이름         \n",
            "서준  85  100\n",
            "우현  95   90\n",
            "\n",
            "\n",
            "    음악   체육\n",
            "이름         \n",
            "서준  85  100\n",
            "우현  95   90\n",
            "\n",
            "\n",
            "    음악   체육\n",
            "이름         \n",
            "서준  85  100\n",
            "우현  95   90\n",
            "\n",
            "\n",
            "    음악   체육\n",
            "이름         \n",
            "서준  85  100\n",
            "우현  95   90\n",
            "\n",
            "\n"
          ]
        }
      ]
    },
    {
      "cell_type": "markdown",
      "source": [
        "열 추가 : DataFrame객체['추가하려는 열 이름'] = 데이터 값 \n",
        "\n"
      ],
      "metadata": {
        "id": "V0pzsmnLOBZv"
      }
    },
    {
      "cell_type": "code",
      "source": [
        "import pandas as pd\n",
        "\n",
        "# DataFrame() 함수로 데이터프레임 변환, 변수 df에 저장 \n",
        "\n",
        "exam_data = { '이름': ['서준','우현','인아'],\n",
        "             '수학': [90, 80, 70],\n",
        "             '영어': [98, 89, 95],\n",
        "             '음악': [85, 95, 100],\n",
        "             '체육': [100, 90, 90]\n",
        "}\n",
        "\n",
        "df = pd.DataFrame(exam_data)\n",
        "print(df)\n",
        "print('\\n')\n",
        "\n",
        "# 데이터프레임 df에 '국어' 점수 열(column) 추가, 데이터 값 80 지정 \n",
        "\n",
        "df['국어'] = 80\n",
        "print(df)"
      ],
      "metadata": {
        "colab": {
          "base_uri": "https://localhost:8080/"
        },
        "id": "5eNCx52LOOPM",
        "outputId": "78d7004c-7a6d-4d08-fa70-b06bf2607794"
      },
      "execution_count": null,
      "outputs": [
        {
          "output_type": "stream",
          "name": "stdout",
          "text": [
            "   이름  수학  영어   음악   체육\n",
            "0  서준  90  98   85  100\n",
            "1  우현  80  89   95   90\n",
            "2  인아  70  95  100   90\n",
            "\n",
            "\n",
            "   이름  수학  영어   음악   체육  국어\n",
            "0  서준  90  98   85  100  80\n",
            "1  우현  80  89   95   90  80\n",
            "2  인아  70  95  100   90  80\n"
          ]
        }
      ]
    },
    {
      "cell_type": "markdown",
      "source": [
        "행 추가: DataFrame객체.loc['새로운 행 이름']  = 데이터 값 (또는 배열) "
      ],
      "metadata": {
        "id": "sPNkDtaiPDTP"
      }
    },
    {
      "cell_type": "code",
      "source": [
        "import pandas as pd\n",
        "\n",
        "# DataFrame() 함수로 데이터프레임 변환, 변수 df에 저장 \n",
        "\n",
        "exam_data = {'이름': ['서준', '우현', '인아'],\n",
        "             '수학': [90, 80, 70],\n",
        "             '영어':[98, 89, 95],\n",
        "             '음악':[85, 95, 100],\n",
        "             '체육': [100, 90, 90]}\n",
        "df = pd.DataFrame(exam_data)             \n",
        "print(df)\n",
        "print('\\n')\n",
        "\n",
        "# 새로운 행(row) 추가 - 같은 원소 값 입력 \n",
        "df.loc[3] = 0\n",
        "print(df)\n",
        "print('\\n')\n",
        "\n",
        "# 새로운 행(row) 추가 - 원소 값 여러 개의 배열 입력 \n",
        "df.loc[4] = ['동규', 90, 80, 70, 60]\n",
        "print(df)\n",
        "print('\\n')\n",
        "\n",
        "# 새로운 행(row 추가) - 기존 행 복사 \n",
        "\n",
        "df.loc['행5'] = df.loc[3]\n",
        "print(df)\n"
      ],
      "metadata": {
        "colab": {
          "base_uri": "https://localhost:8080/"
        },
        "id": "wlqPcCFePADV",
        "outputId": "2ea4375e-284e-49a9-bd0d-4bfaffbf63fa"
      },
      "execution_count": null,
      "outputs": [
        {
          "output_type": "stream",
          "name": "stdout",
          "text": [
            "   이름  수학  영어   음악   체육\n",
            "0  서준  90  98   85  100\n",
            "1  우현  80  89   95   90\n",
            "2  인아  70  95  100   90\n",
            "\n",
            "\n",
            "   이름  수학  영어   음악   체육\n",
            "0  서준  90  98   85  100\n",
            "1  우현  80  89   95   90\n",
            "2  인아  70  95  100   90\n",
            "3   0   0   0    0    0\n",
            "\n",
            "\n",
            "   이름  수학  영어   음악   체육\n",
            "0  서준  90  98   85  100\n",
            "1  우현  80  89   95   90\n",
            "2  인아  70  95  100   90\n",
            "3   0   0   0    0    0\n",
            "4  동규  90  80   70   60\n",
            "\n",
            "\n",
            "    이름  수학  영어   음악   체육\n",
            "0   서준  90  98   85  100\n",
            "1   우현  80  89   95   90\n",
            "2   인아  70  95  100   90\n",
            "3    0   0   0    0    0\n",
            "4   동규  90  80   70   60\n",
            "행5   0   0   0    0    0\n"
          ]
        }
      ]
    },
    {
      "cell_type": "markdown",
      "source": [
        "원소 값 변경 : DataFrame객체의 일부분 또는 원소를 선택 = 새로운 값 "
      ],
      "metadata": {
        "id": "5cUyh7pURBsx"
      }
    },
    {
      "cell_type": "code",
      "source": [
        "# 원소 값 변경 \n",
        "\n",
        "import pandas as pd\n",
        "\n",
        "# DataFrame() 함수로 데이터프레임 변환, 변수 df에 저장 \n",
        "\n",
        "exam_data = {'이름': ['서준','우현','인아'],\n",
        "             '수학': [90, 80, 70],\n",
        "             '영어': [98, 89, 95],\n",
        "             '음악': [85, 95, 100],\n",
        "             '체육': [100, 90, 90]    \n",
        "}\n",
        "df = pd.DataFrame(exam_data)\n",
        "\n",
        "# '이름' 열을 새로운 인덱스로 지정하고, df 객체에 변경사항 반영\n",
        "df.set_index('이름', inplace=True)\n",
        "print(df)\n",
        "print('\\n')\n",
        "\n",
        "# 데이터프레임 df의 특정 원소를 변경하는 방법: '서준'의 '체육' 점수\n",
        "\n",
        "df.iloc[0][3] = 80\n",
        "print(df)\n",
        "print('\\n')\n",
        "\n",
        "df.loc['서준']['체육'] = 90\n",
        "print(df)\n",
        "print('\\n')\n",
        "\n",
        "df.loc['서준','체육'] = 60 \n",
        "print(df)\n",
        "print('\\n')\n",
        "\n",
        "\n",
        "df.iloc[0, 3] = 50\n",
        "print(df)\n",
        "print('\\n')"
      ],
      "metadata": {
        "colab": {
          "base_uri": "https://localhost:8080/"
        },
        "id": "bwbj6T5OQOdL",
        "outputId": "7ef793b0-41e7-4427-e71f-3c7744955dac"
      },
      "execution_count": null,
      "outputs": [
        {
          "output_type": "stream",
          "name": "stdout",
          "text": [
            "    수학  영어   음악   체육\n",
            "이름                  \n",
            "서준  90  98   85  100\n",
            "우현  80  89   95   90\n",
            "인아  70  95  100   90\n",
            "\n",
            "\n",
            "    수학  영어   음악  체육\n",
            "이름                 \n",
            "서준  90  98   85  80\n",
            "우현  80  89   95  90\n",
            "인아  70  95  100  90\n",
            "\n",
            "\n",
            "    수학  영어   음악  체육\n",
            "이름                 \n",
            "서준  90  98   85  90\n",
            "우현  80  89   95  90\n",
            "인아  70  95  100  90\n",
            "\n",
            "\n",
            "    수학  영어   음악  체육\n",
            "이름                 \n",
            "서준  90  98   85  60\n",
            "우현  80  89   95  90\n",
            "인아  70  95  100  90\n",
            "\n",
            "\n",
            "    수학  영어   음악  체육\n",
            "이름                 \n",
            "서준  90  98   85  50\n",
            "우현  80  89   95  90\n",
            "인아  70  95  100  90\n",
            "\n",
            "\n"
          ]
        }
      ]
    },
    {
      "cell_type": "code",
      "source": [
        "# 원소 값 여러 개 변경 \n",
        "# 데이터프레임 df의 원소 여러 개를 변경하는 방법: '서준'의 '음악', '체육' 점수 \n",
        "\n",
        "df.loc['서준',['음악','체육']] = 50\n",
        "print(df)\n",
        "print('\\n')\n",
        "\n",
        "df.iloc[0, [2,3]] = 100, 50\n",
        "print(df)"
      ],
      "metadata": {
        "colab": {
          "base_uri": "https://localhost:8080/"
        },
        "id": "eMTga35zRx6B",
        "outputId": "e60edaf5-3e9c-425a-9ce9-976ff1ce1677"
      },
      "execution_count": null,
      "outputs": [
        {
          "output_type": "stream",
          "name": "stdout",
          "text": [
            "    수학  영어   음악  체육\n",
            "이름                 \n",
            "서준  90  98   50  50\n",
            "우현  80  89   95  90\n",
            "인아  70  95  100  90\n",
            "\n",
            "\n",
            "    수학  영어   음악  체육\n",
            "이름                 \n",
            "서준  90  98  100  50\n",
            "우현  80  89   95  90\n",
            "인아  70  95  100  90\n"
          ]
        }
      ]
    },
    {
      "cell_type": "markdown",
      "source": [
        "행, 열의 위치 바꾸기: DataFrame객체.transpose() 또는 DataFrame객체.T"
      ],
      "metadata": {
        "id": "RQ3AuHb8UNQD"
      }
    },
    {
      "cell_type": "code",
      "source": [
        "# 행, 열 바꾸기 \n",
        "\n",
        "import pandas as pd\n",
        "\n",
        "# DataFrame() 함수로 데이터프레임 변환, 변수 df에 저장 \n",
        "\n",
        "exam_data = {'이름': ['서준','우현','인아'],\n",
        "             '수학': [90, 80, 70],\n",
        "             '영어': [98, 89, 95], \n",
        "             '음악': [85, 95, 100],\n",
        "             '체육': [100, 90, 90]}\n",
        "df = pd.DataFrame(exam_data)\n",
        "print(df)\n",
        "print('\\n')\n",
        "\n",
        "# 데이터프레임 df를 전치하기(메소드 활용)\n",
        "df = df.transpose()\n",
        "print(df)\n",
        "print('\\n')\n",
        "\n",
        "# 데이터프레임 df를 다시 전치하기(클래스 속성 활용)\n",
        "df = df.T\n",
        "print(df)"
      ],
      "metadata": {
        "colab": {
          "base_uri": "https://localhost:8080/"
        },
        "id": "_vpCpRyKS6gb",
        "outputId": "c478091f-b7c8-40f3-87fb-08fc58816bdf"
      },
      "execution_count": null,
      "outputs": [
        {
          "output_type": "stream",
          "name": "stdout",
          "text": [
            "   이름  수학  영어   음악   체육\n",
            "0  서준  90  98   85  100\n",
            "1  우현  80  89   95   90\n",
            "2  인아  70  95  100   90\n",
            "\n",
            "\n",
            "      0   1    2\n",
            "이름   서준  우현   인아\n",
            "수학   90  80   70\n",
            "영어   98  89   95\n",
            "음악   85  95  100\n",
            "체육  100  90   90\n",
            "\n",
            "\n",
            "   이름  수학  영어   음악   체육\n",
            "0  서준  90  98   85  100\n",
            "1  우현  80  89   95   90\n",
            "2  인아  70  95  100   90\n"
          ]
        }
      ]
    },
    {
      "cell_type": "markdown",
      "source": [
        "특정 열을 행 인덱스로 설정: DataFrame객체.set_index(['열 이름'] 또는 '열이름')"
      ],
      "metadata": {
        "id": "JRKD-ib8VoTB"
      }
    },
    {
      "cell_type": "code",
      "source": [
        "# 특정 열을 행 인덱스로 설정 \n",
        "\n",
        "import pandas as pd \n",
        "\n",
        "# DataFrame() 함수로 데이터프레임 변환, 변수 df에 저장 \n",
        "\n",
        "exam_data = { '이름': ['서준', '우현', '인아'],\n",
        "             '수학':[90, 80, 70],\n",
        "             '영어':[98, 89, 95],\n",
        "             '음악':[85, 95, 100],\n",
        "             '체육':[100, 90, 90]\n",
        "}\n",
        "df = pd.DataFrame(exam_data)\n",
        "print(df)\n",
        "print('\\n')\n",
        "\n",
        "# 특정 열(column)을 데이터프레임 행 인덱스(index)로 설정 \n",
        "ndf = df.set_index(['이름'])\n",
        "print(ndf)\n",
        "print('\\n')\n",
        "ndf2 = df.set_index('음악')\n",
        "print(ndf2)\n",
        "print('\\n')\n",
        "ndf3 = df.set_index(['수학', '음악'])\n",
        "print(ndf3)"
      ],
      "metadata": {
        "colab": {
          "base_uri": "https://localhost:8080/"
        },
        "id": "pYz-MJ_TVJUX",
        "outputId": "c8f22352-0517-4878-a819-2765757fb6d9"
      },
      "execution_count": null,
      "outputs": [
        {
          "output_type": "stream",
          "name": "stdout",
          "text": [
            "   이름  수학  영어   음악   체육\n",
            "0  서준  90  98   85  100\n",
            "1  우현  80  89   95   90\n",
            "2  인아  70  95  100   90\n",
            "\n",
            "\n",
            "    수학  영어   음악   체육\n",
            "이름                  \n",
            "서준  90  98   85  100\n",
            "우현  80  89   95   90\n",
            "인아  70  95  100   90\n",
            "\n",
            "\n",
            "     이름  수학  영어   체육\n",
            "음악                  \n",
            "85   서준  90  98  100\n",
            "95   우현  80  89   90\n",
            "100  인아  70  95   90\n",
            "\n",
            "\n",
            "        이름  영어   체육\n",
            "수학 음악              \n",
            "90 85   서준  98  100\n",
            "80 95   우현  89   90\n",
            "70 100  인아  95   90\n"
          ]
        }
      ]
    },
    {
      "cell_type": "markdown",
      "source": [
        "행 인덱스 재배열: DataFrame객체.reindex(새로운 인덱스 배열) "
      ],
      "metadata": {
        "id": "naK-CCN1XFGt"
      }
    },
    {
      "cell_type": "code",
      "source": [
        "# 새로운 배열로 행 인덱스 재지정 \n",
        "\n",
        "import pandas as pd \n",
        "\n",
        "# 딕셔너리 정의 \n",
        "\n",
        "dict_data = {'co': [1,2,3], 'c1': [4,5,6], 'c2': [7,8,9], 'c3': [10,11,12], 'c4': [13,14,15]}\n",
        "\n",
        "# 딕셔너리를 데이터프레임으로 변환, 인덱스를 [r0, r1, r2]로 지정 \n",
        "\n",
        "df = pd.DataFrame(dict_data, index=['r0', 'r1', 'r2'])\n",
        "print(df)\n",
        "print('\\n')\n",
        "\n",
        "# 인덱스를 [r0, r1, r2, r3, r4]로 재지정 \n",
        "\n",
        "new_index = ['r0','r1','r2','r3','r4']\n",
        "ndf = df.reindex(new_index)\n",
        "print(ndf)\n",
        "print('\\n')\n",
        "\n",
        "# reindex로 발생한 NaN 값을 숫자 0으로 채우기 \n",
        "\n",
        "new_index = ['r0','r1','r2','r3','r4']\n",
        "ndf2 = df.reindex(new_index, fill_value = 0)\n",
        "print(ndf2)"
      ],
      "metadata": {
        "colab": {
          "base_uri": "https://localhost:8080/"
        },
        "id": "J5DnjTI3W59E",
        "outputId": "6962a043-0dd5-4442-e5bf-7e7d07ba42da"
      },
      "execution_count": null,
      "outputs": [
        {
          "output_type": "stream",
          "name": "stdout",
          "text": [
            "    co  c1  c2  c3  c4\n",
            "r0   1   4   7  10  13\n",
            "r1   2   5   8  11  14\n",
            "r2   3   6   9  12  15\n",
            "\n",
            "\n",
            "     co   c1   c2    c3    c4\n",
            "r0  1.0  4.0  7.0  10.0  13.0\n",
            "r1  2.0  5.0  8.0  11.0  14.0\n",
            "r2  3.0  6.0  9.0  12.0  15.0\n",
            "r3  NaN  NaN  NaN   NaN   NaN\n",
            "r4  NaN  NaN  NaN   NaN   NaN\n",
            "\n",
            "\n",
            "    co  c1  c2  c3  c4\n",
            "r0   1   4   7  10  13\n",
            "r1   2   5   8  11  14\n",
            "r2   3   6   9  12  15\n",
            "r3   0   0   0   0   0\n",
            "r4   0   0   0   0   0\n"
          ]
        }
      ]
    },
    {
      "cell_type": "markdown",
      "source": [
        "행 인덱스 초기화\n",
        "\n",
        "- 정수형 위치 인덱스로 초기화: DataFrame객체.reset_index()\n"
      ],
      "metadata": {
        "id": "fGRaXb7lcIje"
      }
    },
    {
      "cell_type": "code",
      "source": [
        "dfs"
      ],
      "metadata": {
        "id": "DXsnLcEpc0KA"
      },
      "execution_count": null,
      "outputs": []
    },
    {
      "cell_type": "code",
      "source": [
        "sdf"
      ],
      "metadata": {
        "id": "mxSqp2xFc0On"
      },
      "execution_count": null,
      "outputs": []
    },
    {
      "cell_type": "code",
      "source": [
        "# 정수형 위치 인덱스로 초기화 \n",
        "\n",
        "import pandas as pd\n",
        "\n",
        "# 딕셔너리 정의 \n",
        "\n",
        "dict_data = {'co':[1,2,3],\n",
        "             'c1':[4,5,6],\n",
        "             'c2':[7,8,9],\n",
        "             'c3':[10,11,12],\n",
        "             'c4':[13,14,15]\n",
        "             }\n",
        "df = pd.DataFrame(dict_data, index=['r0','r1','r2'])    \n",
        "print(df)\n",
        "print('\\n')\n",
        "\n",
        "# 행 인덱스를 정수형으로 초기화 \n",
        "\n",
        "ndf = df.reset_index()\n",
        "print(ndf)"
      ],
      "metadata": {
        "colab": {
          "base_uri": "https://localhost:8080/"
        },
        "id": "NIZBRTdYX_LT",
        "outputId": "4153681d-56a5-48f3-e985-f050e475bc5a"
      },
      "execution_count": null,
      "outputs": [
        {
          "output_type": "stream",
          "name": "stdout",
          "text": [
            "    co  c1  c2  c3  c4\n",
            "r0   1   4   7  10  13\n",
            "r1   2   5   8  11  14\n",
            "r2   3   6   9  12  15\n",
            "\n",
            "\n",
            "  index  co  c1  c2  c3  c4\n",
            "0    r0   1   4   7  10  13\n",
            "1    r1   2   5   8  11  14\n",
            "2    r2   3   6   9  12  15\n"
          ]
        }
      ]
    },
    {
      "cell_type": "markdown",
      "source": [
        "- 행인덱스를 기준으로 데이퍼프레임 정렬: DataFrame객체.sort_index()\n"
      ],
      "metadata": {
        "id": "4qgz9kbkdbhP"
      }
    },
    {
      "cell_type": "code",
      "source": [
        "# 데이터프레임 정렬\n",
        "\n",
        "import pandas as pd\n",
        "\n",
        "# 딕셔너리 정의 \n",
        "\n",
        "dict_data = {'c0':[1,2,3],\n",
        "             'c1':[4,5,6],\n",
        "             'c2':[7,8,9],\n",
        "             'c3':[10,11,12],\n",
        "             'c4':[13,14,15]\n",
        "}\n",
        "\n",
        "# 딕셔너리를 데이터프레임으로 변환, 인덱스를 [r0,r1,r2]로 지정 \n",
        "\n",
        "df = pd.DataFrame(dict_data, index=['r0','r1','r2'])\n",
        "print(df)\n",
        "print('\\n')\n",
        "\n",
        "# 내림차순으로 행 인덱스 정렬\n",
        "\n",
        "ndf = df.sort_index(ascending= False)\n",
        "print(ndf)\n"
      ],
      "metadata": {
        "colab": {
          "base_uri": "https://localhost:8080/"
        },
        "id": "WqbmLZ3kdR8E",
        "outputId": "b37f0ffa-90d5-4cbf-9e41-7ab12cac7171"
      },
      "execution_count": null,
      "outputs": [
        {
          "output_type": "stream",
          "name": "stdout",
          "text": [
            "    c0  c1  c2  c3  c4\n",
            "r0   1   4   7  10  13\n",
            "r1   2   5   8  11  14\n",
            "r2   3   6   9  12  15\n",
            "\n",
            "\n",
            "    c0  c1  c2  c3  c4\n",
            "r2   3   6   9  12  15\n",
            "r1   2   5   8  11  14\n",
            "r0   1   4   7  10  13\n"
          ]
        }
      ]
    },
    {
      "cell_type": "markdown",
      "source": [
        "- 열 기준 정렬: DataFrame객체.sort_values()"
      ],
      "metadata": {
        "id": "aOFG66CnecZu"
      }
    },
    {
      "cell_type": "code",
      "source": [
        "# 열 기준 정렬\n",
        "\n",
        "import pandas as pd\n",
        "\n",
        "# 딕셔너리 정의 \n",
        "\n",
        "dict_data = {\n",
        "    'c0': [1,2,3],\n",
        "    'c1': [4,5,6],\n",
        "    'c2': [7,8,9],\n",
        "    'c3': [10,11,12],\n",
        "    'c4': [13,14,15]\n",
        "}\n",
        "\n",
        "# 딕셔너리를 데이터프레임으로 변환, 인덱스를 [r0,r1,r2]로 지정\n",
        "df = pd.DataFrame(dict_data, index=['r0', 'r1', 'r2'])\n",
        "print(df)\n",
        "print('\\n')\n",
        "\n",
        "# c1 열을 기준으로 내림차순 정렬 \n",
        "\n",
        "ndf = df.sort_values(by='c1', ascending=False)\n",
        "print(ndf)"
      ],
      "metadata": {
        "colab": {
          "base_uri": "https://localhost:8080/"
        },
        "id": "fHeA_BCaeSan",
        "outputId": "60afb139-c423-4380-8781-63adda7b89bd"
      },
      "execution_count": null,
      "outputs": [
        {
          "output_type": "stream",
          "name": "stdout",
          "text": [
            "    c0  c1  c2  c3  c4\n",
            "r0   1   4   7  10  13\n",
            "r1   2   5   8  11  14\n",
            "r2   3   6   9  12  15\n",
            "\n",
            "\n",
            "    c0  c1  c2  c3  c4\n",
            "r2   3   6   9  12  15\n",
            "r1   2   5   8  11  14\n",
            "r0   1   4   7  10  13\n"
          ]
        }
      ]
    },
    {
      "cell_type": "markdown",
      "source": [
        "# **산술연산**"
      ],
      "metadata": {
        "id": "NC2Fldc8hF69"
      }
    },
    {
      "cell_type": "markdown",
      "source": [
        "시리즈 연산"
      ],
      "metadata": {
        "id": "LxPRZfJShL3t"
      }
    },
    {
      "cell_type": "code",
      "source": [
        "# 시리즈를 숫자로 나누기 \n",
        "\n",
        "import pandas as pd \n",
        "\n",
        "#딕셔너리 데이터로 판다스 시리즈 만들기 \n",
        "student1 = pd.Series({'국어':100, '영어':80,'수학':90})\n",
        "print(student1)\n",
        "print('\\n')\n",
        "\n",
        "# 학생의 과목별 점수를 200으로 나누기 \n",
        "\n",
        "percentage = student1/200\n",
        "\n",
        "print(percentage)\n",
        "print('\\n')\n",
        "print(type(percentage))\n"
      ],
      "metadata": {
        "colab": {
          "base_uri": "https://localhost:8080/"
        },
        "id": "4cezHp7-fJNC",
        "outputId": "cc795a31-f57b-406f-eaec-99348a51dfdc"
      },
      "execution_count": null,
      "outputs": [
        {
          "output_type": "stream",
          "name": "stdout",
          "text": [
            "국어    100\n",
            "영어     80\n",
            "수학     90\n",
            "dtype: int64\n",
            "\n",
            "\n",
            "국어    0.50\n",
            "영어    0.40\n",
            "수학    0.45\n",
            "dtype: float64\n",
            "\n",
            "\n",
            "<class 'pandas.core.series.Series'>\n"
          ]
        }
      ]
    },
    {
      "cell_type": "code",
      "source": [
        "# 시리즈와 시리즈 사칙연산 \n",
        "\n",
        "import pandas as pd \n",
        "\n",
        "# 딕셔너리 데이터로 판다스 시리즈 만들기 \n",
        "\n",
        "student1 = pd.Series({'국어':100,'영어':80, '수학':90})\n",
        "student2 = pd.Series({'수학':80,'국어':90, '영어':80})\n",
        "\n",
        "print(student1)\n",
        "print('\\n')\n",
        "print(student2)\n",
        "print('\\n')\n",
        "\n",
        "\n",
        "# 두 학생의 과목별 점수로 사칙연산 수행 \n",
        "\n",
        "addition = student1 + student2 #덧셈\n",
        "subtraction = student1 - student2 #뺄셈\n",
        "multiplication = student1 * student2 #곱셈\n",
        "division = student1 / student2 #나눗셈\n",
        "print(type(division))\n",
        "print('\\n')\n",
        "\n",
        "# 사칙연산 결과를 데이터프레임으로 합치기 (시리즈 => 데이터프레임 )\n",
        "result = pd.DataFrame([addition, subtraction, multiplication, division], index = ['덧셈', '뺄셈', '곱셈', '나눗셈'])\n",
        "print(result)"
      ],
      "metadata": {
        "colab": {
          "base_uri": "https://localhost:8080/"
        },
        "id": "q5Ki7fkEh1qv",
        "outputId": "71676d6c-c8dc-4f33-af8f-2e1a87ac34ef"
      },
      "execution_count": null,
      "outputs": [
        {
          "output_type": "stream",
          "name": "stdout",
          "text": [
            "국어    100\n",
            "영어     80\n",
            "수학     90\n",
            "dtype: int64\n",
            "\n",
            "\n",
            "수학    80\n",
            "국어    90\n",
            "영어    80\n",
            "dtype: int64\n",
            "\n",
            "\n",
            "<class 'pandas.core.series.Series'>\n",
            "\n",
            "\n",
            "              국어        수학      영어\n",
            "덧셈    190.000000   170.000   160.0\n",
            "뺄셈     10.000000    10.000     0.0\n",
            "곱셈   9000.000000  7200.000  6400.0\n",
            "나눗셈     1.111111     1.125     1.0\n"
          ]
        }
      ]
    },
    {
      "cell_type": "code",
      "source": [
        "# NaN 값이 있는 시리즈 연산 \n",
        "\n",
        "import pandas as pd\n",
        "import numpy as np\n",
        "\n",
        "#딕셔너리 데이터로 판다스 시리즈 만들기 \n",
        "\n",
        "student1 = pd.Series({'국어':np.nan, '영어':80, '수학':90})\n",
        "student2 = pd.Series({'수학':80, '국어': 90})\n",
        "\n",
        "print(student1)\n",
        "print('\\n')\n",
        "print(student2)\n",
        "print('\\n')\n",
        "\n",
        "# 두 학생의 과목별 점수로 사칙연산 수행(시리즈 vs 시리즈)\n",
        "\n",
        "addition = student1 + student2  #덧셈\n",
        "subtraction = student1 - student2  #뺄셈\n",
        "multiplication = student1 * student2  #곱셈\n",
        "division = student1 / student2  #나눗셈\n",
        "print(type(division))\n",
        "print('\\n')\n",
        "\n",
        "# 사칙연산 결과를 데이터프레임으로 합치기(시리즈=> 데이터프레임)\n",
        "\n",
        "result = pd.DataFrame([addition, subtraction, multiplication, division], index = ['덧셈', '뺄셈', '곱셈', '나눗셈'])\n",
        "\n",
        "print(result)\n"
      ],
      "metadata": {
        "colab": {
          "base_uri": "https://localhost:8080/"
        },
        "id": "3RUQTuRojQeu",
        "outputId": "22c447ba-25c5-4e95-d6a2-e996158a81ff"
      },
      "execution_count": null,
      "outputs": [
        {
          "output_type": "stream",
          "name": "stdout",
          "text": [
            "국어     NaN\n",
            "영어    80.0\n",
            "수학    90.0\n",
            "dtype: float64\n",
            "\n",
            "\n",
            "수학    80\n",
            "국어    90\n",
            "dtype: int64\n",
            "\n",
            "\n",
            "<class 'pandas.core.series.Series'>\n",
            "\n",
            "\n",
            "     국어        수학  영어\n",
            "덧셈  NaN   170.000 NaN\n",
            "뺄셈  NaN    10.000 NaN\n",
            "곱셈  NaN  7200.000 NaN\n",
            "나눗셈 NaN     1.125 NaN\n"
          ]
        }
      ]
    },
    {
      "cell_type": "markdown",
      "source": [
        "연산 메소드 "
      ],
      "metadata": {
        "id": "hPAKs_0Xlfm7"
      }
    },
    {
      "cell_type": "code",
      "source": [
        "# 연산 메소드 사용 - 시리즈 연산 \n",
        "\n",
        "import pandas as pd\n",
        "import numpy as np\n",
        "\n",
        "# 딕셔너리 데이터로 판다스 시리즈 만들기\n",
        "\n",
        "student1 = pd.Series({'국어':np.nan, '영어':80, '수학':90})\n",
        "student2 = pd.Series({'수학':80, '국어':90})\n",
        "\n",
        "print(student1)\n",
        "print('\\n')\n",
        "print(student2)\n",
        "print('\\n')\n",
        "\n",
        "# 두 학생의 과목별 점수로 사칙연산 수행(연산 메소드 사용)\n",
        "\n",
        "sr_add = student1.add(student2, fill_value=0) # 덧셈\n",
        "sr_sub = student1.sub(student2, fill_value=0) # 뺄셈\n",
        "sr_mul = student1.mul(student2, fill_value=0) # 곱셈\n",
        "sr_div = student1.div(student2, fill_value=0) # 나눗셈\n",
        "\n",
        "#사칙 연산 결과를 데이터프레임으로 합치기(시리즈 => 데이터프레임)\n",
        "result = pd.DataFrame([sr_add, sr_sub, sr_mul, sr_div], index = ['덧셈', '뺄셈', '곱셈', '나눗셈'])\n",
        "\n",
        "print(result)"
      ],
      "metadata": {
        "colab": {
          "base_uri": "https://localhost:8080/"
        },
        "id": "E6pm7hgQk6LK",
        "outputId": "e89e0af4-7cd9-4886-c626-c9b0381b4cc3"
      },
      "execution_count": null,
      "outputs": [
        {
          "output_type": "stream",
          "name": "stdout",
          "text": [
            "국어     NaN\n",
            "영어    80.0\n",
            "수학    90.0\n",
            "dtype: float64\n",
            "\n",
            "\n",
            "수학    80\n",
            "국어    90\n",
            "dtype: int64\n",
            "\n",
            "\n",
            "       국어        수학    영어\n",
            "덧셈   90.0   170.000  80.0\n",
            "뺄셈  -90.0    10.000  80.0\n",
            "곱셈    0.0  7200.000   0.0\n",
            "나눗셈   0.0     1.125   inf\n"
          ]
        }
      ]
    },
    {
      "cell_type": "markdown",
      "source": [
        "데이터프레임 연산 "
      ],
      "metadata": {
        "id": "lpE5XuTWnJwU"
      }
    },
    {
      "cell_type": "code",
      "source": [
        "# 데이터프레임에 숫자 더하기\n",
        "\n",
        "import pandas as pd\n",
        "import seaborn as sns\n",
        "\n",
        "# titanic 데이터셋에서 age, fare 2개 열을 선택하여 데이터프레임 만들기\n",
        "\n",
        "titanic = sns.load_dataset('titanic')\n",
        "df = titanic.loc[ : , ['age','fare']]\n",
        "print(df.head()) # 첫 5행만 표시 \n",
        "print('\\n')\n",
        "print(type(df))\n",
        "print('\\n')\n",
        "\n",
        "# 데이터프레임에 숫자 10 더하기 \n",
        "addition = df + 10\n",
        "print(addition.head())\n",
        "print('\\n')\n",
        "print(type(addition))"
      ],
      "metadata": {
        "colab": {
          "base_uri": "https://localhost:8080/"
        },
        "id": "NShQ8gbLmyUU",
        "outputId": "b970df1b-069e-4348-8c7b-f7fc1371e516"
      },
      "execution_count": null,
      "outputs": [
        {
          "output_type": "stream",
          "name": "stdout",
          "text": [
            "    age     fare\n",
            "0  22.0   7.2500\n",
            "1  38.0  71.2833\n",
            "2  26.0   7.9250\n",
            "3  35.0  53.1000\n",
            "4  35.0   8.0500\n",
            "\n",
            "\n",
            "<class 'pandas.core.frame.DataFrame'>\n",
            "\n",
            "\n",
            "    age     fare\n",
            "0  32.0  17.2500\n",
            "1  48.0  81.2833\n",
            "2  36.0  17.9250\n",
            "3  45.0  63.1000\n",
            "4  45.0  18.0500\n",
            "\n",
            "\n",
            "<class 'pandas.core.frame.DataFrame'>\n"
          ]
        }
      ]
    },
    {
      "cell_type": "code",
      "source": [
        "# 데이터프레임끼리 더하기 \n",
        "\n",
        "import pandas as pd\n",
        "import seaborn as sns\n",
        "\n",
        "# titanic 데이터셋에서 age, fare 2개열을 선택하여 데이터프레임 만들기 \n",
        "\n",
        "titanic = sns.load_dataset('titanic')\n",
        "df = titanic.loc[ : , ['age','fare']]\n",
        "print(df.tail())\n",
        "print('\\n')\n",
        "print(type(df))\n",
        "print('\\n')\n",
        "\n",
        "# 데이터프레임에 숫자 10 더하기 \n",
        "\n",
        "addition = df + 10 \n",
        "print(addition.tail())\n",
        "print('\\n')\n",
        "print(type(addition))\n",
        "print('\\n')\n",
        "\n",
        "# 데이터프레임끼리 연산하기(addition - df)\n",
        "subtraction = addition - df\n",
        "print(subtraction.tail())\n",
        "print('\\n')\n",
        "print(type(subtraction))"
      ],
      "metadata": {
        "colab": {
          "base_uri": "https://localhost:8080/"
        },
        "id": "e2YQBjSSoDYJ",
        "outputId": "f1fc8ab8-bfa0-48b6-fb91-6581c0c18e2b"
      },
      "execution_count": null,
      "outputs": [
        {
          "output_type": "stream",
          "name": "stdout",
          "text": [
            "      age   fare\n",
            "886  27.0  13.00\n",
            "887  19.0  30.00\n",
            "888   NaN  23.45\n",
            "889  26.0  30.00\n",
            "890  32.0   7.75\n",
            "\n",
            "\n",
            "<class 'pandas.core.frame.DataFrame'>\n",
            "\n",
            "\n",
            "      age   fare\n",
            "886  37.0  23.00\n",
            "887  29.0  40.00\n",
            "888   NaN  33.45\n",
            "889  36.0  40.00\n",
            "890  42.0  17.75\n",
            "\n",
            "\n",
            "<class 'pandas.core.frame.DataFrame'>\n",
            "\n",
            "\n",
            "      age  fare\n",
            "886  10.0  10.0\n",
            "887  10.0  10.0\n",
            "888   NaN  10.0\n",
            "889  10.0  10.0\n",
            "890  10.0  10.0\n",
            "\n",
            "\n",
            "<class 'pandas.core.frame.DataFrame'>\n"
          ]
        }
      ]
    },
    {
      "cell_type": "code",
      "source": [
        "from google.colab import files\n",
        "\n",
        "\n",
        "my_files = files.upload()\n",
        "\n"
      ],
      "metadata": {
        "colab": {
          "base_uri": "https://localhost:8080/",
          "height": 76
        },
        "id": "KVBpTn2zpP9-",
        "outputId": "9069e4ab-76c2-41ca-a761-ae1e9b034cfa"
      },
      "execution_count": null,
      "outputs": [
        {
          "output_type": "display_data",
          "data": {
            "text/plain": [
              "<IPython.core.display.HTML object>"
            ],
            "text/html": [
              "\n",
              "     <input type=\"file\" id=\"files-b4243add-ba4c-4304-bda6-dceaf835f60b\" name=\"files[]\" multiple disabled\n",
              "        style=\"border:none\" />\n",
              "     <output id=\"result-b4243add-ba4c-4304-bda6-dceaf835f60b\">\n",
              "      Upload widget is only available when the cell has been executed in the\n",
              "      current browser session. Please rerun this cell to enable.\n",
              "      </output>\n",
              "      <script>// Copyright 2017 Google LLC\n",
              "//\n",
              "// Licensed under the Apache License, Version 2.0 (the \"License\");\n",
              "// you may not use this file except in compliance with the License.\n",
              "// You may obtain a copy of the License at\n",
              "//\n",
              "//      http://www.apache.org/licenses/LICENSE-2.0\n",
              "//\n",
              "// Unless required by applicable law or agreed to in writing, software\n",
              "// distributed under the License is distributed on an \"AS IS\" BASIS,\n",
              "// WITHOUT WARRANTIES OR CONDITIONS OF ANY KIND, either express or implied.\n",
              "// See the License for the specific language governing permissions and\n",
              "// limitations under the License.\n",
              "\n",
              "/**\n",
              " * @fileoverview Helpers for google.colab Python module.\n",
              " */\n",
              "(function(scope) {\n",
              "function span(text, styleAttributes = {}) {\n",
              "  const element = document.createElement('span');\n",
              "  element.textContent = text;\n",
              "  for (const key of Object.keys(styleAttributes)) {\n",
              "    element.style[key] = styleAttributes[key];\n",
              "  }\n",
              "  return element;\n",
              "}\n",
              "\n",
              "// Max number of bytes which will be uploaded at a time.\n",
              "const MAX_PAYLOAD_SIZE = 100 * 1024;\n",
              "\n",
              "function _uploadFiles(inputId, outputId) {\n",
              "  const steps = uploadFilesStep(inputId, outputId);\n",
              "  const outputElement = document.getElementById(outputId);\n",
              "  // Cache steps on the outputElement to make it available for the next call\n",
              "  // to uploadFilesContinue from Python.\n",
              "  outputElement.steps = steps;\n",
              "\n",
              "  return _uploadFilesContinue(outputId);\n",
              "}\n",
              "\n",
              "// This is roughly an async generator (not supported in the browser yet),\n",
              "// where there are multiple asynchronous steps and the Python side is going\n",
              "// to poll for completion of each step.\n",
              "// This uses a Promise to block the python side on completion of each step,\n",
              "// then passes the result of the previous step as the input to the next step.\n",
              "function _uploadFilesContinue(outputId) {\n",
              "  const outputElement = document.getElementById(outputId);\n",
              "  const steps = outputElement.steps;\n",
              "\n",
              "  const next = steps.next(outputElement.lastPromiseValue);\n",
              "  return Promise.resolve(next.value.promise).then((value) => {\n",
              "    // Cache the last promise value to make it available to the next\n",
              "    // step of the generator.\n",
              "    outputElement.lastPromiseValue = value;\n",
              "    return next.value.response;\n",
              "  });\n",
              "}\n",
              "\n",
              "/**\n",
              " * Generator function which is called between each async step of the upload\n",
              " * process.\n",
              " * @param {string} inputId Element ID of the input file picker element.\n",
              " * @param {string} outputId Element ID of the output display.\n",
              " * @return {!Iterable<!Object>} Iterable of next steps.\n",
              " */\n",
              "function* uploadFilesStep(inputId, outputId) {\n",
              "  const inputElement = document.getElementById(inputId);\n",
              "  inputElement.disabled = false;\n",
              "\n",
              "  const outputElement = document.getElementById(outputId);\n",
              "  outputElement.innerHTML = '';\n",
              "\n",
              "  const pickedPromise = new Promise((resolve) => {\n",
              "    inputElement.addEventListener('change', (e) => {\n",
              "      resolve(e.target.files);\n",
              "    });\n",
              "  });\n",
              "\n",
              "  const cancel = document.createElement('button');\n",
              "  inputElement.parentElement.appendChild(cancel);\n",
              "  cancel.textContent = 'Cancel upload';\n",
              "  const cancelPromise = new Promise((resolve) => {\n",
              "    cancel.onclick = () => {\n",
              "      resolve(null);\n",
              "    };\n",
              "  });\n",
              "\n",
              "  // Wait for the user to pick the files.\n",
              "  const files = yield {\n",
              "    promise: Promise.race([pickedPromise, cancelPromise]),\n",
              "    response: {\n",
              "      action: 'starting',\n",
              "    }\n",
              "  };\n",
              "\n",
              "  cancel.remove();\n",
              "\n",
              "  // Disable the input element since further picks are not allowed.\n",
              "  inputElement.disabled = true;\n",
              "\n",
              "  if (!files) {\n",
              "    return {\n",
              "      response: {\n",
              "        action: 'complete',\n",
              "      }\n",
              "    };\n",
              "  }\n",
              "\n",
              "  for (const file of files) {\n",
              "    const li = document.createElement('li');\n",
              "    li.append(span(file.name, {fontWeight: 'bold'}));\n",
              "    li.append(span(\n",
              "        `(${file.type || 'n/a'}) - ${file.size} bytes, ` +\n",
              "        `last modified: ${\n",
              "            file.lastModifiedDate ? file.lastModifiedDate.toLocaleDateString() :\n",
              "                                    'n/a'} - `));\n",
              "    const percent = span('0% done');\n",
              "    li.appendChild(percent);\n",
              "\n",
              "    outputElement.appendChild(li);\n",
              "\n",
              "    const fileDataPromise = new Promise((resolve) => {\n",
              "      const reader = new FileReader();\n",
              "      reader.onload = (e) => {\n",
              "        resolve(e.target.result);\n",
              "      };\n",
              "      reader.readAsArrayBuffer(file);\n",
              "    });\n",
              "    // Wait for the data to be ready.\n",
              "    let fileData = yield {\n",
              "      promise: fileDataPromise,\n",
              "      response: {\n",
              "        action: 'continue',\n",
              "      }\n",
              "    };\n",
              "\n",
              "    // Use a chunked sending to avoid message size limits. See b/62115660.\n",
              "    let position = 0;\n",
              "    do {\n",
              "      const length = Math.min(fileData.byteLength - position, MAX_PAYLOAD_SIZE);\n",
              "      const chunk = new Uint8Array(fileData, position, length);\n",
              "      position += length;\n",
              "\n",
              "      const base64 = btoa(String.fromCharCode.apply(null, chunk));\n",
              "      yield {\n",
              "        response: {\n",
              "          action: 'append',\n",
              "          file: file.name,\n",
              "          data: base64,\n",
              "        },\n",
              "      };\n",
              "\n",
              "      let percentDone = fileData.byteLength === 0 ?\n",
              "          100 :\n",
              "          Math.round((position / fileData.byteLength) * 100);\n",
              "      percent.textContent = `${percentDone}% done`;\n",
              "\n",
              "    } while (position < fileData.byteLength);\n",
              "  }\n",
              "\n",
              "  // All done.\n",
              "  yield {\n",
              "    response: {\n",
              "      action: 'complete',\n",
              "    }\n",
              "  };\n",
              "}\n",
              "\n",
              "scope.google = scope.google || {};\n",
              "scope.google.colab = scope.google.colab || {};\n",
              "scope.google.colab._files = {\n",
              "  _uploadFiles,\n",
              "  _uploadFilesContinue,\n",
              "};\n",
              "})(self);\n",
              "</script> "
            ]
          },
          "metadata": {}
        },
        {
          "output_type": "stream",
          "name": "stdout",
          "text": [
            "Saving read_csv_sample.csv to read_csv_sample.csv\n"
          ]
        }
      ]
    },
    {
      "cell_type": "code",
      "source": [
        "import os\n",
        "import pandas as pd\n",
        "\n",
        "\n",
        "#파일 경로(파이썬 파일과 같은 폴더)를 찾고, 변수 file_path에 저장 \n",
        "print(os.getcwd())\n",
        "print(os.listdir())\n",
        "\n",
        "file_path = './read_csv_sample.csv'\n",
        "\n",
        "#read_csv() 함수로 데이터프레임 변환, 변수 df1에 저장 \n",
        "df1 = pd.read_csv(file_path)\n",
        "print(df1)\n",
        "print('\\n')\n",
        "\n",
        "#read_csv() 함수로 데이터프레임 변환, 변수 df2에 저장, header=None 옵션\n",
        "df2 = pd.read_csv(file_path, header=None)\n",
        "print(df2)\n",
        "print('\\n')\n",
        "\n",
        "#read_csv() 함수로 데이터프레임 변환, 변수 df3에 저장, index_col=None 옵션\n",
        "df3 = pd.read_csv(file_path, index_col=None)\n",
        "print(df3)\n",
        "print('\\n')\n",
        "\n",
        "#read_csv() 함수로 데이터프레임 변환, 변수 df4에 저장, index_col='c0' 옵션\n",
        "df4 = pd.read_csv(file_path, index_col='c0')\n",
        "print(df4)\n",
        "print('\\n')"
      ],
      "metadata": {
        "colab": {
          "base_uri": "https://localhost:8080/"
        },
        "id": "1AhoV5Lqv_X3",
        "outputId": "5a2c9082-17c6-4477-e455-3919d372bba0"
      },
      "execution_count": null,
      "outputs": [
        {
          "output_type": "stream",
          "name": "stdout",
          "text": [
            "/content\n",
            "['.config', 'read_csv_sample.csv', 'sample_data']\n",
            "   c0  c1  c2  c3\n",
            "0   0   1   4   7\n",
            "1   1   2   5   8\n",
            "2   2   3   6   9\n",
            "\n",
            "\n",
            "    0   1   2   3\n",
            "0  c0  c1  c2  c3\n",
            "1   0   1   4   7\n",
            "2   1   2   5   8\n",
            "3   2   3   6   9\n",
            "\n",
            "\n",
            "   c0  c1  c2  c3\n",
            "0   0   1   4   7\n",
            "1   1   2   5   8\n",
            "2   2   3   6   9\n",
            "\n",
            "\n",
            "    c1  c2  c3\n",
            "c0            \n",
            "0    1   4   7\n",
            "1    2   5   8\n",
            "2    3   6   9\n",
            "\n",
            "\n"
          ]
        }
      ]
    },
    {
      "cell_type": "code",
      "source": [
        "from google.colab import files\n",
        "\n",
        "my_files = files.upload()"
      ],
      "metadata": {
        "colab": {
          "base_uri": "https://localhost:8080/",
          "height": 76
        },
        "id": "DQJkeG_DwZSm",
        "outputId": "65bea5f9-685e-48c3-e3d5-0c2c94d61764"
      },
      "execution_count": null,
      "outputs": [
        {
          "output_type": "display_data",
          "data": {
            "text/plain": [
              "<IPython.core.display.HTML object>"
            ],
            "text/html": [
              "\n",
              "     <input type=\"file\" id=\"files-93500dcc-7e0e-4454-9104-2f0b0fa93026\" name=\"files[]\" multiple disabled\n",
              "        style=\"border:none\" />\n",
              "     <output id=\"result-93500dcc-7e0e-4454-9104-2f0b0fa93026\">\n",
              "      Upload widget is only available when the cell has been executed in the\n",
              "      current browser session. Please rerun this cell to enable.\n",
              "      </output>\n",
              "      <script>// Copyright 2017 Google LLC\n",
              "//\n",
              "// Licensed under the Apache License, Version 2.0 (the \"License\");\n",
              "// you may not use this file except in compliance with the License.\n",
              "// You may obtain a copy of the License at\n",
              "//\n",
              "//      http://www.apache.org/licenses/LICENSE-2.0\n",
              "//\n",
              "// Unless required by applicable law or agreed to in writing, software\n",
              "// distributed under the License is distributed on an \"AS IS\" BASIS,\n",
              "// WITHOUT WARRANTIES OR CONDITIONS OF ANY KIND, either express or implied.\n",
              "// See the License for the specific language governing permissions and\n",
              "// limitations under the License.\n",
              "\n",
              "/**\n",
              " * @fileoverview Helpers for google.colab Python module.\n",
              " */\n",
              "(function(scope) {\n",
              "function span(text, styleAttributes = {}) {\n",
              "  const element = document.createElement('span');\n",
              "  element.textContent = text;\n",
              "  for (const key of Object.keys(styleAttributes)) {\n",
              "    element.style[key] = styleAttributes[key];\n",
              "  }\n",
              "  return element;\n",
              "}\n",
              "\n",
              "// Max number of bytes which will be uploaded at a time.\n",
              "const MAX_PAYLOAD_SIZE = 100 * 1024;\n",
              "\n",
              "function _uploadFiles(inputId, outputId) {\n",
              "  const steps = uploadFilesStep(inputId, outputId);\n",
              "  const outputElement = document.getElementById(outputId);\n",
              "  // Cache steps on the outputElement to make it available for the next call\n",
              "  // to uploadFilesContinue from Python.\n",
              "  outputElement.steps = steps;\n",
              "\n",
              "  return _uploadFilesContinue(outputId);\n",
              "}\n",
              "\n",
              "// This is roughly an async generator (not supported in the browser yet),\n",
              "// where there are multiple asynchronous steps and the Python side is going\n",
              "// to poll for completion of each step.\n",
              "// This uses a Promise to block the python side on completion of each step,\n",
              "// then passes the result of the previous step as the input to the next step.\n",
              "function _uploadFilesContinue(outputId) {\n",
              "  const outputElement = document.getElementById(outputId);\n",
              "  const steps = outputElement.steps;\n",
              "\n",
              "  const next = steps.next(outputElement.lastPromiseValue);\n",
              "  return Promise.resolve(next.value.promise).then((value) => {\n",
              "    // Cache the last promise value to make it available to the next\n",
              "    // step of the generator.\n",
              "    outputElement.lastPromiseValue = value;\n",
              "    return next.value.response;\n",
              "  });\n",
              "}\n",
              "\n",
              "/**\n",
              " * Generator function which is called between each async step of the upload\n",
              " * process.\n",
              " * @param {string} inputId Element ID of the input file picker element.\n",
              " * @param {string} outputId Element ID of the output display.\n",
              " * @return {!Iterable<!Object>} Iterable of next steps.\n",
              " */\n",
              "function* uploadFilesStep(inputId, outputId) {\n",
              "  const inputElement = document.getElementById(inputId);\n",
              "  inputElement.disabled = false;\n",
              "\n",
              "  const outputElement = document.getElementById(outputId);\n",
              "  outputElement.innerHTML = '';\n",
              "\n",
              "  const pickedPromise = new Promise((resolve) => {\n",
              "    inputElement.addEventListener('change', (e) => {\n",
              "      resolve(e.target.files);\n",
              "    });\n",
              "  });\n",
              "\n",
              "  const cancel = document.createElement('button');\n",
              "  inputElement.parentElement.appendChild(cancel);\n",
              "  cancel.textContent = 'Cancel upload';\n",
              "  const cancelPromise = new Promise((resolve) => {\n",
              "    cancel.onclick = () => {\n",
              "      resolve(null);\n",
              "    };\n",
              "  });\n",
              "\n",
              "  // Wait for the user to pick the files.\n",
              "  const files = yield {\n",
              "    promise: Promise.race([pickedPromise, cancelPromise]),\n",
              "    response: {\n",
              "      action: 'starting',\n",
              "    }\n",
              "  };\n",
              "\n",
              "  cancel.remove();\n",
              "\n",
              "  // Disable the input element since further picks are not allowed.\n",
              "  inputElement.disabled = true;\n",
              "\n",
              "  if (!files) {\n",
              "    return {\n",
              "      response: {\n",
              "        action: 'complete',\n",
              "      }\n",
              "    };\n",
              "  }\n",
              "\n",
              "  for (const file of files) {\n",
              "    const li = document.createElement('li');\n",
              "    li.append(span(file.name, {fontWeight: 'bold'}));\n",
              "    li.append(span(\n",
              "        `(${file.type || 'n/a'}) - ${file.size} bytes, ` +\n",
              "        `last modified: ${\n",
              "            file.lastModifiedDate ? file.lastModifiedDate.toLocaleDateString() :\n",
              "                                    'n/a'} - `));\n",
              "    const percent = span('0% done');\n",
              "    li.appendChild(percent);\n",
              "\n",
              "    outputElement.appendChild(li);\n",
              "\n",
              "    const fileDataPromise = new Promise((resolve) => {\n",
              "      const reader = new FileReader();\n",
              "      reader.onload = (e) => {\n",
              "        resolve(e.target.result);\n",
              "      };\n",
              "      reader.readAsArrayBuffer(file);\n",
              "    });\n",
              "    // Wait for the data to be ready.\n",
              "    let fileData = yield {\n",
              "      promise: fileDataPromise,\n",
              "      response: {\n",
              "        action: 'continue',\n",
              "      }\n",
              "    };\n",
              "\n",
              "    // Use a chunked sending to avoid message size limits. See b/62115660.\n",
              "    let position = 0;\n",
              "    do {\n",
              "      const length = Math.min(fileData.byteLength - position, MAX_PAYLOAD_SIZE);\n",
              "      const chunk = new Uint8Array(fileData, position, length);\n",
              "      position += length;\n",
              "\n",
              "      const base64 = btoa(String.fromCharCode.apply(null, chunk));\n",
              "      yield {\n",
              "        response: {\n",
              "          action: 'append',\n",
              "          file: file.name,\n",
              "          data: base64,\n",
              "        },\n",
              "      };\n",
              "\n",
              "      let percentDone = fileData.byteLength === 0 ?\n",
              "          100 :\n",
              "          Math.round((position / fileData.byteLength) * 100);\n",
              "      percent.textContent = `${percentDone}% done`;\n",
              "\n",
              "    } while (position < fileData.byteLength);\n",
              "  }\n",
              "\n",
              "  // All done.\n",
              "  yield {\n",
              "    response: {\n",
              "      action: 'complete',\n",
              "    }\n",
              "  };\n",
              "}\n",
              "\n",
              "scope.google = scope.google || {};\n",
              "scope.google.colab = scope.google.colab || {};\n",
              "scope.google.colab._files = {\n",
              "  _uploadFiles,\n",
              "  _uploadFilesContinue,\n",
              "};\n",
              "})(self);\n",
              "</script> "
            ]
          },
          "metadata": {}
        },
        {
          "output_type": "stream",
          "name": "stdout",
          "text": [
            "Saving 남북한발전전력량.xlsx to 남북한발전전력량.xlsx\n"
          ]
        }
      ]
    },
    {
      "cell_type": "code",
      "source": [
        "import os\n",
        "import pandas as pd\n",
        "\n",
        "print(os.listdir())\n",
        "\n",
        "file_path = './남북한발전전력량.xlsx'\n",
        "\n",
        "\n",
        "# read_excel() 함수로 데이터프레임 변환\n",
        "df1 = pd.read_excel(file_path, engine='openpyxl')\n",
        "df2 = pd.read_excel(file_path, engine='openpyxl', header=None)\n",
        "\n",
        "# 데이터프레임 출력\n",
        "print(df1)\n",
        "print('\\n')\n",
        "print(df2)"
      ],
      "metadata": {
        "colab": {
          "base_uri": "https://localhost:8080/"
        },
        "id": "CqZeuvpyy4aQ",
        "outputId": "c5448a83-a903-43c6-c521-b3d80685d941"
      },
      "execution_count": null,
      "outputs": [
        {
          "output_type": "stream",
          "name": "stdout",
          "text": [
            "['.config', 'read_csv_sample.csv', '남북한발전전력량.xlsx', 'sample_data']\n",
            "  전력량 (억㎾h) 발전 전력별  1990  1991  1992  1993  1994  1995  1996  1997  ...  2007  \\\n",
            "0        남한     합계  1077  1186  1310  1444  1650  1847  2055  2244  ...  4031   \n",
            "1       NaN     수력    64    51    49    60    41    55    52    54  ...    50   \n",
            "2       NaN     화력   484   573   696   803  1022  1122  1264  1420  ...  2551   \n",
            "3       NaN    원자력   529   563   565   581   587   670   739   771  ...  1429   \n",
            "4       NaN    신재생     -     -     -     -     -     -     -     -  ...     -   \n",
            "5        북한     합계   277   263   247   221   231   230   213   193  ...   236   \n",
            "6       NaN     수력   156   150   142   133   138   142   125   107  ...   133   \n",
            "7       NaN     화력   121   113   105    88    93    88    88    86  ...   103   \n",
            "8       NaN    원자력     -     -     -     -     -     -     -     -  ...     -   \n",
            "\n",
            "   2008  2009  2010  2011  2012  2013  2014  2015  2016  \n",
            "0  4224  4336  4747  4969  5096  5171  5220  5281  5404  \n",
            "1    56    56    65    78    77    84    78    58    66  \n",
            "2  2658  2802  3196  3343  3430  3581  3427  3402  3523  \n",
            "3  1510  1478  1486  1547  1503  1388  1564  1648  1620  \n",
            "4     -     -     -     -    86   118   151   173   195  \n",
            "5   255   235   237   211   215   221   216   190   239  \n",
            "6   141   125   134   132   135   139   130   100   128  \n",
            "7   114   110   103    79    80    82    86    90   111  \n",
            "8     -     -     -     -     -     -     -     -     -  \n",
            "\n",
            "[9 rows x 29 columns]\n",
            "\n",
            "\n",
            "          0       1     2     3     4     5     6     7     8     9   ...  \\\n",
            "0  전력량 (억㎾h)  발전 전력별  1990  1991  1992  1993  1994  1995  1996  1997  ...   \n",
            "1         남한      합계  1077  1186  1310  1444  1650  1847  2055  2244  ...   \n",
            "2        NaN      수력    64    51    49    60    41    55    52    54  ...   \n",
            "3        NaN      화력   484   573   696   803  1022  1122  1264  1420  ...   \n",
            "4        NaN     원자력   529   563   565   581   587   670   739   771  ...   \n",
            "5        NaN     신재생     -     -     -     -     -     -     -     -  ...   \n",
            "6         북한      합계   277   263   247   221   231   230   213   193  ...   \n",
            "7        NaN      수력   156   150   142   133   138   142   125   107  ...   \n",
            "8        NaN      화력   121   113   105    88    93    88    88    86  ...   \n",
            "9        NaN     원자력     -     -     -     -     -     -     -     -  ...   \n",
            "\n",
            "     19    20    21    22    23    24    25    26    27    28  \n",
            "0  2007  2008  2009  2010  2011  2012  2013  2014  2015  2016  \n",
            "1  4031  4224  4336  4747  4969  5096  5171  5220  5281  5404  \n",
            "2    50    56    56    65    78    77    84    78    58    66  \n",
            "3  2551  2658  2802  3196  3343  3430  3581  3427  3402  3523  \n",
            "4  1429  1510  1478  1486  1547  1503  1388  1564  1648  1620  \n",
            "5     -     -     -     -     -    86   118   151   173   195  \n",
            "6   236   255   235   237   211   215   221   216   190   239  \n",
            "7   133   141   125   134   132   135   139   130   100   128  \n",
            "8   103   114   110   103    79    80    82    86    90   111  \n",
            "9     -     -     -     -     -     -     -     -     -     -  \n",
            "\n",
            "[10 rows x 29 columns]\n"
          ]
        }
      ]
    },
    {
      "cell_type": "code",
      "source": [
        "from google.colab import files\n",
        "\n",
        "my_files = files.upload()"
      ],
      "metadata": {
        "colab": {
          "base_uri": "https://localhost:8080/",
          "height": 76
        },
        "id": "7WeSQTvTzkzb",
        "outputId": "f69af02c-e045-44d7-a931-67311558f49e"
      },
      "execution_count": null,
      "outputs": [
        {
          "output_type": "display_data",
          "data": {
            "text/plain": [
              "<IPython.core.display.HTML object>"
            ],
            "text/html": [
              "\n",
              "     <input type=\"file\" id=\"files-64c5b047-c714-48e2-8e85-10461067cc89\" name=\"files[]\" multiple disabled\n",
              "        style=\"border:none\" />\n",
              "     <output id=\"result-64c5b047-c714-48e2-8e85-10461067cc89\">\n",
              "      Upload widget is only available when the cell has been executed in the\n",
              "      current browser session. Please rerun this cell to enable.\n",
              "      </output>\n",
              "      <script>// Copyright 2017 Google LLC\n",
              "//\n",
              "// Licensed under the Apache License, Version 2.0 (the \"License\");\n",
              "// you may not use this file except in compliance with the License.\n",
              "// You may obtain a copy of the License at\n",
              "//\n",
              "//      http://www.apache.org/licenses/LICENSE-2.0\n",
              "//\n",
              "// Unless required by applicable law or agreed to in writing, software\n",
              "// distributed under the License is distributed on an \"AS IS\" BASIS,\n",
              "// WITHOUT WARRANTIES OR CONDITIONS OF ANY KIND, either express or implied.\n",
              "// See the License for the specific language governing permissions and\n",
              "// limitations under the License.\n",
              "\n",
              "/**\n",
              " * @fileoverview Helpers for google.colab Python module.\n",
              " */\n",
              "(function(scope) {\n",
              "function span(text, styleAttributes = {}) {\n",
              "  const element = document.createElement('span');\n",
              "  element.textContent = text;\n",
              "  for (const key of Object.keys(styleAttributes)) {\n",
              "    element.style[key] = styleAttributes[key];\n",
              "  }\n",
              "  return element;\n",
              "}\n",
              "\n",
              "// Max number of bytes which will be uploaded at a time.\n",
              "const MAX_PAYLOAD_SIZE = 100 * 1024;\n",
              "\n",
              "function _uploadFiles(inputId, outputId) {\n",
              "  const steps = uploadFilesStep(inputId, outputId);\n",
              "  const outputElement = document.getElementById(outputId);\n",
              "  // Cache steps on the outputElement to make it available for the next call\n",
              "  // to uploadFilesContinue from Python.\n",
              "  outputElement.steps = steps;\n",
              "\n",
              "  return _uploadFilesContinue(outputId);\n",
              "}\n",
              "\n",
              "// This is roughly an async generator (not supported in the browser yet),\n",
              "// where there are multiple asynchronous steps and the Python side is going\n",
              "// to poll for completion of each step.\n",
              "// This uses a Promise to block the python side on completion of each step,\n",
              "// then passes the result of the previous step as the input to the next step.\n",
              "function _uploadFilesContinue(outputId) {\n",
              "  const outputElement = document.getElementById(outputId);\n",
              "  const steps = outputElement.steps;\n",
              "\n",
              "  const next = steps.next(outputElement.lastPromiseValue);\n",
              "  return Promise.resolve(next.value.promise).then((value) => {\n",
              "    // Cache the last promise value to make it available to the next\n",
              "    // step of the generator.\n",
              "    outputElement.lastPromiseValue = value;\n",
              "    return next.value.response;\n",
              "  });\n",
              "}\n",
              "\n",
              "/**\n",
              " * Generator function which is called between each async step of the upload\n",
              " * process.\n",
              " * @param {string} inputId Element ID of the input file picker element.\n",
              " * @param {string} outputId Element ID of the output display.\n",
              " * @return {!Iterable<!Object>} Iterable of next steps.\n",
              " */\n",
              "function* uploadFilesStep(inputId, outputId) {\n",
              "  const inputElement = document.getElementById(inputId);\n",
              "  inputElement.disabled = false;\n",
              "\n",
              "  const outputElement = document.getElementById(outputId);\n",
              "  outputElement.innerHTML = '';\n",
              "\n",
              "  const pickedPromise = new Promise((resolve) => {\n",
              "    inputElement.addEventListener('change', (e) => {\n",
              "      resolve(e.target.files);\n",
              "    });\n",
              "  });\n",
              "\n",
              "  const cancel = document.createElement('button');\n",
              "  inputElement.parentElement.appendChild(cancel);\n",
              "  cancel.textContent = 'Cancel upload';\n",
              "  const cancelPromise = new Promise((resolve) => {\n",
              "    cancel.onclick = () => {\n",
              "      resolve(null);\n",
              "    };\n",
              "  });\n",
              "\n",
              "  // Wait for the user to pick the files.\n",
              "  const files = yield {\n",
              "    promise: Promise.race([pickedPromise, cancelPromise]),\n",
              "    response: {\n",
              "      action: 'starting',\n",
              "    }\n",
              "  };\n",
              "\n",
              "  cancel.remove();\n",
              "\n",
              "  // Disable the input element since further picks are not allowed.\n",
              "  inputElement.disabled = true;\n",
              "\n",
              "  if (!files) {\n",
              "    return {\n",
              "      response: {\n",
              "        action: 'complete',\n",
              "      }\n",
              "    };\n",
              "  }\n",
              "\n",
              "  for (const file of files) {\n",
              "    const li = document.createElement('li');\n",
              "    li.append(span(file.name, {fontWeight: 'bold'}));\n",
              "    li.append(span(\n",
              "        `(${file.type || 'n/a'}) - ${file.size} bytes, ` +\n",
              "        `last modified: ${\n",
              "            file.lastModifiedDate ? file.lastModifiedDate.toLocaleDateString() :\n",
              "                                    'n/a'} - `));\n",
              "    const percent = span('0% done');\n",
              "    li.appendChild(percent);\n",
              "\n",
              "    outputElement.appendChild(li);\n",
              "\n",
              "    const fileDataPromise = new Promise((resolve) => {\n",
              "      const reader = new FileReader();\n",
              "      reader.onload = (e) => {\n",
              "        resolve(e.target.result);\n",
              "      };\n",
              "      reader.readAsArrayBuffer(file);\n",
              "    });\n",
              "    // Wait for the data to be ready.\n",
              "    let fileData = yield {\n",
              "      promise: fileDataPromise,\n",
              "      response: {\n",
              "        action: 'continue',\n",
              "      }\n",
              "    };\n",
              "\n",
              "    // Use a chunked sending to avoid message size limits. See b/62115660.\n",
              "    let position = 0;\n",
              "    do {\n",
              "      const length = Math.min(fileData.byteLength - position, MAX_PAYLOAD_SIZE);\n",
              "      const chunk = new Uint8Array(fileData, position, length);\n",
              "      position += length;\n",
              "\n",
              "      const base64 = btoa(String.fromCharCode.apply(null, chunk));\n",
              "      yield {\n",
              "        response: {\n",
              "          action: 'append',\n",
              "          file: file.name,\n",
              "          data: base64,\n",
              "        },\n",
              "      };\n",
              "\n",
              "      let percentDone = fileData.byteLength === 0 ?\n",
              "          100 :\n",
              "          Math.round((position / fileData.byteLength) * 100);\n",
              "      percent.textContent = `${percentDone}% done`;\n",
              "\n",
              "    } while (position < fileData.byteLength);\n",
              "  }\n",
              "\n",
              "  // All done.\n",
              "  yield {\n",
              "    response: {\n",
              "      action: 'complete',\n",
              "    }\n",
              "  };\n",
              "}\n",
              "\n",
              "scope.google = scope.google || {};\n",
              "scope.google.colab = scope.google.colab || {};\n",
              "scope.google.colab._files = {\n",
              "  _uploadFiles,\n",
              "  _uploadFilesContinue,\n",
              "};\n",
              "})(self);\n",
              "</script> "
            ]
          },
          "metadata": {}
        },
        {
          "output_type": "stream",
          "name": "stdout",
          "text": [
            "Saving read_json_sample.json to read_json_sample.json\n"
          ]
        }
      ]
    },
    {
      "cell_type": "code",
      "source": [
        "import pandas as pd\n",
        "\n",
        "file_path = './read_json_sample.json'\n",
        "\n",
        "#read_json() 함수로 데이터프레임 변환\n",
        "df = pd.read_json(file_path)\n",
        "print(df)\n",
        "print('\\n')\n",
        "print(df.index)"
      ],
      "metadata": {
        "colab": {
          "base_uri": "https://localhost:8080/"
        },
        "id": "1dJKvcxUz4H8",
        "outputId": "3806c236-d598-4e8d-b685-6d6c73391f45"
      },
      "execution_count": null,
      "outputs": [
        {
          "output_type": "stream",
          "name": "stdout",
          "text": [
            "           name  year        developer opensource\n",
            "pandas           2008    Wes Mckinneye       True\n",
            "NumPy            2006  Travis Oliphant       True\n",
            "matplotlib       2003   John D. Hunter       True\n",
            "\n",
            "\n",
            "Index(['pandas', 'NumPy', 'matplotlib'], dtype='object')\n"
          ]
        }
      ]
    },
    {
      "cell_type": "code",
      "source": [
        "from google.colab import files\n",
        "\n",
        "my_file = files.upload()"
      ],
      "metadata": {
        "colab": {
          "base_uri": "https://localhost:8080/",
          "height": 76
        },
        "id": "TIUKINNP0c__",
        "outputId": "2ee70829-9d0c-4508-9b2d-c0749d58548d"
      },
      "execution_count": null,
      "outputs": [
        {
          "output_type": "display_data",
          "data": {
            "text/plain": [
              "<IPython.core.display.HTML object>"
            ],
            "text/html": [
              "\n",
              "     <input type=\"file\" id=\"files-1bf536a3-6e4a-40e4-a2ea-546eea0afdb7\" name=\"files[]\" multiple disabled\n",
              "        style=\"border:none\" />\n",
              "     <output id=\"result-1bf536a3-6e4a-40e4-a2ea-546eea0afdb7\">\n",
              "      Upload widget is only available when the cell has been executed in the\n",
              "      current browser session. Please rerun this cell to enable.\n",
              "      </output>\n",
              "      <script>// Copyright 2017 Google LLC\n",
              "//\n",
              "// Licensed under the Apache License, Version 2.0 (the \"License\");\n",
              "// you may not use this file except in compliance with the License.\n",
              "// You may obtain a copy of the License at\n",
              "//\n",
              "//      http://www.apache.org/licenses/LICENSE-2.0\n",
              "//\n",
              "// Unless required by applicable law or agreed to in writing, software\n",
              "// distributed under the License is distributed on an \"AS IS\" BASIS,\n",
              "// WITHOUT WARRANTIES OR CONDITIONS OF ANY KIND, either express or implied.\n",
              "// See the License for the specific language governing permissions and\n",
              "// limitations under the License.\n",
              "\n",
              "/**\n",
              " * @fileoverview Helpers for google.colab Python module.\n",
              " */\n",
              "(function(scope) {\n",
              "function span(text, styleAttributes = {}) {\n",
              "  const element = document.createElement('span');\n",
              "  element.textContent = text;\n",
              "  for (const key of Object.keys(styleAttributes)) {\n",
              "    element.style[key] = styleAttributes[key];\n",
              "  }\n",
              "  return element;\n",
              "}\n",
              "\n",
              "// Max number of bytes which will be uploaded at a time.\n",
              "const MAX_PAYLOAD_SIZE = 100 * 1024;\n",
              "\n",
              "function _uploadFiles(inputId, outputId) {\n",
              "  const steps = uploadFilesStep(inputId, outputId);\n",
              "  const outputElement = document.getElementById(outputId);\n",
              "  // Cache steps on the outputElement to make it available for the next call\n",
              "  // to uploadFilesContinue from Python.\n",
              "  outputElement.steps = steps;\n",
              "\n",
              "  return _uploadFilesContinue(outputId);\n",
              "}\n",
              "\n",
              "// This is roughly an async generator (not supported in the browser yet),\n",
              "// where there are multiple asynchronous steps and the Python side is going\n",
              "// to poll for completion of each step.\n",
              "// This uses a Promise to block the python side on completion of each step,\n",
              "// then passes the result of the previous step as the input to the next step.\n",
              "function _uploadFilesContinue(outputId) {\n",
              "  const outputElement = document.getElementById(outputId);\n",
              "  const steps = outputElement.steps;\n",
              "\n",
              "  const next = steps.next(outputElement.lastPromiseValue);\n",
              "  return Promise.resolve(next.value.promise).then((value) => {\n",
              "    // Cache the last promise value to make it available to the next\n",
              "    // step of the generator.\n",
              "    outputElement.lastPromiseValue = value;\n",
              "    return next.value.response;\n",
              "  });\n",
              "}\n",
              "\n",
              "/**\n",
              " * Generator function which is called between each async step of the upload\n",
              " * process.\n",
              " * @param {string} inputId Element ID of the input file picker element.\n",
              " * @param {string} outputId Element ID of the output display.\n",
              " * @return {!Iterable<!Object>} Iterable of next steps.\n",
              " */\n",
              "function* uploadFilesStep(inputId, outputId) {\n",
              "  const inputElement = document.getElementById(inputId);\n",
              "  inputElement.disabled = false;\n",
              "\n",
              "  const outputElement = document.getElementById(outputId);\n",
              "  outputElement.innerHTML = '';\n",
              "\n",
              "  const pickedPromise = new Promise((resolve) => {\n",
              "    inputElement.addEventListener('change', (e) => {\n",
              "      resolve(e.target.files);\n",
              "    });\n",
              "  });\n",
              "\n",
              "  const cancel = document.createElement('button');\n",
              "  inputElement.parentElement.appendChild(cancel);\n",
              "  cancel.textContent = 'Cancel upload';\n",
              "  const cancelPromise = new Promise((resolve) => {\n",
              "    cancel.onclick = () => {\n",
              "      resolve(null);\n",
              "    };\n",
              "  });\n",
              "\n",
              "  // Wait for the user to pick the files.\n",
              "  const files = yield {\n",
              "    promise: Promise.race([pickedPromise, cancelPromise]),\n",
              "    response: {\n",
              "      action: 'starting',\n",
              "    }\n",
              "  };\n",
              "\n",
              "  cancel.remove();\n",
              "\n",
              "  // Disable the input element since further picks are not allowed.\n",
              "  inputElement.disabled = true;\n",
              "\n",
              "  if (!files) {\n",
              "    return {\n",
              "      response: {\n",
              "        action: 'complete',\n",
              "      }\n",
              "    };\n",
              "  }\n",
              "\n",
              "  for (const file of files) {\n",
              "    const li = document.createElement('li');\n",
              "    li.append(span(file.name, {fontWeight: 'bold'}));\n",
              "    li.append(span(\n",
              "        `(${file.type || 'n/a'}) - ${file.size} bytes, ` +\n",
              "        `last modified: ${\n",
              "            file.lastModifiedDate ? file.lastModifiedDate.toLocaleDateString() :\n",
              "                                    'n/a'} - `));\n",
              "    const percent = span('0% done');\n",
              "    li.appendChild(percent);\n",
              "\n",
              "    outputElement.appendChild(li);\n",
              "\n",
              "    const fileDataPromise = new Promise((resolve) => {\n",
              "      const reader = new FileReader();\n",
              "      reader.onload = (e) => {\n",
              "        resolve(e.target.result);\n",
              "      };\n",
              "      reader.readAsArrayBuffer(file);\n",
              "    });\n",
              "    // Wait for the data to be ready.\n",
              "    let fileData = yield {\n",
              "      promise: fileDataPromise,\n",
              "      response: {\n",
              "        action: 'continue',\n",
              "      }\n",
              "    };\n",
              "\n",
              "    // Use a chunked sending to avoid message size limits. See b/62115660.\n",
              "    let position = 0;\n",
              "    do {\n",
              "      const length = Math.min(fileData.byteLength - position, MAX_PAYLOAD_SIZE);\n",
              "      const chunk = new Uint8Array(fileData, position, length);\n",
              "      position += length;\n",
              "\n",
              "      const base64 = btoa(String.fromCharCode.apply(null, chunk));\n",
              "      yield {\n",
              "        response: {\n",
              "          action: 'append',\n",
              "          file: file.name,\n",
              "          data: base64,\n",
              "        },\n",
              "      };\n",
              "\n",
              "      let percentDone = fileData.byteLength === 0 ?\n",
              "          100 :\n",
              "          Math.round((position / fileData.byteLength) * 100);\n",
              "      percent.textContent = `${percentDone}% done`;\n",
              "\n",
              "    } while (position < fileData.byteLength);\n",
              "  }\n",
              "\n",
              "  // All done.\n",
              "  yield {\n",
              "    response: {\n",
              "      action: 'complete',\n",
              "    }\n",
              "  };\n",
              "}\n",
              "\n",
              "scope.google = scope.google || {};\n",
              "scope.google.colab = scope.google.colab || {};\n",
              "scope.google.colab._files = {\n",
              "  _uploadFiles,\n",
              "  _uploadFilesContinue,\n",
              "};\n",
              "})(self);\n",
              "</script> "
            ]
          },
          "metadata": {}
        },
        {
          "output_type": "stream",
          "name": "stdout",
          "text": [
            "Saving sample.html to sample.html\n"
          ]
        }
      ]
    },
    {
      "cell_type": "code",
      "source": [
        "import pandas as pd\n",
        "import os\n",
        "\n",
        "print(os.listdir())\n",
        "\n",
        "# HTML 파일 경로 or 웹 페이지 주소를 url 변수에 저장 \n",
        "\n",
        "url = './sample.html'\n",
        "\n",
        "tables = pd.read_html(url)\n",
        "\n",
        "# 표(table)의 개수 확인 \n",
        "\n",
        "print(len(tables))\n",
        "print('\\n')\n",
        "\n",
        "# tables 리스트의 원소를 iteration하면서 각각 화면 출력 \n",
        "\n",
        "for i in range(len(tables)):\n",
        "  print(\"tables[%s] \" %i)\n",
        "  print(tables[i])\n",
        "  print('\\n')\n",
        "\n",
        "\n",
        "# 파이썬 패키지 정보가 들어 있는 두 번째 데이터프레임을 선택하여 df 변수에 저장 \n",
        "\n",
        "df = tables[1]\n",
        "\n",
        "# 'name' 열을 인덱스로 지정 \n",
        "\n",
        "df.set_index('name', inplace=True)\n",
        "print(df)\n"
      ],
      "metadata": {
        "colab": {
          "base_uri": "https://localhost:8080/"
        },
        "id": "xdCpig_OvFJM",
        "outputId": "ec356337-81f7-48e2-e18c-e420afabbf82"
      },
      "execution_count": null,
      "outputs": [
        {
          "output_type": "stream",
          "name": "stdout",
          "text": [
            "['.config', 'sample.html', 'sample_data']\n",
            "2\n",
            "\n",
            "\n",
            "tables[0] \n",
            "   Unnamed: 0  c0  c1  c2  c3\n",
            "0           0   0   1   4   7\n",
            "1           1   1   2   5   8\n",
            "2           2   2   3   6   9\n",
            "\n",
            "\n",
            "tables[1] \n",
            "         name  year        developer  opensource\n",
            "0       NumPy  2006  Travis Oliphant        True\n",
            "1  matplotlib  2003   John D. Hunter        True\n",
            "2      pandas  2008    Wes Mckinneye        True\n",
            "\n",
            "\n",
            "            year        developer  opensource\n",
            "name                                         \n",
            "NumPy       2006  Travis Oliphant        True\n",
            "matplotlib  2003   John D. Hunter        True\n",
            "pandas      2008    Wes Mckinneye        True\n"
          ]
        }
      ]
    },
    {
      "cell_type": "markdown",
      "source": [
        "**웹 스크래핑**"
      ],
      "metadata": {
        "id": "r0br1lvWw-iu"
      }
    },
    {
      "cell_type": "code",
      "source": [
        "import pandas as pd\n",
        "from bs4 import BeautifulSoup\n",
        "import requests\n",
        "import re\n",
        "\n",
        "\n",
        "\n",
        "# 미국 ETF 리스트 가져오기\n",
        "url = \"https://en.wikipedia.org/wiki/List_of_American_exchange-traded_funds\"\n",
        "resp = requests.get(url)\n",
        "\n",
        "soup = BeautifulSoup(resp.text, 'lxml')\n",
        "rows = soup.select('div > ul > li')\n",
        "\n",
        "etfs = {}\n",
        "for row in rows:\n",
        "    # print(row)\n",
        "    try:\n",
        "        etf_name = re.findall('^(.*) \\(NYSE', row.text) #re.findall('^(.*) \\(NYSE', row.text)\n",
        "        etf_market = re.findall('\\((.*)\\|', row.text) #re.findall('\\((.*)\\|', row.text)\n",
        "        etf_ticker = re.findall('NYSE Arca\\|(.*)\\)', row.text) # re.findall('NYSE Arca\\|(.*)\\)', row.text)\n",
        "\n",
        "        # print(etf_name, etf_market, etf_ticker)\n",
        "\n",
        "        if (len(etf_ticker) > 0) & (len(etf_market) > 0) & (len(etf_name) > 0):\n",
        "            etfs[etf_ticker[0]] = [etf_market[0], etf_name[0]]\n",
        "\n",
        "    except AttributeError as err:\n",
        "        pass\n",
        "\n",
        "# etfs 딕셔너리 출력\n",
        "print(etfs)\n",
        "print('\\n')\n",
        "\n",
        "# etfs 딕셔너리를 데이터프레임으로 변환\n",
        "df = pd.DataFrame(etfs)\n",
        "print(df)\n"
      ],
      "metadata": {
        "colab": {
          "base_uri": "https://localhost:8080/"
        },
        "id": "zdCeQ5cyvXFp",
        "outputId": "e559aa3a-225e-4d90-e406-809671d00c6a"
      },
      "execution_count": null,
      "outputs": [
        {
          "output_type": "stream",
          "name": "stdout",
          "text": [
            "<Response [200]>\n",
            "[<li class=\"mw-list-item\" id=\"n-mainpage-description\"><a accesskey=\"z\" href=\"/wiki/Main_Page\" title=\"Visit the main page [z]\"><span>Main page</span></a></li>, <li class=\"mw-list-item\" id=\"n-contents\"><a href=\"/wiki/Wikipedia:Contents\" title=\"Guides to browsing Wikipedia\"><span>Contents</span></a></li>, <li class=\"mw-list-item\" id=\"n-currentevents\"><a href=\"/wiki/Portal:Current_events\" title=\"Articles related to current events\"><span>Current events</span></a></li>, <li class=\"mw-list-item\" id=\"n-randompage\"><a accesskey=\"x\" href=\"/wiki/Special:Random\" title=\"Visit a randomly selected article [x]\"><span>Random article</span></a></li>, <li class=\"mw-list-item\" id=\"n-aboutsite\"><a href=\"/wiki/Wikipedia:About\" title=\"Learn about Wikipedia and how it works\"><span>About Wikipedia</span></a></li>, <li class=\"mw-list-item\" id=\"n-contactpage\"><a href=\"//en.wikipedia.org/wiki/Wikipedia:Contact_us\" title=\"How to contact Wikipedia\"><span>Contact us</span></a></li>, <li class=\"mw-list-item\" id=\"n-sitesupport\"><a href=\"https://donate.wikimedia.org/wiki/Special:FundraiserRedirector?utm_source=donate&amp;utm_medium=sidebar&amp;utm_campaign=C13_en.wikipedia.org&amp;uselang=en\" title=\"Support us by donating to the Wikimedia Foundation\"><span>Donate</span></a></li>, <li class=\"mw-list-item\" id=\"n-help\"><a href=\"/wiki/Help:Contents\" title=\"Guidance on how to use and edit Wikipedia\"><span>Help</span></a></li>, <li class=\"mw-list-item\" id=\"n-introduction\"><a href=\"/wiki/Help:Introduction\" title=\"Learn how to edit Wikipedia\"><span>Learn to edit</span></a></li>, <li class=\"mw-list-item\" id=\"n-portal\"><a href=\"/wiki/Wikipedia:Community_portal\" title=\"The hub for editors\"><span>Community portal</span></a></li>, <li class=\"mw-list-item\" id=\"n-recentchanges\"><a accesskey=\"r\" href=\"/wiki/Special:RecentChanges\" title=\"A list of recent changes to Wikipedia [r]\"><span>Recent changes</span></a></li>, <li class=\"mw-list-item\" id=\"n-upload\"><a href=\"/wiki/Wikipedia:File_upload_wizard\" title=\"Add images or other media for use on Wikipedia\"><span>Upload file</span></a></li>, <li class=\"user-links-collapsible-item mw-list-item\" id=\"pt-createaccount-2\"><a href=\"/w/index.php?title=Special:CreateAccount&amp;returnto=List+of+American+exchange-traded+funds\" title=\"You are encouraged to create an account and log in; however, it is not mandatory\"><span>Create account</span></a></li>, <li class=\"user-links-collapsible-item mw-list-item\" id=\"pt-login-2\"><a accesskey=\"o\" href=\"/w/index.php?title=Special:UserLogin&amp;returnto=List+of+American+exchange-traded+funds\" title=\"You're encouraged to log in; however, it's not mandatory. [o]\"><span>Log in</span></a></li>, <li class=\"user-links-collapsible-item mw-list-item\" id=\"pt-createaccount\"><a href=\"/w/index.php?title=Special:CreateAccount&amp;returnto=List+of+American+exchange-traded+funds\" title=\"You are encouraged to create an account and log in; however, it is not mandatory\"><span class=\"mw-ui-icon mw-ui-icon-userAdd mw-ui-icon-wikimedia-userAdd\"></span> <span>Create account</span></a></li>, <li class=\"user-links-collapsible-item mw-list-item\" id=\"pt-login\"><a accesskey=\"o\" href=\"/w/index.php?title=Special:UserLogin&amp;returnto=List+of+American+exchange-traded+funds\" title=\"You're encouraged to log in; however, it's not mandatory. [o]\"><span class=\"mw-ui-icon mw-ui-icon-logIn mw-ui-icon-wikimedia-logIn\"></span> <span>Log in</span></a></li>, <li class=\"mw-list-item\" id=\"pt-anoncontribs\"><a accesskey=\"y\" href=\"/wiki/Special:MyContributions\" title=\"A list of edits made from this IP address [y]\"><span>Contributions</span></a></li>, <li class=\"mw-list-item\" id=\"pt-anontalk\"><a accesskey=\"n\" href=\"/wiki/Special:MyTalk\" title=\"Discussion about edits from this IP address [n]\"><span>Talk</span></a></li>, <li class=\"vector-toc-list-item vector-toc-level-1\" id=\"toc-mw-content-text\">\n",
            "<a class=\"vector-toc-link\" href=\"#\">\n",
            "<div class=\"vector-toc-text\">(Top)</div>\n",
            "</a>\n",
            "</li>, <li class=\"vector-toc-list-item vector-toc-level-1\" id=\"toc-Stock_ETFs\">\n",
            "<a class=\"vector-toc-link\" href=\"#Stock_ETFs\">\n",
            "<div class=\"vector-toc-text\">\n",
            "<span class=\"vector-toc-numb\">1</span>Stock ETFs</div>\n",
            "</a>\n",
            "<button aria-controls=\"toc-Stock_ETFs-sublist\" class=\"mw-ui-icon mw-ui-icon-wikimedia-expand mw-ui-icon-small vector-toc-toggle\">\n",
            "\t\t\t\tToggle Stock ETFs subsection\n",
            "\t\t\t</button>\n",
            "<ul class=\"vector-toc-list\" id=\"toc-Stock_ETFs-sublist\">\n",
            "<li class=\"vector-toc-list-item vector-toc-level-2\" id=\"toc-Broad_market_ETFs\">\n",
            "<a class=\"vector-toc-link\" href=\"#Broad_market_ETFs\">\n",
            "<div class=\"vector-toc-text\">\n",
            "<span class=\"vector-toc-numb\">1.1</span>Broad market ETFs</div>\n",
            "</a>\n",
            "<ul class=\"vector-toc-list\" id=\"toc-Broad_market_ETFs-sublist\">\n",
            "</ul>\n",
            "</li>\n",
            "<li class=\"vector-toc-list-item vector-toc-level-2\" id=\"toc-Index-tracking_ETFs\">\n",
            "<a class=\"vector-toc-link\" href=\"#Index-tracking_ETFs\">\n",
            "<div class=\"vector-toc-text\">\n",
            "<span class=\"vector-toc-numb\">1.2</span>Index-tracking ETFs</div>\n",
            "</a>\n",
            "<ul class=\"vector-toc-list\" id=\"toc-Index-tracking_ETFs-sublist\">\n",
            "</ul>\n",
            "</li>\n",
            "<li class=\"vector-toc-list-item vector-toc-level-2\" id=\"toc-Style_ETFs\">\n",
            "<a class=\"vector-toc-link\" href=\"#Style_ETFs\">\n",
            "<div class=\"vector-toc-text\">\n",
            "<span class=\"vector-toc-numb\">1.3</span>Style ETFs</div>\n",
            "</a>\n",
            "<ul class=\"vector-toc-list\" id=\"toc-Style_ETFs-sublist\">\n",
            "<li class=\"vector-toc-list-item vector-toc-level-3\" id=\"toc-Large-cap_ETFs\">\n",
            "<a class=\"vector-toc-link\" href=\"#Large-cap_ETFs\">\n",
            "<div class=\"vector-toc-text\">\n",
            "<span class=\"vector-toc-numb\">1.3.1</span>Large-cap ETFs</div>\n",
            "</a>\n",
            "<ul class=\"vector-toc-list\" id=\"toc-Large-cap_ETFs-sublist\">\n",
            "</ul>\n",
            "</li>\n",
            "<li class=\"vector-toc-list-item vector-toc-level-3\" id=\"toc-Mid-cap_ETFs\">\n",
            "<a class=\"vector-toc-link\" href=\"#Mid-cap_ETFs\">\n",
            "<div class=\"vector-toc-text\">\n",
            "<span class=\"vector-toc-numb\">1.3.2</span>Mid-cap ETFs</div>\n",
            "</a>\n",
            "<ul class=\"vector-toc-list\" id=\"toc-Mid-cap_ETFs-sublist\">\n",
            "</ul>\n",
            "</li>\n",
            "<li class=\"vector-toc-list-item vector-toc-level-3\" id=\"toc-Small-cap_ETFs\">\n",
            "<a class=\"vector-toc-link\" href=\"#Small-cap_ETFs\">\n",
            "<div class=\"vector-toc-text\">\n",
            "<span class=\"vector-toc-numb\">1.3.3</span>Small-cap ETFs</div>\n",
            "</a>\n",
            "<ul class=\"vector-toc-list\" id=\"toc-Small-cap_ETFs-sublist\">\n",
            "</ul>\n",
            "</li>\n",
            "</ul>\n",
            "</li>\n",
            "<li class=\"vector-toc-list-item vector-toc-level-2\" id=\"toc-International_ETFs\">\n",
            "<a class=\"vector-toc-link\" href=\"#International_ETFs\">\n",
            "<div class=\"vector-toc-text\">\n",
            "<span class=\"vector-toc-numb\">1.4</span>International ETFs</div>\n",
            "</a>\n",
            "<ul class=\"vector-toc-list\" id=\"toc-International_ETFs-sublist\">\n",
            "<li class=\"vector-toc-list-item vector-toc-level-3\" id=\"toc-Broad_ex-US_ETFs\">\n",
            "<a class=\"vector-toc-link\" href=\"#Broad_ex-US_ETFs\">\n",
            "<div class=\"vector-toc-text\">\n",
            "<span class=\"vector-toc-numb\">1.4.1</span>Broad ex-US ETFs</div>\n",
            "</a>\n",
            "<ul class=\"vector-toc-list\" id=\"toc-Broad_ex-US_ETFs-sublist\">\n",
            "</ul>\n",
            "</li>\n",
            "<li class=\"vector-toc-list-item vector-toc-level-3\" id=\"toc-Regional_ex-US_ETFs\">\n",
            "<a class=\"vector-toc-link\" href=\"#Regional_ex-US_ETFs\">\n",
            "<div class=\"vector-toc-text\">\n",
            "<span class=\"vector-toc-numb\">1.4.2</span>Regional ex-US ETFs</div>\n",
            "</a>\n",
            "<ul class=\"vector-toc-list\" id=\"toc-Regional_ex-US_ETFs-sublist\">\n",
            "</ul>\n",
            "</li>\n",
            "<li class=\"vector-toc-list-item vector-toc-level-3\" id=\"toc-Country_ETFs\">\n",
            "<a class=\"vector-toc-link\" href=\"#Country_ETFs\">\n",
            "<div class=\"vector-toc-text\">\n",
            "<span class=\"vector-toc-numb\">1.4.3</span>Country ETFs</div>\n",
            "</a>\n",
            "<ul class=\"vector-toc-list\" id=\"toc-Country_ETFs-sublist\">\n",
            "<li class=\"vector-toc-list-item vector-toc-level-4\" id=\"toc-Developed_ex-US_markets\">\n",
            "<a class=\"vector-toc-link\" href=\"#Developed_ex-US_markets\">\n",
            "<div class=\"vector-toc-text\">\n",
            "<span class=\"vector-toc-numb\">1.4.3.1</span>Developed ex-US markets</div>\n",
            "</a>\n",
            "<ul class=\"vector-toc-list\" id=\"toc-Developed_ex-US_markets-sublist\">\n",
            "</ul>\n",
            "</li>\n",
            "<li class=\"vector-toc-list-item vector-toc-level-4\" id=\"toc-Emerging_markets\">\n",
            "<a class=\"vector-toc-link\" href=\"#Emerging_markets\">\n",
            "<div class=\"vector-toc-text\">\n",
            "<span class=\"vector-toc-numb\">1.4.3.2</span>Emerging markets</div>\n",
            "</a>\n",
            "<ul class=\"vector-toc-list\" id=\"toc-Emerging_markets-sublist\">\n",
            "</ul>\n",
            "</li>\n",
            "</ul>\n",
            "</li>\n",
            "</ul>\n",
            "</li>\n",
            "<li class=\"vector-toc-list-item vector-toc-level-2\" id=\"toc-Sector_ETFs\">\n",
            "<a class=\"vector-toc-link\" href=\"#Sector_ETFs\">\n",
            "<div class=\"vector-toc-text\">\n",
            "<span class=\"vector-toc-numb\">1.5</span>Sector ETFs</div>\n",
            "</a>\n",
            "<ul class=\"vector-toc-list\" id=\"toc-Sector_ETFs-sublist\">\n",
            "<li class=\"vector-toc-list-item vector-toc-level-3\" id=\"toc-US_domestic_sectors\">\n",
            "<a class=\"vector-toc-link\" href=\"#US_domestic_sectors\">\n",
            "<div class=\"vector-toc-text\">\n",
            "<span class=\"vector-toc-numb\">1.5.1</span>US domestic sectors</div>\n",
            "</a>\n",
            "<ul class=\"vector-toc-list\" id=\"toc-US_domestic_sectors-sublist\">\n",
            "</ul>\n",
            "</li>\n",
            "<li class=\"vector-toc-list-item vector-toc-level-3\" id=\"toc-Global_sectors\">\n",
            "<a class=\"vector-toc-link\" href=\"#Global_sectors\">\n",
            "<div class=\"vector-toc-text\">\n",
            "<span class=\"vector-toc-numb\">1.5.2</span>Global sectors</div>\n",
            "</a>\n",
            "<ul class=\"vector-toc-list\" id=\"toc-Global_sectors-sublist\">\n",
            "</ul>\n",
            "</li>\n",
            "</ul>\n",
            "</li>\n",
            "</ul>\n",
            "</li>, <li class=\"vector-toc-list-item vector-toc-level-1\" id=\"toc-Bond_ETFs\">\n",
            "<a class=\"vector-toc-link\" href=\"#Bond_ETFs\">\n",
            "<div class=\"vector-toc-text\">\n",
            "<span class=\"vector-toc-numb\">2</span>Bond ETFs</div>\n",
            "</a>\n",
            "<ul class=\"vector-toc-list\" id=\"toc-Bond_ETFs-sublist\">\n",
            "</ul>\n",
            "</li>, <li class=\"vector-toc-list-item vector-toc-level-1\" id=\"toc-Commodity_ETFs\">\n",
            "<a class=\"vector-toc-link\" href=\"#Commodity_ETFs\">\n",
            "<div class=\"vector-toc-text\">\n",
            "<span class=\"vector-toc-numb\">3</span>Commodity ETFs</div>\n",
            "</a>\n",
            "<button aria-controls=\"toc-Commodity_ETFs-sublist\" class=\"mw-ui-icon mw-ui-icon-wikimedia-expand mw-ui-icon-small vector-toc-toggle\">\n",
            "\t\t\t\tToggle Commodity ETFs subsection\n",
            "\t\t\t</button>\n",
            "<ul class=\"vector-toc-list\" id=\"toc-Commodity_ETFs-sublist\">\n",
            "<li class=\"vector-toc-list-item vector-toc-level-2\" id=\"toc-Broad_basket\">\n",
            "<a class=\"vector-toc-link\" href=\"#Broad_basket\">\n",
            "<div class=\"vector-toc-text\">\n",
            "<span class=\"vector-toc-numb\">3.1</span>Broad basket</div>\n",
            "</a>\n",
            "<ul class=\"vector-toc-list\" id=\"toc-Broad_basket-sublist\">\n",
            "</ul>\n",
            "</li>\n",
            "<li class=\"vector-toc-list-item vector-toc-level-2\" id=\"toc-Agricultural_ETFs\">\n",
            "<a class=\"vector-toc-link\" href=\"#Agricultural_ETFs\">\n",
            "<div class=\"vector-toc-text\">\n",
            "<span class=\"vector-toc-numb\">3.2</span>Agricultural ETFs</div>\n",
            "</a>\n",
            "<ul class=\"vector-toc-list\" id=\"toc-Agricultural_ETFs-sublist\">\n",
            "</ul>\n",
            "</li>\n",
            "<li class=\"vector-toc-list-item vector-toc-level-2\" id=\"toc-Energy_commodity_ETFs\">\n",
            "<a class=\"vector-toc-link\" href=\"#Energy_commodity_ETFs\">\n",
            "<div class=\"vector-toc-text\">\n",
            "<span class=\"vector-toc-numb\">3.3</span>Energy commodity ETFs</div>\n",
            "</a>\n",
            "<ul class=\"vector-toc-list\" id=\"toc-Energy_commodity_ETFs-sublist\">\n",
            "</ul>\n",
            "</li>\n",
            "<li class=\"vector-toc-list-item vector-toc-level-2\" id=\"toc-Industrial_commodity_ETFs\">\n",
            "<a class=\"vector-toc-link\" href=\"#Industrial_commodity_ETFs\">\n",
            "<div class=\"vector-toc-text\">\n",
            "<span class=\"vector-toc-numb\">3.4</span>Industrial commodity ETFs</div>\n",
            "</a>\n",
            "<ul class=\"vector-toc-list\" id=\"toc-Industrial_commodity_ETFs-sublist\">\n",
            "</ul>\n",
            "</li>\n",
            "<li class=\"vector-toc-list-item vector-toc-level-2\" id=\"toc-Precious_metals_ETFs\">\n",
            "<a class=\"vector-toc-link\" href=\"#Precious_metals_ETFs\">\n",
            "<div class=\"vector-toc-text\">\n",
            "<span class=\"vector-toc-numb\">3.5</span>Precious metals ETFs</div>\n",
            "</a>\n",
            "<ul class=\"vector-toc-list\" id=\"toc-Precious_metals_ETFs-sublist\">\n",
            "</ul>\n",
            "</li>\n",
            "</ul>\n",
            "</li>, <li class=\"vector-toc-list-item vector-toc-level-1\" id=\"toc-Real_estate_ETFs\">\n",
            "<a class=\"vector-toc-link\" href=\"#Real_estate_ETFs\">\n",
            "<div class=\"vector-toc-text\">\n",
            "<span class=\"vector-toc-numb\">4</span>Real estate ETFs</div>\n",
            "</a>\n",
            "<ul class=\"vector-toc-list\" id=\"toc-Real_estate_ETFs-sublist\">\n",
            "</ul>\n",
            "</li>, <li class=\"vector-toc-list-item vector-toc-level-1\" id=\"toc-Leveraged_&amp;_short_ETFs\">\n",
            "<a class=\"vector-toc-link\" href=\"#Leveraged_&amp;_short_ETFs\">\n",
            "<div class=\"vector-toc-text\">\n",
            "<span class=\"vector-toc-numb\">5</span>Leveraged &amp; short ETFs</div>\n",
            "</a>\n",
            "<button aria-controls=\"toc-Leveraged_&amp;_short_ETFs-sublist\" class=\"mw-ui-icon mw-ui-icon-wikimedia-expand mw-ui-icon-small vector-toc-toggle\">\n",
            "\t\t\t\tToggle Leveraged &amp; short ETFs subsection\n",
            "\t\t\t</button>\n",
            "<ul class=\"vector-toc-list\" id=\"toc-Leveraged_&amp;_short_ETFs-sublist\">\n",
            "<li class=\"vector-toc-list-item vector-toc-level-2\" id=\"toc-Short_ETFs\">\n",
            "<a class=\"vector-toc-link\" href=\"#Short_ETFs\">\n",
            "<div class=\"vector-toc-text\">\n",
            "<span class=\"vector-toc-numb\">5.1</span>Short ETFs</div>\n",
            "</a>\n",
            "<ul class=\"vector-toc-list\" id=\"toc-Short_ETFs-sublist\">\n",
            "</ul>\n",
            "</li>\n",
            "<li class=\"vector-toc-list-item vector-toc-level-2\" id=\"toc-Leveraged_ETFs\">\n",
            "<a class=\"vector-toc-link\" href=\"#Leveraged_ETFs\">\n",
            "<div class=\"vector-toc-text\">\n",
            "<span class=\"vector-toc-numb\">5.2</span>Leveraged ETFs</div>\n",
            "</a>\n",
            "<ul class=\"vector-toc-list\" id=\"toc-Leveraged_ETFs-sublist\">\n",
            "</ul>\n",
            "</li>\n",
            "<li class=\"vector-toc-list-item vector-toc-level-2\" id=\"toc-Leveraged_short_ETFs\">\n",
            "<a class=\"vector-toc-link\" href=\"#Leveraged_short_ETFs\">\n",
            "<div class=\"vector-toc-text\">\n",
            "<span class=\"vector-toc-numb\">5.3</span>Leveraged short ETFs</div>\n",
            "</a>\n",
            "<ul class=\"vector-toc-list\" id=\"toc-Leveraged_short_ETFs-sublist\">\n",
            "</ul>\n",
            "</li>\n",
            "</ul>\n",
            "</li>, <li class=\"vector-toc-list-item vector-toc-level-1\" id=\"toc-Asset_allocation\">\n",
            "<a class=\"vector-toc-link\" href=\"#Asset_allocation\">\n",
            "<div class=\"vector-toc-text\">\n",
            "<span class=\"vector-toc-numb\">6</span>Asset allocation</div>\n",
            "</a>\n",
            "<ul class=\"vector-toc-list\" id=\"toc-Asset_allocation-sublist\">\n",
            "</ul>\n",
            "</li>, <li class=\"vector-toc-list-item vector-toc-level-1\" id=\"toc-Active_ETFs\">\n",
            "<a class=\"vector-toc-link\" href=\"#Active_ETFs\">\n",
            "<div class=\"vector-toc-text\">\n",
            "<span class=\"vector-toc-numb\">7</span>Active ETFs</div>\n",
            "</a>\n",
            "<ul class=\"vector-toc-list\" id=\"toc-Active_ETFs-sublist\">\n",
            "</ul>\n",
            "</li>, <li class=\"vector-toc-list-item vector-toc-level-1\" id=\"toc-See_also\">\n",
            "<a class=\"vector-toc-link\" href=\"#See_also\">\n",
            "<div class=\"vector-toc-text\">\n",
            "<span class=\"vector-toc-numb\">8</span>See also</div>\n",
            "</a>\n",
            "<ul class=\"vector-toc-list\" id=\"toc-See_also-sublist\">\n",
            "</ul>\n",
            "</li>, <li class=\"vector-toc-list-item vector-toc-level-1\" id=\"toc-References\">\n",
            "<a class=\"vector-toc-link\" href=\"#References\">\n",
            "<div class=\"vector-toc-text\">\n",
            "<span class=\"vector-toc-numb\">9</span>References</div>\n",
            "</a>\n",
            "<ul class=\"vector-toc-list\" id=\"toc-References-sublist\">\n",
            "</ul>\n",
            "</li>, <li class=\"vector-toc-list-item vector-toc-level-1\" id=\"toc-External_links\">\n",
            "<a class=\"vector-toc-link\" href=\"#External_links\">\n",
            "<div class=\"vector-toc-text\">\n",
            "<span class=\"vector-toc-numb\">10</span>External links</div>\n",
            "</a>\n",
            "<ul class=\"vector-toc-list\" id=\"toc-External_links-sublist\">\n",
            "</ul>\n",
            "</li>, <li class=\"selected vector-tab-noicon mw-list-item\" id=\"ca-nstab-main\"><a accesskey=\"c\" class=\"\" data-mw=\"interface\" href=\"/wiki/List_of_American_exchange-traded_funds\" title=\"View the content page [c]\"><span>Article</span></a>\n",
            "</li>, <li class=\"vector-tab-noicon mw-list-item\" id=\"ca-talk\"><a accesskey=\"t\" class=\"\" data-mw=\"interface\" href=\"/wiki/Talk:List_of_American_exchange-traded_funds\" rel=\"discussion\" title=\"Discuss improvements to the content page [t]\"><span>Talk</span></a>\n",
            "</li>, <li class=\"selected vector-tab-noicon mw-list-item\" id=\"ca-view\"><a class=\"\" data-mw=\"interface\" href=\"/wiki/List_of_American_exchange-traded_funds\"><span>Read</span></a>\n",
            "</li>, <li class=\"vector-tab-noicon mw-list-item\" id=\"ca-edit\"><a accesskey=\"e\" class=\"\" data-mw=\"interface\" href=\"/w/index.php?title=List_of_American_exchange-traded_funds&amp;action=edit\" title=\"Edit this page [e]\"><span>Edit</span></a>\n",
            "</li>, <li class=\"vector-tab-noicon mw-list-item\" id=\"ca-history\"><a accesskey=\"h\" class=\"\" data-mw=\"interface\" href=\"/w/index.php?title=List_of_American_exchange-traded_funds&amp;action=history\" title=\"Past revisions of this page [h]\"><span>View history</span></a>\n",
            "</li>, <li class=\"selected vector-more-collapsible-item mw-list-item\" id=\"ca-more-view\"><a href=\"/wiki/List_of_American_exchange-traded_funds\"><span>Read</span></a></li>, <li class=\"vector-more-collapsible-item mw-list-item\" id=\"ca-more-edit\"><a href=\"/w/index.php?title=List_of_American_exchange-traded_funds&amp;action=edit\"><span>Edit</span></a></li>, <li class=\"vector-more-collapsible-item mw-list-item\" id=\"ca-more-history\"><a href=\"/w/index.php?title=List_of_American_exchange-traded_funds&amp;action=history\"><span>View history</span></a></li>, <li class=\"mw-list-item\" id=\"t-whatlinkshere\"><a accesskey=\"j\" href=\"/wiki/Special:WhatLinksHere/List_of_American_exchange-traded_funds\" title=\"List of all English Wikipedia pages containing links to this page [j]\"><span>What links here</span></a></li>, <li class=\"mw-list-item\" id=\"t-recentchangeslinked\"><a accesskey=\"k\" href=\"/wiki/Special:RecentChangesLinked/List_of_American_exchange-traded_funds\" rel=\"nofollow\" title=\"Recent changes in pages linked from this page [k]\"><span>Related changes</span></a></li>, <li class=\"mw-list-item\" id=\"t-upload\"><a accesskey=\"u\" href=\"/wiki/Wikipedia:File_Upload_Wizard\" title=\"Upload files [u]\"><span>Upload file</span></a></li>, <li class=\"mw-list-item\" id=\"t-specialpages\"><a accesskey=\"q\" href=\"/wiki/Special:SpecialPages\" title=\"A list of all special pages [q]\"><span>Special pages</span></a></li>, <li class=\"mw-list-item\" id=\"t-permalink\"><a href=\"/w/index.php?title=List_of_American_exchange-traded_funds&amp;oldid=1148422186\" title=\"Permanent link to this revision of this page\"><span>Permanent link</span></a></li>, <li class=\"mw-list-item\" id=\"t-info\"><a href=\"/w/index.php?title=List_of_American_exchange-traded_funds&amp;action=info\" title=\"More information about this page\"><span>Page information</span></a></li>, <li class=\"mw-list-item\" id=\"t-cite\"><a href=\"/w/index.php?title=Special:CiteThisPage&amp;page=List_of_American_exchange-traded_funds&amp;id=1148422186&amp;wpFormIdentifier=titleform\" title=\"Information on how to cite this page\"><span>Cite this page</span></a></li>, <li class=\"mw-list-item\" id=\"t-wikibase\"><a accesskey=\"g\" href=\"https://www.wikidata.org/wiki/Special:EntityPage/Q17164776\" title=\"Structured data on this page hosted by Wikidata [g]\"><span>Wikidata item</span></a></li>, <li class=\"mw-list-item\" id=\"coll-download-as-rl\"><a href=\"/w/index.php?title=Special:DownloadAsPdf&amp;page=List_of_American_exchange-traded_funds&amp;action=show-download-screen\" title=\"Download this page as a PDF file\"><span>Download as PDF</span></a></li>, <li class=\"mw-list-item\" id=\"t-print\"><a accesskey=\"p\" href=\"/w/index.php?title=List_of_American_exchange-traded_funds&amp;printable=yes\" title=\"Printable version of this page [p]\"><span>Printable version</span></a></li>, <li>iShares Core S&amp;P Total US Stock Mkt (<a href=\"/wiki/NYSE_Arca\" title=\"NYSE Arca\">NYSE Arca</a>: <a class=\"external text\" href=\"https://www.nyse.com/quote/ARCX:ITOT\" rel=\"nofollow\">ITOT</a>)</li>, <li>iShares MSCI ACWI Index (<a href=\"/wiki/Nasdaq\" title=\"Nasdaq\">Nasdaq</a>: <a class=\"external text\" href=\"https://www.nasdaq.com/market-activity/stocks/acwi\" rel=\"nofollow\">ACWI</a>)</li>, <li>iShares <a class=\"mw-redirect\" href=\"/wiki/Russell_3000\" title=\"Russell 3000\">Russell 3000</a> Index (<a href=\"/wiki/NYSE_Arca\" title=\"NYSE Arca\">NYSE Arca</a>: <a class=\"external text\" href=\"https://www.nyse.com/quote/ARCX:IWV\" rel=\"nofollow\">IWV</a>)</li>, <li>Schwab US Broad Market ETF (<a href=\"/wiki/NYSE_Arca\" title=\"NYSE Arca\">NYSE Arca</a>: <a class=\"external text\" href=\"https://www.nyse.com/quote/ARCX:SCHB\" rel=\"nofollow\">SCHB</a>)</li>, <li>Schwab Fundamental U.S. Broad Market Index ETF (<a href=\"/wiki/NYSE_Arca\" title=\"NYSE Arca\">NYSE Arca</a>: <a class=\"external text\" href=\"https://www.nyse.com/quote/ARCX:FNDB\" rel=\"nofollow\">FNDB</a>)</li>, <li>Vanguard Total World Stock (<a href=\"/wiki/NYSE_Arca\" title=\"NYSE Arca\">NYSE Arca</a>: <a class=\"external text\" href=\"https://www.nyse.com/quote/ARCX:VT\" rel=\"nofollow\">VT</a>), tracks the FTSE All-World Index</li>, <li>Vanguard Total Stock Market (<a href=\"/wiki/NYSE_Arca\" title=\"NYSE Arca\">NYSE Arca</a>: <a class=\"external text\" href=\"https://www.nyse.com/quote/ARCX:VTI\" rel=\"nofollow\">VTI</a>), tracks the MSCI US Broad Market Index</li>, <li>Vanguard Total International Stock (<a href=\"/wiki/NYSE_Arca\" title=\"NYSE Arca\">NYSE Arca</a>: <a class=\"external text\" href=\"https://www.nyse.com/quote/ARCX:VXUS\" rel=\"nofollow\">VXUS</a>), tracks the MSCI All Country World ex-USA Investable Market Index</li>, <li>Vanguard Russell 3000 (<a href=\"/wiki/NYSE_Arca\" title=\"NYSE Arca\">NYSE Arca</a>: <a class=\"external text\" href=\"https://www.nyse.com/quote/ARCX:VTHR\" rel=\"nofollow\">VTHR</a>), tracks 98% of the US market</li>, <li>DIAMONDS Trust, Series 1 (NYSE Arca DIA), tracks the <a href=\"/wiki/Dow_Jones_Industrial_Average\" title=\"Dow Jones Industrial Average\">Dow Jones Industrial Average</a></li>, <li>Guggenheim S&amp;P 500 Equal Weight (NYSE Arca RSP)</li>, <li>iShares S&amp;P Global 100 Index (NYSE Arca IOO), tracks the <a href=\"/wiki/S%26P_Global_100\" title=\"S&amp;P Global 100\">S&amp;P Global 100</a></li>, <li>iShares S&amp;P 500 Index (NYSE Arca IVV), tracks the <a href=\"/wiki/S%26P_500\" title=\"S&amp;P 500\">S&amp;P 500</a></li>, <li>SPDR S&amp;P 500 (NYSE Arca SPY), tracks the <a href=\"/wiki/S%26P_500\" title=\"S&amp;P 500\">S&amp;P 500</a></li>, <li>SPDR Gender Diversity (NYSE Arca | SHE), tracks a <a href=\"/wiki/Gender_diversity\" title=\"Gender diversity\">gender-diverse</a> <a href=\"/wiki/Gender_representation_on_corporate_boards_of_directors\" title=\"Gender representation on corporate boards of directors\">corporate leadership</a> index</li>, <li>Vanguard S&amp;P 500 (NYSE Arca VOO)</li>, <li>iShares Russell 2000 Index (NYSE Arca IWM), tracks the <a class=\"mw-redirect\" href=\"/wiki/Russell_2000\" title=\"Russell 2000\">Russell 2000</a></li>, <li>iShares S&amp;P 100 Index (NYSE Arca OEF), tracks the <a href=\"/wiki/S%26P_100\" title=\"S&amp;P 100\">S&amp;P 100</a></li>, <li>PowerShares QQQ (\"cubes\") (NASDAQ|QQQ), tracks the <a class=\"mw-redirect\" href=\"/wiki/NASDAQ-100\" title=\"NASDAQ-100\">NASDAQ-100</a></li>, <li>Guggenheim Multi-Asset Income (NYSE Arca CVY)</li>, <li>Guggenheim S&amp;P 500 Pure Growth ETF (NYSE Arca RPG)</li>, <li>Guggenheim S&amp;P 500 Pure Value ETF (NYSE Arca RPV)</li>, <li>iShares <a href=\"/wiki/Russell_1000_Index\" title=\"Russell 1000 Index\">Russell 1000 Index</a> (NYSE Arca IWB)\n",
            "<ul><li>iShares Russell 1000 Growth Index (NYSE Arca IWF)</li>\n",
            "<li>iShares Russell 1000 Value Index (NYSE Arca IWD)</li></ul></li>, <li>iShares S&amp;P 500 Index (NYSE Arca IVV)\n",
            "<ul><li>iShares S&amp;P 500 Growth Index (NYSE Arca IVW)</li>\n",
            "<li>iShares S&amp;P 500 Value Index (NYSE Arca IVE)</li></ul></li>, <li>PowerShares Buyback Achievers (NYSE Arca PKW)</li>, <li>PowerShares FTSE RAFI US 1000 (NYSE Arca PRF)</li>, <li>PowerShares S&amp;P 500 Low Volatility (NYSE Arca SPLV)</li>, <li>Schwab US Large-Cap ETF (NYSE Arca SCHX)\n",
            "<ul><li>Schwab US Large-Cap Growth ETF (NYSE Arca SCHG)</li>\n",
            "<li>Schwab US Large-Cap Value ETF (NYSE Arca SCHV)</li></ul></li>, <li>Schwab US Dividend Equity ETF (NYSE Arca SCHD)</li>, <li>Schwab Fundamental U.S. Large Company Index ETF (NYSE Arca FNDX)</li>, <li>SPDR S&amp;P Dividend ETF (NYSE Arca SDY)</li>, <li>Vanguard S&amp;P 500 (NYSE Arca VOO)\n",
            "<ul><li>Vanguard S&amp;P 500 Growth (NYSE Arca VOOG)</li>\n",
            "<li>Vanguard S&amp;P 500 Value (NYSE Arca VOOV)</li></ul></li>, <li>Vanguard Large-Cap (NYSE Arca VV)\n",
            "<ul><li>Vanguard Growth (NYSE Arca VUG)</li>\n",
            "<li>Vanguard Value (NYSE Arca VTV)</li></ul></li>, <li>Vanguard Mega-Cap 300 (NYSE Arca MGC)\n",
            "<ul><li>Vanguard Mega-Cap 300 Growth (NYSE Arca MGK)</li>\n",
            "<li>Vanguard Mega-Cap 300 Value (NYSE Arca MGV)</li></ul></li>, <li>Vanguard Russell 1000 (NYSE Arca VONE)\n",
            "<ul><li>Vanguard Russell 1000 Growth (NYSE Arca VONG)</li>\n",
            "<li>Vanguard Russell 1000 Value (NYSE Arca VONV)</li></ul></li>, <li>Vanguard Dividend Appreciation (NYSE Arca VIG)</li>, <li>Vanguard High Dividend Yield (NYSE Arca VYM)</li>, <li>WisdomTree Dividend ex-Financials (NYSE Arca DTN)</li>, <li>WisdomTree LargeCap Dividend (NYSE Arca DLN)</li>, <li>MidCap 400 SPDR (NYSE Arca MDY)</li>, <li>iShares Select Dividend (NYSE Arca DVY)</li>, <li>iShares Russell Midcap Index (NYSE Arca IWR)\n",
            "<ul><li>iShares Russell Midcap Growth Index (NYSE Arca IWP)</li>\n",
            "<li>iShares Russell Midcap Value Index (NYSE Arca IWS)</li></ul></li>, <li>iShares S&amp;P MidCap 400 Index (NYSE Arca IJH)\n",
            "<ul><li>iShares S&amp;P MidCap 400 Growth Index (NYSE Arca IJK)</li>\n",
            "<li>iShares S&amp;P MidCap 400 Value Index (NYSE Arca IJJ)</li></ul></li>, <li>PowerShares DWA Mom Port (NYSE Arca PDP)</li>, <li>Schwab US Mid-Cap (NYSE Arca SCHM)</li>, <li>Vanguard S&amp;P Mid-Cap 400 (NYSE Arca IVOO)\n",
            "<ul><li>Vanguard S&amp;P Mid-Cap 400 Growth (NYSE Arca IVOG)</li>\n",
            "<li>Vanguard S&amp;P Mid-Cap 400 Value (NYSE Arca IVOV)</li></ul></li>, <li>Vanguard Mid-Cap (NYSE Arca VO)\n",
            "<ul><li>Vanguard Mid-Cap Growth (NYSE Arca VOT)</li>\n",
            "<li>Vanguard Mid-Cap Value (NYSE Arca VOE)</li></ul></li>, <li>Vanguard Extended Market (NYSE Arca VXF), tracks the S&amp;P Completion Index, i.e., S&amp;P Total Market Index minus the S&amp;P 500 Index</li>, <li>WisdomTree MidCap Dividend ETF (NYSE Arca DON)</li>, <li>iShares Micro-Cap (NYSE Arca IWC)</li>, <li>iShares <a href=\"/wiki/Russell_2000_Index\" title=\"Russell 2000 Index\">Russell 2000 Index</a> (NYSE Arca IWM)\n",
            "<ul><li>iShares Russell 2000 Growth Index (NYSE Arca IWO)</li>\n",
            "<li>iShares Russell 2000 Value Index (NYSE Arca IWN)</li></ul></li>, <li>iShares S&amp;P SmallCap 600 Index (NYSE Arca IJR)\n",
            "<ul><li>iShares S&amp;P SmallCap 600 Growth Index (NYSE Arca IJT)</li>\n",
            "<li>iShares S&amp;P SmallCap 600 Value Index (NYSE Arca IJS)</li></ul></li>, <li>Schwab US Small-Cap ETF (NYSE Arca SCHA)</li>, <li>Schwab Fundamental U.S. Small Company Index ETF (NYSE Arca FNDA)</li>, <li>Vanguard S&amp;P Small-Cap 600 (NYSE Arca VIOO)\n",
            "<ul><li>Vanguard S&amp;P Small-Cap 600 Growth (NYSE Arca VIOG)</li>\n",
            "<li>Vanguard S&amp;P Small-Cap 600 Value (NYSE Arca VIOV)</li></ul></li>, <li>Vanguard Small-Cap (NYSE Arca VB)\n",
            "<ul><li>Vanguard Small-Cap Growth (NYSE Arca VBK)</li>\n",
            "<li>Vanguard Small-Cap Value (NYSE Arca VBR)</li></ul></li>, <li>Vanguard Russell 2000 (NYSE Arca VTWO)\n",
            "<ul><li>Vanguard Russell 2000 Growth (NYSE Arca VTWG)</li>\n",
            "<li>Vanguard Russell 2000 Value (NYSE Arca VTWV)</li></ul></li>, <li>Claymore/BNY BRIC (NYSE Arca EEB)</li>, <li>EGShares Emerging Markets Consumer (NYSE Arca ECON)</li>, <li>iShares International Select Div (NYSE Arca IDV)</li>, <li>iShares MSCI ACWI ex US Index (NASDAQ|ACWX)</li>, <li>iShares MSCI BRIC Index (NYSE Arca BKF)</li>, <li>iShares <a href=\"/wiki/MSCI_EAFE\" title=\"MSCI EAFE\">MSCI EAFE</a> Index (NYSE Arca EFA)\n",
            "<ul><li>iShares MSCI EAFE Growth Index (NYSE Arca EFG)</li>\n",
            "<li>iShares MSCI EAFE Value Index (NYSE Arca EFV)</li></ul></li>, <li>iShares MSCI EAFE Small-Cap (NYSE Arca SCZ)</li>, <li>iShares MSCI Emerging Markets Index (NYSE Arca EEM)</li>, <li>PowerShares Intl Dividend Achievers (NYSE Arca PID)</li>, <li>Schwab International Small-Cap Equity (NYSE Arca SCHC)</li>, <li>Schwab Emerging Markets Equity ETF (NYSE Arca SCHE)</li>, <li>Schwab International Equity ETF (NYSE Arca SCHF)</li>, <li>Schwab Fundamental International Large Company Index ETF (NYSE Arca FNDF)</li>, <li>Schwab Fundamental International Small Company Index ETF (NYSE Arca FNDC)</li>, <li>Schwab Fundamental Emerging Markets Large Company Index ETF (NYSE Arca FNDE)</li>, <li>SPDR S&amp;P International Dividend (NYSE Arca DWX)</li>, <li>Vanguard MSCI EAFE (NYSE Arca VEA)</li>, <li>Vanguard MSCI Emerging Markets (NYSE Arca VWO)</li>, <li>Vanguard Total International Stock (NYSE Arca VXUS)</li>, <li>Vanguard FTSE All-World ex-US (NYSE Arca VEU)</li>, <li>Vanguard FTSE All-World ex-US Small-Cap (NYSE Arca VSS)</li>, <li>WisdomTree Emerging Markets Equity Inc (NYSE Arca DEM)</li>, <li>WisdomTree Emerging Mkts SmallCap Div (NYSE Arca DGS)</li>, <li>iShares MSCI All Country Asia ex Jpn Idx (NASDAQ|AAXJ)</li>, <li>iShares MSCI EMU Index (NYSE Arca EZU)</li>, <li>iShares MSCI Pacific ex-Japan (NYSE Arca EPP)</li>, <li>iShares S&amp;P Europe 350 Index (NYSE Arca IEV)</li>, <li>iShares S&amp;P Latin America 40 Index (NYSE Arca ILF)</li>, <li>SPDR EURO STOXX 50 (NYSE Arca FEZ)</li>, <li>Vanguard MSCI Europe (NYSE Arca VGK)</li>, <li>Vanguard MSCI Pacific (NYSE Arca VPL)</li>, <li>WisdomTree Europe Hedged Equity ETF (NYSE Arca HEDJ)</li>, <li>WisdomTree Europe SmallCap Dividend (NYSE Arca DFE)</li>, <li>Global X FTSE Andean 40 ETF (NYSE Arca AND)</li>, <li>Global X FTSE Nordic Region ETF (NYSE Arca GXF)</li>, <li>iShares MSCI Australia Index (NYSE Arca EWA)</li>, <li>iShares MSCI Canada Index (NYSE Arca EWC)</li>, <li>iShares MSCI German Index (NYSE Arca EWG)</li>, <li>iShares MSCI Israel ETF (NYSE Arca EIS)</li>, <li>iShares MSCI Italy Capped (NYSE Arca EWI)</li>, <li>iShares MSCI Japan Index (NYSE Arca EWJ)</li>, <li>iShares MSCI Korea Index (NYSE Arca EWY)</li>, <li>iShares MSCI Sweden Index (NYSE Arca EWD)</li>, <li>iShares MSCI Switzerland Capped (NYSE Arca EWL)</li>, <li>iShares MSCI Spain Capped (NYSE Arca EWP)</li>, <li>iShares MSCI United Kingdom Index (NYSE Arca EWU)</li>, <li>WisdomTree Japan Hedged Equity (NYSE Arca DXJ)</li>, <li>Global X FTSE Norway 30 ETF (NYSE Arca NORW)</li>, <li>Nifty India Financials ETF (NYSE Arca INDF)</li>, <li>iShares MSCI Brazil Index (NYSE Arca EWZ)</li>, <li>iShares FTSE/Xinhua China 25 Index (NYSE Arca FXI)</li>, <li>iShares MSCI Hong Kong Index (NYSE Arca EWH)</li>, <li>iShares MSCI Mexico Index (NYSE Arca EWW)</li>, <li>iShares MSCI Philippines Index (NYSE Arca EPHE)</li>, <li>Market Vectors Russia ETF (NYSE Arca RSX)</li>, <li>iShares MSCI Singapore Index (NYSE Arca EWS)</li>, <li>iShares MSCI Malaysia Index (NYSE Arca EWM)</li>, <li>iShares MSCI Taiwan Index (NYSE Arca EWT)</li>, <li>WisdomTree India Earnings ETF (NYSE Arca EPI)</li>, <li>Global X FTSE Argentina 20 ETF (NYSE Arca ARGT)</li>, <li>Global X FTSE Colombia 20 ETF (NYSE Arca GXG)</li>, <li>KraneShares MSCI One Belt One Road ETF (NYSE Arca OBOR)</li>, <li>KraneShares Emerging Markets Consumer Technology ETF (NYSE Arca KEMQ)</li>, <li>KraneShares MSCI Emerging Markets ex China Index ETF (NYSE Arca KEMX)</li>, <li>Consumer Discretionary Select Sector SPDR (NYSE Arca XLY)</li>, <li>iShares Dow Jones US Consumer Services (NYSE Arca IYC)</li>, <li>iShares US Home Construction (NYSE Arca ITB)</li>, <li>SPDR S&amp;P Homebuilders ETF (NYSE Arca XHB)</li>, <li>Vanguard Consumer Discretionary (NYSE Arca VCR)</li>, <li>Consumer Staples Select Sector SPDR (NYSE Arca XLP)</li>, <li>iShares Dow Jones US Consumer Goods (NYSE Arca IYK)</li>, <li>Vanguard Consumer Staples (NYSE Arca VDC)</li>, <li>ALPS Alerian MLP ETF (NYSE Arca AMLP)</li>, <li>Energy Select Sector SPDR (NYSE Arca XLE)</li>, <li>iShares Dow Jones US Energy (NYSE Arca IYE)</li>, <li>iShares North American Natural Resources (NYSE Arca IGE)</li>, <li>Market Vectors Oil Services ETF (NYSE Arca OIH)</li>, <li>SPDR S&amp;P Oil &amp; Gas Explor &amp; Prod ETF (NYSE Arca XOP)</li>, <li>Vanguard Energy (NYSE Arca VDE)</li>, <li>Clean Edge Green Energy (NASDAQ|QCLN)</li>, <li>Roundhill BITKRAFT Esports &amp; Digital Entertainment ETF (NERD:NYSE Arca NERD)<sup class=\"reference\" id=\"cite_ref-4\"><a href=\"#cite_note-4\">[4]</a></sup></li>, <li>VanEck Vectors Video Gaming and eSports ETF (NYSE Arca ESPO)</li>, <li>Financial Select Sector SPDR (NYSE Arca XLF)</li>, <li>iShares Dow Jones US Financial (NYSE Arca IYF)</li>, <li>SPDR S&amp;P Bank ETF (NYSE Arca KBE)</li>, <li>SPDR S&amp;P Regional Banking ETF (NYSE Arca KRE)</li>, <li>Vanguard Financials (NYSE Arca VFH)</li>, <li>First Trust Health Care AlphaDEX (NYSE Arca FXH)</li>, <li>First Trust NYSE Arca Biotech Index (NYSE Arca FBT)</li>, <li>Health Care Select Sector SPDR (NYSE Arca XLV)</li>, <li>iShares Dow Jones US Health Care (NYSE Arca IYH)</li>, <li>iShares Nasdaq Biotechnology (NASDAQ|IBB)</li>, <li>PowerShares Dynamic Pharmaceuticals (NYSE Arca PJP)</li>, <li>SPDR S&amp;P Biotech ETF (NYSE Arca XBI)</li>, <li>Vanguard Health Care (NYSE Arca VHT)</li>, <li>Industrial Select Sector SPDR (NYSE Arca XLI)</li>, <li>iShares Dow Jones US Industrial (NYSE Arca IYJ)</li>, <li>Vanguard Industrials (NYSE Arca VIS)</li>, <li>Materials Select Sector SPDR (NYSE Arca XLB)</li>, <li>iShares Dow Jones US Materials (NYSE Arca IYM)</li>, <li>Market Vectors Gold Miners ETF (NYSE Arca GDX)</li>, <li>Market Vectors Junior Gold Miners ETF (NYSE Arca GDXJ)</li>, <li>Vanguard Materials (NYSE Arca VAW)</li>, <li>First Trust Dow Jones Internet Index (NYSE Arca FDN)</li>, <li>Technology Select Sector SPDR (NYSE Arca XLK)</li>, <li>iShares Dow Jones US Technology (NYSE Arca IYW)</li>, <li>iShares North American Tech-Software (NYSE Arca IGV)</li>, <li>Vanguard Information Technology (NYSE Arca VGT)</li>, <li>iShares Dow Jones US Telecommunications (NYSE Arca IYZ)</li>, <li>Vanguard Telecommunication Services (NYSE Arca VOX)</li>, <li>Utilities Select Sector SPDR (NYSE Arca XLU)</li>, <li>iShares Dow Jones US Utilities (NYSE Arca IDU)</li>, <li>Vanguard Utilities (NYSE Arca VPU)</li>, <li>SPDR S&amp;P International Consumer Discretionary (NYSE Arca IPD)</li>, <li>iShares S&amp;P Global Consumer Discretionary (NYSE Arca RXI)</li>, <li>SPDR S&amp;P International Consumer Staples (NYSE Arca IPS)</li>, <li>iShares S&amp;P Global Consumer Staples (NYSE Arca KXI)</li>, <li>SPDR S&amp;P International Energy (NYSE Arca IPW)</li>, <li>iShares S&amp;P Global Energy (NYSE Arca IXC)</li>, <li>SPDR S&amp;P International Financial (NYSE Arca IPF)</li>, <li>iShares S&amp;P Global Financial (NYSE Arca IXG)</li>, <li>SPDR S&amp;P International Health Care (NYSE Arca IRY)</li>, <li>iShares S&amp;P Global Healthcare (NYSE Arca IXJ)</li>, <li>SPDR S&amp;P International Industrial (NYSE Arca IPN)</li>, <li>iShares S&amp;P Global Industrials (NYSE Arca EXI)</li>, <li>FlexShares Mstar Gbl Upstrm Nat Res ETF (NYSE Arca GUNR)</li>, <li>SPDR S&amp;P International Materials (NYSE Arca IRV)</li>, <li>iShares S7P Global Materials (NYSE Arca MXI)</li>, <li>SPDR S&amp;P International Technology (NYSE Arca IPK)</li>, <li>iShares S&amp;P Global Technology (NYSE Arca IXN)</li>, <li>SPDR S&amp;P International Telecommunications (NYSE Arca IST)</li>, <li>iShares S&amp;P Global Telecommunications (NYSE Arca IXP)</li>, <li>SPDR S&amp;P International Utilities (NYSE Arca IPU)</li>, <li>iShares S&amp;P Global Utilities (NYSE Arca JXI)</li>, <li><a href=\"/wiki/AdvisorShares\" title=\"AdvisorShares\">AdvisorShares</a> Peritus High Yield ETF (NYSE Arca HYLD)</li>, <li>FlexShares iBoxx 3Yr Target Dur TIPS ETF (NYSE Arca TDTT)</li>, <li>iShares 1-3 Year Credit Bond (NYSE Arca CSJ)</li>, <li>iShares 3-7 Year Treasury Bond (NYSE Arca IEI)</li>, <li>iShares Core U.S. Aggregate Bond (NYSE Arca AGG)</li>, <li>iShares Barclays 1-3 Year Treasury Bond (NYSE Arca SHY)</li>, <li>iShares Barclays TIPS Bond (NYSE Arca TIP)</li>, <li>iShares iBoxx $ High Yield Corp Bond (NYSE Arca HYG)</li>, <li>iShares iBoxx $ Invest Grade Corp Bond (NYSE Arca LQD)</li>, <li>iShares Barclays 7-10 Year Treasury (NYSE Arca IEF)</li>, <li>iShares Barclays 20+ Year Treas Bond (NYSE Arca TLT)</li>, <li>iShares Floating Rate Bond (NYSE Arca FLOT)</li>, <li>iShares Intermediate Credit Bd (NYSE Arca CIU)</li>, <li>iShares Intm Government/Credit Bond (NYSE Arca GVI)</li>, <li>iShares JPMorgan USD Emerg Markets Bond (NYSE Arca EMB)</li>, <li>iShares MBS (NYSE Arca MBB)</li>, <li>iShares National AMT-Free Muni Bond (NYSE Arca MUB)</li>, <li>iShares Short Treasury Bond (NYSE Arca SHV)</li>, <li>Market Vectors High-Yield Muni ETF (NYSE Arca HYD)</li>, <li>PIMCO 0-5 Year High Yld Corp Bd Idx ETF (NYSE Arca HYS)</li>, <li>PIMCO 1-5 Year US TIPS Index ETF (NYSE Arca STPZ)</li>, <li>PIMCO Enhanced Short Maturity ETF (NYSE Arca MINT)</li>, <li>PIMCO Total Return ETF (NYSE Arca BOND)</li>, <li>Quadratic Interest Rate Volatility and Inflation Hedge ETF (NYSE Arca IVOL)</li>, <li>Quadratic Deflation ETF (NYSE Arca BNDD)</li>, <li>PowerShares Emerging Mkts Sovereign Debt (NYSE Arca PCY)</li>, <li>PowerShares Senior Loan Port (NYSE Arca BKLN)</li>, <li>Schwab US Aggregate Bond (NYSE Arca SCHZ)</li>, <li>Schwab US TIPS (NYSE Arca SCHP)</li>, <li>Schwab Short-Term US Treasury (NYSE Arca SCHO)</li>, <li>Schwab Intermediate-Term US Treasury (NYSE Arca SCHR)</li>, <li>SPDR BarCap ST High Yield Bond ETF (NYSE Arca JNK)</li>, <li>SPDR Barclays 1-3 Month T-Bill (NYSE Arca BIL)</li>, <li>SPDR Barclays Capital Convertible Secs (NASDAQ|CWB)</li>, <li>SPDR Barclays Capital High Yield Bond ETF (NYSE Arca JNK)</li>, <li>SPDR Barclays Capital Short Term Corp Bd (NYSE Arca SCPB)</li>, <li>SPDR Barclays International Treasury Bd (NYSE Arca BWX)</li>, <li>SPDR Barclays Short Term Hi Yld Bd ETF (NYSE Arca SJNK)</li>, <li>SPDR Nuveen Barclays Capital Muni Bond (NYSE Arca TFI)</li>, <li>SPDR Nuveen Barclays Capital S/T Muni Bd (NYSE Arca SHM)</li>, <li>Vanguard Extended Duration Treasury (NYSE Arca EDV)</li>, <li>Vanguard Intermediate-Term Bond (NYSE Arca BIV)</li>, <li>Vanguard Intermediate-Term Corporate Bond (NYSE Arca VCIT)</li>, <li>Vanguard Intermediate-Term Government Bond (NYSE Arca VGIT)</li>, <li>Vanguard Long-Term Bond (NYSE Arca BLV)</li>, <li>Vanguard Long-Term Corporate Bond (NYSE Arca VCLT)</li>, <li>Vanguard Long-Term Government Bond (NYSE Arca VGLT)</li>, <li>Vanguard Mortgage-Backed Securities (NYSE Arca VMBS)</li>, <li>Vanguard Short-Term Bond (NYSE Arca BSV)</li>, <li>Vanguard Short-Term Corporate Bond (NYSE Arca VCSH)</li>, <li>Vanguard Short-Term Government Bond (NYSE Arca VGSH)</li>, <li>Vanguard Shrt-Term Infl-Prot Sec Idx ETF (NASDAQ|VTIP)</li>, <li>Vanguard Total Bond Market (NYSE Arca BND)</li>, <li>Vanguard Total Intl Bd Idx ETF (NASDAQ|BNDX)</li>, <li>ELEMENTS Rogers International Commodity Index ETN (NYSE Arca RJI)</li>, <li>iPath Dow Jones-UBS Commodity Idx TR ETN (NYSE Arca DJP)</li>, <li>iShares S&amp;P GSCI Commodity-Indexed Trust (NYSE Arca GSG)</li>, <li>PowerShares DB Commodity Idx Trking Fund (NYSE Arca DBC)</li>, <li>ELEMENTS Rogers Agriculture ETN (NYSE Arca RJA)</li>, <li>iPath Dow Jones-UBS Agriculture ETN (NYSE Arca JJA)</li>, <li>PowerShares DB Agriculture (NYSE Arca DBA)</li>, <li>ELEMENTS Rogers Energy ETN (NYSE Arca RJN)</li>, <li>iPath Dow Jones-UBS Crude Oil ETN (NYSE Arca OIL)</li>, <li>iPath Dow Jones-UBS Natural Gas ETN (NYSE Arca GAZ)</li>, <li>United States Natural Gas Fund (NYSE Arca UNG)</li>, <li>United States Oil Fund (NYSE Arca USO)</li>, <li>ELEMENTS Rogers Metal ETN (NYSE Arca RJZ)</li>, <li>iPath Dow Jones-UBS Industrial Metals ETN (NYSE Arca JJM)\n",
            "<ul><li>iPath Dow Jones-UBS Copper ETN (NYSE Arca JJC)</li></ul></li>, <li>PowerShares DB Base Metals (NYSE Arca DBB)</li>, <li>Aberdeen Standard Gold ETF Trust (NYSE Arca SGOL)</li>, <li>iShares Gold Trust (NYSE Arca IAU)</li>, <li>SPDR Gold Shares (NYSE Arca GLD)</li>, <li>Aberdeen Standard Physical Silver Shares ETF (NYSE Arca SIVR)</li>, <li>iShares Silver Trust (NYSE Arca SLV)</li>, <li>Aberdeen Standard Physical Palladium Shares ETF (NYSE Arca PALL)</li>, <li>Aberdeen Standard Physical Platinum Shares ETF (NYSE Arca PPLT)</li>, <li>iShares <a href=\"/wiki/Cohen_%26_Steers\" title=\"Cohen &amp; Steers\">Cohen &amp; Steers</a> Realty Majors (NYSE Arca ICF)</li>, <li>iShares Dow Jones Asia Real Estate (NYSE Arca IFAS)</li>, <li>iShares Dow Jones Europe Real Estate (NYSE Arca IFEU)</li>, <li>iShares Dow Jones US Real Estate (NYSE Arca IYR)</li>, <li>iShares Mortgage Real Estate Capped (NYSE Arca REM)</li>, <li>Schwab US REIT (NYSE Arca SCHH)</li>, <li>SPDR Dow Jones Global Real Estate (NYSE Arca RWO)</li>, <li>SPDR Dow Jones Intl Real Estate (NYSE Arca RWX)</li>, <li>SPDR Dow Jones REIT ETF (NYSE Arca RWR)</li>, <li>Wilshire US REIT ETF (NYSE Arca WREI)</li>, <li>Vanguard Real Estate (NYSE Arca VNQ)</li>, <li>Vanguard Global ex-US Real Estate (NYSE Arca VNQI)</li>, <li><a class=\"mw-redirect\" href=\"/wiki/Advisorshares\" title=\"Advisorshares\">AdvisorShares</a> Ranger Equity Bear ETF (NYSE Arca HDGE)</li>, <li>ProShares Short Dow 30 (NYSE Arca DOG)</li>, <li>ProShares Short S&amp;P 500 (NYSE Arca SH)</li>, <li>ProShares Short S&amp;P MidCap 400 (NYSE Arca MYY)</li>, <li>ProShares Short S&amp;P SmallCap 600 (NYSE Arca SBB)</li>, <li>ProShares Short Nasdaq 100 (NYSE Arca PSQ)</li>, <li>ProShares Short Russell 2000 (NYSE Arca RWM)</li>, <li>ProShares Short MSCI EAFE (NYSE Arca EFZ)</li>, <li><a href=\"/wiki/Tuttle_Capital_Short_Innovation_ETF\" title=\"Tuttle Capital Short Innovation ETF\">Tuttle Capital Short Innovation ETF</a></li>, <li>UBS AG FI Enhanced Large Cap Growth 2x ETF (NYSE Arca FBGX) - tracks the Russell 1000 and will provide investors with a cash payment at the scheduled maturity or early redemption based on the 2x leveraged performance of the Russell 1000 Growth Index Total Return.<sup class=\"reference\" id=\"cite_ref-7\"><a href=\"#cite_note-7\">[7]</a></sup></li>, <li>Credit Suisse FI Large Cap Growth Enhanced ETF (NYSE Arca FLGE) - FLGE provides 2X levered exposure to the total return of the Russell 1000 Growth Index, with leverage reset at least quarterly. <sup class=\"reference\" id=\"cite_ref-8\"><a href=\"#cite_note-8\">[8]</a></sup></li>, <li>Direxion Daily Mid Cap Bull 3x ETF (NYSE Arca MIDU) - tracks 3x the S&amp;P MidCap 400 Index</li>, <li>Direxion Daily S&amp;P 500 Bull 2x ETF (NYSE Arca SPUU) - tracks 2x the S&amp;P 500 Index</li>, <li>Direxion Daily S&amp;P 500 Bull 3x ETF (NYSE Arca SPXL) - tracks 3x the S&amp;P 500 Index</li>, <li>Direxion Energy Bull 3x ETF (NYSE Arca ERX)</li>, <li>Direxion Financials Bull 3x ETF (NYSE Arca FAS) - tracks XLF or RIFIN</li>, <li>Direxion Large Cap Bull 3x (NYSE Arca BGU) tracks 3x the Russell 1000 Index</li>, <li>Direxion Small Cap Bull 3x (NYSE Arca TNA) tracks 3x the Russell 2000 Index</li>, <li>ProShares Ultra Dow 30 (NYSE Arca DDM) tracks 2x the Dow Jones Industrial Average</li>, <li>ProShares Ultra NASDAQ-100 (NYSE Arca QLD) tracks 2x the NASDAQ-100 Index</li>, <li>ProShares Ultra Russell 2000 (NYSE Arca UWM) tracks 2x the Russell 2000 Index</li>, <li>ProShares Ultra S&amp;P 500 (NYSE Arca SSO) tracks 2x the S&amp;P 500 Index</li>, <li>ProShares S&amp;P 500 3x (NYSE Arca UPRO) tracks 3x the S&amp;P 500 Index</li>, <li>UltraShort S&amp;P 500 ProShares 2x (NYSE Arca SDS)</li>, <li>ProShares S&amp;P 500 Direxionshares Bear 3x ETF (NYSE Arca SPXU)</li>, <li>Direxion Russell 2000 Direxionshares Bear 3x ETF (NYSE Arca TZA)</li>, <li>UltraPro Short QQQ (NYSE Arca SQQQ)</li>, <li>UltraShort NASDAQ-100 ProShares  2X (NYSE Arca QID)</li>, <li>UltraShort Financials ProShares (NYSE Arca SKF)</li>, <li>UltraShort Russell 2000 ProShares (NYSE Arca TWM)</li>, <li>UltraShort Dow 30 ProShares (NYSE Arca DXD)</li>, <li>UltraShort Real Estate ProShares (NYSE Arca SRS)</li>, <li>UltraShort MidCap 400 ProShares (NYSE Arca MZZ)</li>, <li>UltraShort Oil &amp; Gas ProShares (NYSE Arca DUG)</li>, <li>Direxion Large Cap Bear 3x ETF (NYSE Arca BGZ)</li>, <li>Direxion Energy Bear 3x ETF (NYSE Arca ERY)</li>, <li>Direxion Financials Bear 3x ETF (NYSE Arca FAZ) - tracks the inverse of XLF or RIFIN</li>, <li>AdvisorShares WCM/BNY Mellon Focused Growth ADR ETF (NYSE Arca AADR)</li>, <li>AdvisorShares Ranger Equity Bear ETF (NYSE Arca HDGE)</li>, <li>AdvisorShares Sage Core Reserves ETF (NYSE Arca HOLD)</li>, <li>AdvisorShares Newfleet Multi-Sector Income ETF (NYSE Arca MINC)</li>, <li>AdvisorShares STAR Global Buy-Write ETF (NYSE Arca VEGA)</li>, <li>Advisorshares Gerber Kawasaki ETF (NYSE Arca GK)</li>, <li>Riverfront Strategic Income Fund (NYSE Arca RIGS)</li>, <li>Amplify Enhanced Dividend Income ETF (NYSE Arca DIVO)</li>, <li>Amplify Seymour Cannabis ETF (NYSE Arca CNBS)</li>, <li>Amplify Transformational Data Sharing ETF (NYSE Arca BLOK)</li>, <li>ARK Genomic Revolution Multi-Sector ETF (NYSE Arca ARKG)</li>, <li>ARK Industrial Innovation ETF (NYSE Arca ARKQ)</li>, <li>ARK Next Generation Internet ETF (NYSE Arca ARKW)</li>, <li>ARK Innovation ETF (NYSE Arca ARKK)</li>, <li>ARK Fintech Innovation ETF (NYSE Arca ARKF)</li>, <li>ARK Space Exploration &amp; Innovation ETF (NYSE Arca ARKX)</li>, <li>Cambria Shareholder Yield ETF (NYSE Arca SYLD)</li>, <li>ValueShares U.S. Quantitative Value ETF</li>, <li>ValueShares International Quantitative Value ETF</li>, <li>MomentumShares U.S. Quantitative Momentum ETF</li>, <li>MomentumShares International Quantitative Momentum ETF</li>, <li>Columbia Intermediate Municipal Bond ETF (NYSE Arca GMMB)</li>, <li>Columbia Core Bond ETF (NYSE Arca GMTB)</li>, <li>Columbia Select Large Cap Value ETF (NYSE Arca GVT)</li>, <li>Columbia Large Cap Growth ETF (NYSE Arca RPX)</li>, <li>Columbia Select Large Cap Growth ETF (NYSE Arca RWG)</li>, <li>First Trust North American Energy Infrastructure Fund (NYSE Arca EMLP)</li>, <li>First Trust Managed Municipal ETF (NYSE Arca FMB)</li>, <li>First Trust <a href=\"/wiki/Morningstar,_Inc.\" title=\"Morningstar, Inc.\">Morningstar</a> Managed Futures Strategy Fund (NYSE Arca FMF)</li>, <li>First Trust Preferred Securities and Income ETF (NYSE Arca FPE)</li>, <li>First Trust Global Tactical Commodity Strategy Fund (NYSE Arca FTGS)</li>, <li>First Trust High Income ETF (NYSE Arca FTHI)</li>, <li>First Trust Low Beta Income ETF (NYSE Arca FTLB)</li>, <li>First Trust Senior Loan ETF (NYSE Arca FTSL)</li>, <li>First Trust Tactical High Yield ETF (NYSE Arca HYLS)</li>, <li>Flexshares Ready Access Variable Income Fund (NYSE Arca RAVI)</li>, <li>Franklin Short Duration US Government ETF (NYSE Arca FTSD)</li>, <li>Guggenheim Enhanced Short Duration Bond ETF (NYSE Arca GSY)</li>, <li>iShares Liquidity Income ETF (NYSE Arca ICSH)</li>, <li>iShares Enhanced International Large-Cap ETF (NYSE Arca IEIL)</li>, <li>iShares Enhanced International Small-Cap ETF (NYSE Arca IEIS)</li>, <li>iShares Short Maturity Bond ETF (NYSE Arca NEAR)</li>, <li>KraneShares Global Carbon Transformation ETF (NYSE Arca KGHG)</li>, <li>KraneShares Asia Pacific High Income Bond ETF (NYSE Arca KHYB)</li>, <li>PIMCO Total Return ETF (NYSE Arca BOND)</li>, <li>PIMCO Low Duration ETF (NYSE Arca LDUR)</li>, <li>PIMCO Enhanced Short Duration ETF (NYSE Arca MINT)</li>, <li>PIMCO Intermediate Muni Bond Strategy ETF (NYSE Arca MUNI)</li>, <li>PIMCO Short Term Muni Bond Strategy ETF (NYSE Arca SMMU)</li>, <li>Quadratic Interest Rate Volatility and Inflation Hedge ETF (NYSE Arca IVOL)</li>, <li>Quadratic Deflation ETF (NYSE Arca BNDD)</li>, <li>PowerShares China-A Share Portfolio (NYSE Arca CHNA)</li>, <li>S&amp;P 500 Downside Hedged Portfolio (NYSE Arca PHDG)</li>, <li>Active U.S. Real Estate Fund ETF (NYSE Arca PSR)</li>, <li>SPDR SSgA Global Allocation (NYSE Arca GAL)</li>, <li>SPDR SSgA Income Allocation (NYSE Arca INKM)</li>, <li>SPDR SSgA Multi-Asset Real Return (NYSE Arca RLY)</li>, <li>SPDR <a class=\"mw-redirect\" href=\"/wiki/Blackstone_Group\" title=\"Blackstone Group\">Blackstone</a>/GSO Senior Loan ETF (NYSE Arca SRLN)</li>, <li>SPDR SSgA Ultra Short Term Bond ETF (NYSE Arca ULST)</li>, <li>WisdomTree <a href=\"/wiki/Dreyfus_Corporation\" title=\"Dreyfus Corporation\">Dreyfus</a> Emerging Currency (NYSE Arca CEW)</li>, <li>WisdomTree <a href=\"/wiki/Dreyfus_Corporation\" title=\"Dreyfus Corporation\">Dreyfus</a> Chinese Yuan (NYSE Arca CYB)</li>, <li>WisdomTree Emerging Markets Local Debts Fund (NYSE Arca ELD)</li>, <li>WisdomTree Emerging Markets Corporate Bond Fund (NYSE Arca EMCB)</li>, <li>WisdomTree <a href=\"/wiki/Bloomberg_L.P.\" title=\"Bloomberg L.P.\">Bloomberg</a> U.S. Dollar Bullish Fund (NYSE Arca USDU)</li>, <li><a href=\"/wiki/List_of_Australian_exchange-traded_funds\" title=\"List of Australian exchange-traded funds\">List of Australian exchange-traded funds</a></li>, <li><a href=\"/wiki/List_of_Canadian_exchange-traded_funds\" title=\"List of Canadian exchange-traded funds\">List of Canadian exchange-traded funds</a></li>, <li><a href=\"/wiki/List_of_European_exchange-traded_funds\" title=\"List of European exchange-traded funds\">List of European exchange-traded funds</a></li>, <li><a href=\"/wiki/List_of_Hong_Kong_exchange-traded_funds\" title=\"List of Hong Kong exchange-traded funds\">List of Hong Kong exchange-traded funds</a></li>, <li><a href=\"/wiki/List_of_Indian_exchange-traded_funds\" title=\"List of Indian exchange-traded funds\">List of Indian exchange-traded funds</a></li>, <li><a href=\"/wiki/List_of_Indonesian_exchange-traded_funds\" title=\"List of Indonesian exchange-traded funds\">List of Indonesian exchange-traded funds</a></li>, <li><a href=\"/wiki/List_of_Japanese_exchange-traded_funds\" title=\"List of Japanese exchange-traded funds\">List of Japanese exchange-traded funds</a></li>, <li><a href=\"/wiki/List_of_New_Zealand_exchange-traded_funds\" title=\"List of New Zealand exchange-traded funds\">List of New Zealand exchange-traded funds</a></li>, <li><a href=\"/wiki/List_of_Singaporean_exchange-traded_funds\" title=\"List of Singaporean exchange-traded funds\">List of Singaporean exchange-traded funds</a></li>, <li><a href=\"/wiki/List_of_South_African_exchange-traded_funds\" title=\"List of South African exchange-traded funds\">List of South African exchange-traded funds</a></li>, <li><a href=\"/wiki/List_of_South_Korean_exchange-traded_funds\" title=\"List of South Korean exchange-traded funds\">List of South Korean exchange-traded funds</a></li>, <li><a href=\"/wiki/List_of_Taiwan_exchange-traded_funds\" title=\"List of Taiwan exchange-traded funds\">List of Taiwan exchange-traded funds</a></li>, <li><a href=\"/wiki/List_of_Turkish_exchange-traded_funds\" title=\"List of Turkish exchange-traded funds\">List of Turkish exchange-traded funds</a></li>, <li><a class=\"external text\" href=\"https://web.archive.org/web/20100329002454/http://pr.tradingmarkets.com/etfs-grouped-by-index.html\" rel=\"nofollow\">ETFs grouped by their Index</a></li>, <li><a href=\"/wiki/Category:Exchange-traded_funds\" title=\"Category:Exchange-traded funds\">Exchange-traded funds</a></li>, <li><a href=\"/wiki/Category:Finance_lists\" title=\"Category:Finance lists\">Finance lists</a></li>, <li><a href=\"/wiki/Category:Articles_with_short_description\" title=\"Category:Articles with short description\">Articles with short description</a></li>, <li><a href=\"/wiki/Category:Short_description_is_different_from_Wikidata\" title=\"Category:Short description is different from Wikidata\">Short description is different from Wikidata</a></li>, <li><a href=\"/wiki/Category:Dynamic_lists\" title=\"Category:Dynamic lists\">Dynamic lists</a></li>, <li><a href=\"/wiki/Category:All_articles_with_unsourced_statements\" title=\"Category:All articles with unsourced statements\">All articles with unsourced statements</a></li>, <li><a href=\"/wiki/Category:Articles_with_unsourced_statements_from_May_2015\" title=\"Category:Articles with unsourced statements from May 2015\">Articles with unsourced statements from May 2015</a></li>]\n",
            "{}\n",
            "\n",
            "\n",
            "Empty DataFrame\n",
            "Columns: []\n",
            "Index: []\n"
          ]
        }
      ]
    },
    {
      "cell_type": "code",
      "source": [
        "#Day 45 BeautifulSoup 웹 스크래핑 => HTML 또는 XML 데이터를 가져올 수 있음 \n",
        "\n",
        "from bs4 import BeautifulSoup\n",
        "import lxml\n",
        "import pandas as pd\n",
        "\n",
        "\n",
        "with open('./website.html', 'r') as file:\n",
        "  contents = file.read()\n",
        "  # print(contents)\n",
        "\n",
        "soup = BeautifulSoup(contents, 'html.parser') # BeautifulSoup 클래스의 객체 인스턴스 생성 \n",
        "# print(soup.title) #<title>Angela's Personal Site</title>\n",
        "# print(soup.title.name) 태그이름\n",
        "# print(soup.title.string) 태그 안에 문자열 나옴 \n",
        "# print(soup.prettify())  html 코드가 들여쓰기 되서 나옴\n",
        "\n",
        "# print(soup.a) # 제일 처음 발견된 a tag\n",
        "# print(soup.li) # 제일 처음 발견된 li tag\n",
        "\n",
        "all_anchor_tags = soup.find_all(name=\"a\") # 모든 해당하는 태그를 찾은 후에 리스트로 반환 \n",
        "# print(all_anchor_tags)\n",
        "# 그렇다면 반환된 것에서 문자열, 링크만 가지고 오고 싶으면? \n",
        "for tag in all_anchor_tags:\n",
        "  # print(tag.getText())\n",
        "  # print(tag.get(\"href\"))\n",
        "  pass\n",
        "\n",
        "heading = soup.find(name=\"h1\", id=\"name\")\n",
        "print(heading)\n",
        "\n",
        "section_heading = soup.find('h3', class_='heading')\n",
        "print(section_heading.getText())\n",
        "print(section_heading.string)\n",
        "print(section_heading.name)\n",
        "print(section_heading.get('class'))\n",
        "\n",
        "company_url = soup.select_one(selector=\"p a \")\n",
        "print(company_url)\n",
        "\n",
        "headings = soup.select(\".heading\")\n",
        "print(headings)\n",
        "\n"
      ],
      "metadata": {
        "colab": {
          "base_uri": "https://localhost:8080/"
        },
        "id": "8NBtBffTzD4V",
        "outputId": "0b9b74e5-213d-4cbe-fc97-1aa2ad9169d2"
      },
      "execution_count": null,
      "outputs": [
        {
          "output_type": "stream",
          "name": "stdout",
          "text": [
            "<h1 id=\"name\">Angela Yu</h1>\n",
            "Books and Teaching\n",
            "Books and Teaching\n",
            "h3\n",
            "['heading']\n",
            "<a href=\"https://www.appbrewery.co/\">The App Brewery</a>\n",
            "[<h3 class=\"heading\">Books and Teaching</h3>, <h3 class=\"heading\">Other Pages</h3>]\n"
          ]
        }
      ]
    },
    {
      "cell_type": "code",
      "source": [
        "# 웹사이트 스크래핑 하기 \n",
        "from bs4 import BeautifulSoup\n",
        "import lxml\n",
        "import pandas as pd\n",
        "import requests\n",
        "\n",
        "response = requests.get(\"https://news.ycombinator.com/news\")\n",
        "\n",
        "yc_web_page = response.text\n",
        "\n",
        "soup = BeautifulSoup(yc_web_page, 'html.parser')\n",
        "# print(soup.title)\n",
        "all_title_lines = soup.select(\".titleline\")\n",
        "\n",
        "article_texts = []\n",
        "article_links = []\n",
        "\n",
        "for title_line in all_title_lines:\n",
        "  article_texts.append(title_line.getText())\n",
        "  article_links.append(title_line.a.get('href'))\n",
        "\n",
        "article_upvotes = [int(score.getText().split(' ')[0]) for score in soup.find_all(name='span', class_='score')]\n",
        "\n",
        "print(article_texts)\n",
        "print(article_links)\n",
        "print(article_upvotes)\n",
        "\n",
        "# article_tag = all_title_lines[0]\n",
        "# print(article_tag)\n",
        "# article_text = article_tag.getText()\n",
        "# print(article_text)\n",
        "# article_link = article_tag.a.get('href')\n",
        "# print(article_link)\n",
        "# article_upvote = soup.select_one(selector='.score').getText()\n",
        "# print(article_upvote)\n",
        "\n",
        "\n",
        "new_list = [[article_texts[idx], article_links[idx], article_upvotes[idx]] for idx in range(len(article_texts))]\n",
        "new_list.sort(key=lambda x: x[2])\n",
        "print(new_list)\n",
        "print(new_list[-1][0])\n"
      ],
      "metadata": {
        "colab": {
          "base_uri": "https://localhost:8080/"
        },
        "id": "wQ0IbrmJ6iJ-",
        "outputId": "308f3bd1-9be5-42cb-8977-eb1252cb0228"
      },
      "execution_count": 79,
      "outputs": [
        {
          "output_type": "stream",
          "name": "stdout",
          "text": [
            "['Unnatural Keys – Nature doesn’t come with identifiers (matt-schellhas.medium.com)', \"Tarkovsky's films online for free (kottke.org)\", 'Large Language Models Do Not Recognize Identifier Swaps in Python (arxiv.org)', 'No_color (no-color.org)', 'A relay that changed the power industry (ieee.org)', 'Requirements (ericsink.com)', 'TV doctors say annual checkups save lives – real doctors call bullshit (2016) (vox.com)', 'WebXR (immersiveweb.dev)', 'Introduction to Algorithms: A Creative Approach by Udi Manber [pdf] (lagout.org)', \"Former Dolphin Team Member Addresses Steam/Valve's Takedown of Dolphin Emulator (delroth.net)\", 'Private Spies Hired by FBI and Corporations Infiltrate Discord, Reddit, WhatsApp (leefang.com)', 'Homebrew Hercules Graphics Card (root42.de)', 'A Novel About Video Games Became a Surprise Best Seller (nytimes.com)', 'Real Property Disposition: Historic lighthouses (gsa.gov)', 'Reflections on Ten Years Past the Snowden Revelations (ietf.org)', 'Integrating Zig and SwiftUI (mitchellh.com)', 'Research Philosophy of Modern Cryptography (iacr.org)', 'The HTTP QUERY Method specification (httpwg.org)', 'Inner workings revealed for “Predator,” Android malware that exploited 5 0-days (arstechnica.com)', 'Southern accents could cost job seekers a 20% wage penalty, study finds (foxbusiness.com)', 'Notes on Stanford Linear Accelerator Center (charlieharrington.com)', 'Java Panama Vector API Integrated with Apache Lucene (github.com/apache)', 'Emily Wilson on Epictetus (lrb.co.uk)', 'Is this octopus having a nightmare? (nytimes.com)', 'Creating a sperm or egg from any cell? Reproduction revolution on the horizon (npr.org)', 'How to mitigate risk from secrets leaks (reversinglabs.com)', 'A Technical Film Report on Project Deep Ops (1972) [video] (youtube.com)', 'About Dolly Parton’s Imagination Library (imaginationlibrary.com)', 'Scar tissues make relationships wear out (2013) (gist.github.com)', '19th century painters may have primed their canvases with beer-brewing leftovers (sciencenews.org)']\n",
            "['https://matt-schellhas.medium.com/unnatural-keys-425a68ee350c', 'https://kottke.org/23/05/watch-tarkovskys-best-films-online-for-free', 'https://arxiv.org/abs/2305.15507', 'https://no-color.org/', 'https://spectrum.ieee.org/relay-changed-the-power-industry', 'https://ericsink.com/articles/Requirements.html', 'https://www.vox.com/science-and-health/2016/9/26/13029358/annual-physical-tv-doctors-america', 'https://immersiveweb.dev/', 'https://doc.lagout.org/science/0_Computer%20Science/2_Algorithms/Introduction%20to%20Algorithms_%20A%20Creative%20Approach%20%5BManber%201989-01-11%5D.pdf', 'https://mastodon.delroth.net/@delroth/110440301402516214', 'https://www.leefang.com/p/private-spies-hired-by-the-fbi-and', 'https://www.root42.de/blog/?p=757', 'https://www.nytimes.com/2023/05/26/books/gabrielle-zevin-tomorrow-and-tomorrow-and-tomorrow.html', 'https://disposal.gsa.gov/s/lighthouseprogram', 'https://www.ietf.org/archive/id/draft-farrell-tenyearsafter-00.html', 'https://mitchellh.com/writing/zig-and-swiftui', 'https://eprint.iacr.org/2023/715', 'https://httpwg.org/http-extensions/draft-ietf-httpbis-safe-method-w-body.html', 'https://arstechnica.com/information-technology/2023/05/inner-workings-revealed-for-predator-the-android-malware-that-exploited-5-0-days/', 'https://www.foxbusiness.com/economy/southern-accents-could-cost-job-seekers-20-wage-penalty-study-finds', 'https://charlieharrington.com/notes-on-slac/', 'https://github.com/apache/lucene/pull/12311', 'https://www.lrb.co.uk/the-paper/v45/n11/emily-wilson/i-have-gorgeous-hair', 'https://www.nytimes.com/2023/05/25/science/octopus-nightmare-dream.html', 'https://www.npr.org/sections/health-shots/2023/05/27/1177191913/sperm-or-egg-in-lab-breakthrough-in-reproduction-designer-babies-ivg', 'https://www.reversinglabs.com/blog/secure-your-development-secrets-3-essential-steps', 'https://www.youtube.com/watch?v=isyO5tQfeqM', 'https://imaginationlibrary.com/about-us/', 'https://gist.github.com/gtallen1187/27a585fcf36d6e657db2', 'https://www.sciencenews.org/article/painting-beer-brew-yeast-art-canvas-denmark']\n",
            "[13, 494, 16, 149, 80, 6, 132, 125, 198, 82, 54, 57, 20, 15, 431, 123, 15, 122, 29, 94, 56, 55, 42, 63, 36, 67, 29, 4, 523, 25]\n",
            "[['About Dolly Parton’s Imagination Library (imaginationlibrary.com)', 'https://imaginationlibrary.com/about-us/', 4], ['Requirements (ericsink.com)', 'https://ericsink.com/articles/Requirements.html', 6], ['Unnatural Keys – Nature doesn’t come with identifiers (matt-schellhas.medium.com)', 'https://matt-schellhas.medium.com/unnatural-keys-425a68ee350c', 13], ['Real Property Disposition: Historic lighthouses (gsa.gov)', 'https://disposal.gsa.gov/s/lighthouseprogram', 15], ['Research Philosophy of Modern Cryptography (iacr.org)', 'https://eprint.iacr.org/2023/715', 15], ['Large Language Models Do Not Recognize Identifier Swaps in Python (arxiv.org)', 'https://arxiv.org/abs/2305.15507', 16], ['A Novel About Video Games Became a Surprise Best Seller (nytimes.com)', 'https://www.nytimes.com/2023/05/26/books/gabrielle-zevin-tomorrow-and-tomorrow-and-tomorrow.html', 20], ['19th century painters may have primed their canvases with beer-brewing leftovers (sciencenews.org)', 'https://www.sciencenews.org/article/painting-beer-brew-yeast-art-canvas-denmark', 25], ['Inner workings revealed for “Predator,” Android malware that exploited 5 0-days (arstechnica.com)', 'https://arstechnica.com/information-technology/2023/05/inner-workings-revealed-for-predator-the-android-malware-that-exploited-5-0-days/', 29], ['A Technical Film Report on Project Deep Ops (1972) [video] (youtube.com)', 'https://www.youtube.com/watch?v=isyO5tQfeqM', 29], ['Creating a sperm or egg from any cell? Reproduction revolution on the horizon (npr.org)', 'https://www.npr.org/sections/health-shots/2023/05/27/1177191913/sperm-or-egg-in-lab-breakthrough-in-reproduction-designer-babies-ivg', 36], ['Emily Wilson on Epictetus (lrb.co.uk)', 'https://www.lrb.co.uk/the-paper/v45/n11/emily-wilson/i-have-gorgeous-hair', 42], ['Private Spies Hired by FBI and Corporations Infiltrate Discord, Reddit, WhatsApp (leefang.com)', 'https://www.leefang.com/p/private-spies-hired-by-the-fbi-and', 54], ['Java Panama Vector API Integrated with Apache Lucene (github.com/apache)', 'https://github.com/apache/lucene/pull/12311', 55], ['Notes on Stanford Linear Accelerator Center (charlieharrington.com)', 'https://charlieharrington.com/notes-on-slac/', 56], ['Homebrew Hercules Graphics Card (root42.de)', 'https://www.root42.de/blog/?p=757', 57], ['Is this octopus having a nightmare? (nytimes.com)', 'https://www.nytimes.com/2023/05/25/science/octopus-nightmare-dream.html', 63], ['How to mitigate risk from secrets leaks (reversinglabs.com)', 'https://www.reversinglabs.com/blog/secure-your-development-secrets-3-essential-steps', 67], ['A relay that changed the power industry (ieee.org)', 'https://spectrum.ieee.org/relay-changed-the-power-industry', 80], [\"Former Dolphin Team Member Addresses Steam/Valve's Takedown of Dolphin Emulator (delroth.net)\", 'https://mastodon.delroth.net/@delroth/110440301402516214', 82], ['Southern accents could cost job seekers a 20% wage penalty, study finds (foxbusiness.com)', 'https://www.foxbusiness.com/economy/southern-accents-could-cost-job-seekers-20-wage-penalty-study-finds', 94], ['The HTTP QUERY Method specification (httpwg.org)', 'https://httpwg.org/http-extensions/draft-ietf-httpbis-safe-method-w-body.html', 122], ['Integrating Zig and SwiftUI (mitchellh.com)', 'https://mitchellh.com/writing/zig-and-swiftui', 123], ['WebXR (immersiveweb.dev)', 'https://immersiveweb.dev/', 125], ['TV doctors say annual checkups save lives – real doctors call bullshit (2016) (vox.com)', 'https://www.vox.com/science-and-health/2016/9/26/13029358/annual-physical-tv-doctors-america', 132], ['No_color (no-color.org)', 'https://no-color.org/', 149], ['Introduction to Algorithms: A Creative Approach by Udi Manber [pdf] (lagout.org)', 'https://doc.lagout.org/science/0_Computer%20Science/2_Algorithms/Introduction%20to%20Algorithms_%20A%20Creative%20Approach%20%5BManber%201989-01-11%5D.pdf', 198], ['Reflections on Ten Years Past the Snowden Revelations (ietf.org)', 'https://www.ietf.org/archive/id/draft-farrell-tenyearsafter-00.html', 431], [\"Tarkovsky's films online for free (kottke.org)\", 'https://kottke.org/23/05/watch-tarkovskys-best-films-online-for-free', 494], ['Scar tissues make relationships wear out (2013) (gist.github.com)', 'https://gist.github.com/gtallen1187/27a585fcf36d6e657db2', 523]]\n",
            "Scar tissues make relationships wear out (2013) (gist.github.com)\n"
          ]
        }
      ]
    },
    {
      "cell_type": "code",
      "source": [],
      "metadata": {
        "id": "U-vWUO7bBO6s"
      },
      "execution_count": null,
      "outputs": []
    }
  ]
}